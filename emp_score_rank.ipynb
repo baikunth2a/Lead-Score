{
  "nbformat": 4,
  "nbformat_minor": 0,
  "metadata": {
    "colab": {
      "name": "emp_score_rank.ipynb",
      "provenance": [],
      "collapsed_sections": [],
      "authorship_tag": "ABX9TyPr4zXEvpbw7GReY6lZQd8g",
      "include_colab_link": true
    },
    "kernelspec": {
      "name": "python3",
      "display_name": "Python 3"
    }
  },
  "cells": [
    {
      "cell_type": "markdown",
      "metadata": {
        "id": "view-in-github",
        "colab_type": "text"
      },
      "source": [
        "<a href=\"https://colab.research.google.com/github/baikunth2a/Lead-Score/blob/master/emp_score_rank.ipynb\" target=\"_parent\"><img src=\"https://colab.research.google.com/assets/colab-badge.svg\" alt=\"Open In Colab\"/></a>"
      ]
    },
    {
      "cell_type": "markdown",
      "metadata": {
        "id": "QIoaZk4ajZ4k",
        "colab_type": "text"
      },
      "source": [
        "#Setup Google Drive File System"
      ]
    },
    {
      "cell_type": "code",
      "metadata": {
        "id": "RzxZQR5oDBs9",
        "colab_type": "code",
        "colab": {
          "base_uri": "https://localhost:8080/",
          "height": 51
        },
        "outputId": "591f8e3d-53b2-43f6-b370-871c92890367"
      },
      "source": [
        "import pandas as pd\n",
        "import sys\n",
        "import os\n",
        "\n",
        "from google.colab import drive\n",
        "drive.mount('/content/gdrive/')\n",
        "sys.path.append('/content/gdrive/My Drive/lead_gen')\n",
        "%cd /content/gdrive/My\\ Drive/lead_gen"
      ],
      "execution_count": 1,
      "outputs": [
        {
          "output_type": "stream",
          "text": [
            "Drive already mounted at /content/gdrive/; to attempt to forcibly remount, call drive.mount(\"/content/gdrive/\", force_remount=True).\n",
            "/content/gdrive/My Drive/lead_gen\n"
          ],
          "name": "stdout"
        }
      ]
    },
    {
      "cell_type": "markdown",
      "metadata": {
        "id": "H4MdhY04XNIr",
        "colab_type": "text"
      },
      "source": [
        "##Loading relevant data "
      ]
    },
    {
      "cell_type": "code",
      "metadata": {
        "id": "PStZIMjW0xjM",
        "colab_type": "code",
        "colab": {}
      },
      "source": [
        "excel_data = pd.read_excel('send_or_not.xlsx', sheet_name='13k')\n",
        "excel_data.rename(columns={'SEND/NOT SEND':'send'}, inplace=True)\n",
        "data_i = excel_data[excel_data['send'].apply(lambda x: x in ['SEND', 'NOT SEND'])]\n",
        "data_i = data_i[['website', 'score' ,'no_of_employees','send']]"
      ],
      "execution_count": 2,
      "outputs": []
    },
    {
      "cell_type": "markdown",
      "metadata": {
        "id": "LHIbal-zXceo",
        "colab_type": "text"
      },
      "source": [
        "###Initial cleaning"
      ]
    },
    {
      "cell_type": "code",
      "metadata": {
        "id": "bVXoV914RSZQ",
        "colab_type": "code",
        "colab": {}
      },
      "source": [
        "def clean(url):\n",
        "  url = url.replace(' ','')\n",
        "  if not 'http' in url:\n",
        "      return str('http://'+url).lower()\n",
        "  else:\n",
        "    return url"
      ],
      "execution_count": 4,
      "outputs": []
    },
    {
      "cell_type": "code",
      "metadata": {
        "id": "5r7rT2UQcxyC",
        "colab_type": "code",
        "colab": {}
      },
      "source": [
        "data_i['website'] = data_i['website'].dropna().apply(clean)"
      ],
      "execution_count": 5,
      "outputs": []
    },
    {
      "cell_type": "markdown",
      "metadata": {
        "id": "YS8Q3qZ04M6k",
        "colab_type": "text"
      },
      "source": [
        "#Website ranking"
      ]
    },
    {
      "cell_type": "code",
      "metadata": {
        "id": "I2iWpoGGkLkL",
        "colab_type": "code",
        "colab": {}
      },
      "source": [
        "w_score = pd.read_excel('Website_classifier/website_score.xlsx')"
      ],
      "execution_count": 6,
      "outputs": []
    },
    {
      "cell_type": "code",
      "metadata": {
        "id": "XfhB5JPVfG1L",
        "colab_type": "code",
        "colab": {
          "base_uri": "https://localhost:8080/",
          "height": 111
        },
        "outputId": "4f70bdab-e318-49d2-e5c9-186fb8c19b73"
      },
      "source": [
        "w_score.head(2)"
      ],
      "execution_count": 7,
      "outputs": [
        {
          "output_type": "execute_result",
          "data": {
            "text/html": [
              "<div>\n",
              "<style scoped>\n",
              "    .dataframe tbody tr th:only-of-type {\n",
              "        vertical-align: middle;\n",
              "    }\n",
              "\n",
              "    .dataframe tbody tr th {\n",
              "        vertical-align: top;\n",
              "    }\n",
              "\n",
              "    .dataframe thead th {\n",
              "        text-align: right;\n",
              "    }\n",
              "</style>\n",
              "<table border=\"1\" class=\"dataframe\">\n",
              "  <thead>\n",
              "    <tr style=\"text-align: right;\">\n",
              "      <th></th>\n",
              "      <th>Unnamed: 0</th>\n",
              "      <th>url</th>\n",
              "      <th>score</th>\n",
              "    </tr>\n",
              "  </thead>\n",
              "  <tbody>\n",
              "    <tr>\n",
              "      <th>0</th>\n",
              "      <td>0</td>\n",
              "      <td>http://cronosmonterrey.com/</td>\n",
              "      <td>8</td>\n",
              "    </tr>\n",
              "    <tr>\n",
              "      <th>1</th>\n",
              "      <td>1</td>\n",
              "      <td>http://www.filtronicssystems.com.mx</td>\n",
              "      <td>23</td>\n",
              "    </tr>\n",
              "  </tbody>\n",
              "</table>\n",
              "</div>"
            ],
            "text/plain": [
              "   Unnamed: 0                                  url  score\n",
              "0           0          http://cronosmonterrey.com/      8\n",
              "1           1  http://www.filtronicssystems.com.mx     23"
            ]
          },
          "metadata": {
            "tags": []
          },
          "execution_count": 7
        }
      ]
    },
    {
      "cell_type": "markdown",
      "metadata": {
        "id": "m5napg5BXgjj",
        "colab_type": "text"
      },
      "source": [
        "###Assigning the ranking value"
      ]
    },
    {
      "cell_type": "code",
      "metadata": {
        "id": "QRhuHsT1mVnU",
        "colab_type": "code",
        "colab": {
          "base_uri": "https://localhost:8080/",
          "height": 102
        },
        "outputId": "f7280bde-a0d1-4137-eabc-5e977a7aaaa5"
      },
      "source": [
        "import numpy as np\n",
        "data_i['rank'] = np.nan\n",
        "for website, score in zip(w_score['url'], w_score['score']):\n",
        "  data_i['rank'].loc[data_i['website'] == website] = score\n",
        "data_i['rank'].fillna(-10, inplace = True)\n",
        "#data_i.dropna(inplace = True)"
      ],
      "execution_count": 8,
      "outputs": [
        {
          "output_type": "stream",
          "text": [
            "/usr/local/lib/python3.6/dist-packages/pandas/core/indexing.py:671: SettingWithCopyWarning: \n",
            "A value is trying to be set on a copy of a slice from a DataFrame\n",
            "\n",
            "See the caveats in the documentation: https://pandas.pydata.org/pandas-docs/stable/user_guide/indexing.html#returning-a-view-versus-a-copy\n",
            "  self._setitem_with_indexer(indexer, value)\n"
          ],
          "name": "stderr"
        }
      ]
    },
    {
      "cell_type": "markdown",
      "metadata": {
        "id": "odqNdquhAG5K",
        "colab_type": "text"
      },
      "source": [
        "#Data Normalization"
      ]
    },
    {
      "cell_type": "code",
      "metadata": {
        "id": "eWgArRxj1wDl",
        "colab_type": "code",
        "colab": {}
      },
      "source": [
        "from sklearn import preprocessing\n",
        "x = data_i[['rank']].values.astype(float)\n",
        "min_max_scaler = preprocessing.MinMaxScaler()\n",
        "x_scaled = min_max_scaler.fit_transform(x)\n",
        "data_i['rank'] = x_scaled\n",
        "data_final = data_i[['no_of_employees', 'score' ,'rank', 'send']].dropna()"
      ],
      "execution_count": 9,
      "outputs": []
    },
    {
      "cell_type": "code",
      "metadata": {
        "id": "_g1yonPOp4to",
        "colab_type": "code",
        "colab": {
          "base_uri": "https://localhost:8080/",
          "height": 111
        },
        "outputId": "67c47c44-dc4e-4289-efe1-57f2ecf956b6"
      },
      "source": [
        "data_final.head(2)"
      ],
      "execution_count": 10,
      "outputs": [
        {
          "output_type": "execute_result",
          "data": {
            "text/html": [
              "<div>\n",
              "<style scoped>\n",
              "    .dataframe tbody tr th:only-of-type {\n",
              "        vertical-align: middle;\n",
              "    }\n",
              "\n",
              "    .dataframe tbody tr th {\n",
              "        vertical-align: top;\n",
              "    }\n",
              "\n",
              "    .dataframe thead th {\n",
              "        text-align: right;\n",
              "    }\n",
              "</style>\n",
              "<table border=\"1\" class=\"dataframe\">\n",
              "  <thead>\n",
              "    <tr style=\"text-align: right;\">\n",
              "      <th></th>\n",
              "      <th>no_of_employees</th>\n",
              "      <th>score</th>\n",
              "      <th>rank</th>\n",
              "      <th>send</th>\n",
              "    </tr>\n",
              "  </thead>\n",
              "  <tbody>\n",
              "    <tr>\n",
              "      <th>0</th>\n",
              "      <td>0 a 5 personas</td>\n",
              "      <td>13.0</td>\n",
              "      <td>0.000000</td>\n",
              "      <td>SEND</td>\n",
              "    </tr>\n",
              "    <tr>\n",
              "      <th>1</th>\n",
              "      <td>6 a 10 personas</td>\n",
              "      <td>8.0</td>\n",
              "      <td>0.370787</td>\n",
              "      <td>NOT SEND</td>\n",
              "    </tr>\n",
              "  </tbody>\n",
              "</table>\n",
              "</div>"
            ],
            "text/plain": [
              "   no_of_employees  score      rank      send\n",
              "0   0 a 5 personas   13.0  0.000000      SEND\n",
              "1  6 a 10 personas    8.0  0.370787  NOT SEND"
            ]
          },
          "metadata": {
            "tags": []
          },
          "execution_count": 10
        }
      ]
    },
    {
      "cell_type": "code",
      "metadata": {
        "id": "FfkRVCOlfYs2",
        "colab_type": "code",
        "colab": {
          "base_uri": "https://localhost:8080/",
          "height": 34
        },
        "outputId": "b8dec910-5560-466a-d71d-172b1d2ab9b2"
      },
      "source": [
        "data_final.shape"
      ],
      "execution_count": 11,
      "outputs": [
        {
          "output_type": "execute_result",
          "data": {
            "text/plain": [
              "(1743, 4)"
            ]
          },
          "metadata": {
            "tags": []
          },
          "execution_count": 11
        }
      ]
    },
    {
      "cell_type": "markdown",
      "metadata": {
        "id": "aQCYpNsc4Uo2",
        "colab_type": "text"
      },
      "source": [
        "#Encoding features"
      ]
    },
    {
      "cell_type": "markdown",
      "metadata": {
        "id": "WXo2UejmSAWv",
        "colab_type": "text"
      },
      "source": [
        "###One hot"
      ]
    },
    {
      "cell_type": "code",
      "metadata": {
        "colab_type": "code",
        "id": "MCy-JSJUGZ-J",
        "colab": {}
      },
      "source": [
        "data = pd.get_dummies(data_final[['no_of_employees', 'rank', 'score']])\n",
        "data['send'] = data_final['send'].astype('category').cat.codes"
      ],
      "execution_count": 12,
      "outputs": []
    },
    {
      "cell_type": "markdown",
      "metadata": {
        "id": "FHbZJYNJSFPA",
        "colab_type": "text"
      },
      "source": [
        "###Label"
      ]
    },
    {
      "cell_type": "code",
      "metadata": {
        "id": "uM30w-poR7-N",
        "colab_type": "code",
        "colab": {}
      },
      "source": [
        "# data = data_final.copy()\n",
        "# rep = {\"no_of_employees\": {\"6 a 10 personas\": 8, \"0 a 5 personas\": 3},\n",
        "#                  \"send\": {\"SEND\": 1, \"NOT SEND\": 0},\n",
        "#                  }\n",
        "# data.replace(rep, inplace=True)"
      ],
      "execution_count": 13,
      "outputs": []
    },
    {
      "cell_type": "code",
      "metadata": {
        "id": "9RXOEU5ST1GD",
        "colab_type": "code",
        "colab": {
          "base_uri": "https://localhost:8080/",
          "height": 80
        },
        "outputId": "49280381-892a-4dec-9d1d-a47a190cb5ec"
      },
      "source": [
        "data.sample()"
      ],
      "execution_count": 14,
      "outputs": [
        {
          "output_type": "execute_result",
          "data": {
            "text/html": [
              "<div>\n",
              "<style scoped>\n",
              "    .dataframe tbody tr th:only-of-type {\n",
              "        vertical-align: middle;\n",
              "    }\n",
              "\n",
              "    .dataframe tbody tr th {\n",
              "        vertical-align: top;\n",
              "    }\n",
              "\n",
              "    .dataframe thead th {\n",
              "        text-align: right;\n",
              "    }\n",
              "</style>\n",
              "<table border=\"1\" class=\"dataframe\">\n",
              "  <thead>\n",
              "    <tr style=\"text-align: right;\">\n",
              "      <th></th>\n",
              "      <th>rank</th>\n",
              "      <th>score</th>\n",
              "      <th>no_of_employees_0 a 5 personas</th>\n",
              "      <th>no_of_employees_6 a 10 personas</th>\n",
              "      <th>send</th>\n",
              "    </tr>\n",
              "  </thead>\n",
              "  <tbody>\n",
              "    <tr>\n",
              "      <th>3013</th>\n",
              "      <td>0.764045</td>\n",
              "      <td>0.0</td>\n",
              "      <td>0</td>\n",
              "      <td>1</td>\n",
              "      <td>0</td>\n",
              "    </tr>\n",
              "  </tbody>\n",
              "</table>\n",
              "</div>"
            ],
            "text/plain": [
              "          rank  score  ...  no_of_employees_6 a 10 personas  send\n",
              "3013  0.764045    0.0  ...                                1     0\n",
              "\n",
              "[1 rows x 5 columns]"
            ]
          },
          "metadata": {
            "tags": []
          },
          "execution_count": 14
        }
      ]
    },
    {
      "cell_type": "markdown",
      "metadata": {
        "id": "TdsY-AtLCAty",
        "colab_type": "text"
      },
      "source": [
        "#Resample to make balanced dataset"
      ]
    },
    {
      "cell_type": "code",
      "metadata": {
        "id": "aeB0rw8DK1cW",
        "colab_type": "code",
        "colab": {}
      },
      "source": [
        "from sklearn.utils import resample\n",
        "df_majority = data[data.send==1]\n",
        "df_minority = data[data.send==0]"
      ],
      "execution_count": 15,
      "outputs": []
    },
    {
      "cell_type": "markdown",
      "metadata": {
        "id": "kwrDTz65AY1E",
        "colab_type": "text"
      },
      "source": [
        "###Upsample"
      ]
    },
    {
      "cell_type": "code",
      "metadata": {
        "id": "DLhxrnDPLMS_",
        "colab_type": "code",
        "colab": {
          "base_uri": "https://localhost:8080/",
          "height": 68
        },
        "outputId": "03d41ed7-b02a-4ab9-b527-bdd5d6e10a4c"
      },
      "source": [
        "df_minority_upsampled = resample(df_minority, \n",
        "                                 replace=True,\n",
        "                                 n_samples=df_majority.shape[0],\n",
        "                                 random_state=120)\n",
        "\n",
        "df_sampled = pd.concat([df_majority, df_minority_upsampled])\n",
        "df_sampled.send.value_counts()"
      ],
      "execution_count": 16,
      "outputs": [
        {
          "output_type": "execute_result",
          "data": {
            "text/plain": [
              "1    1065\n",
              "0    1065\n",
              "Name: send, dtype: int64"
            ]
          },
          "metadata": {
            "tags": []
          },
          "execution_count": 16
        }
      ]
    },
    {
      "cell_type": "markdown",
      "metadata": {
        "id": "hQc8wkcsAbNq",
        "colab_type": "text"
      },
      "source": [
        "###Downsample"
      ]
    },
    {
      "cell_type": "code",
      "metadata": {
        "colab_type": "code",
        "id": "_kx5LXLM-Rmx",
        "colab": {}
      },
      "source": [
        "# df_majority_down_sampled = resample(df_majority, \n",
        "#                                  replace=True,\n",
        "#                                  n_samples=df_minority.shape[0],\n",
        "#                                  random_state=120)\n",
        "\n",
        "# df_sampled = pd.concat([df_minority, df_majority_down_sampled])\n",
        "# df_sampled.send.value_counts()"
      ],
      "execution_count": 17,
      "outputs": []
    },
    {
      "cell_type": "markdown",
      "metadata": {
        "id": "LNmxqRpkTzp5",
        "colab_type": "text"
      },
      "source": [
        "###Unbalanced Dataset"
      ]
    },
    {
      "cell_type": "code",
      "metadata": {
        "id": "RC8n7k38TyOr",
        "colab_type": "code",
        "colab": {}
      },
      "source": [
        "X = data.values[:, :-1].astype(float)\n",
        "y = data.values[:, -1].astype(float)"
      ],
      "execution_count": 18,
      "outputs": []
    },
    {
      "cell_type": "markdown",
      "metadata": {
        "id": "9u27XJoMT4nq",
        "colab_type": "text"
      },
      "source": [
        "###Balanced Dataset"
      ]
    },
    {
      "cell_type": "code",
      "metadata": {
        "id": "fQKt6sC4x6vF",
        "colab_type": "code",
        "colab": {}
      },
      "source": [
        "# X = df_sampled.values[:, :-1].astype(float)\n",
        "# y = df_sampled.values[:, -1].astype(float)"
      ],
      "execution_count": 19,
      "outputs": []
    },
    {
      "cell_type": "markdown",
      "metadata": {
        "id": "_iPuVfYdpd8t",
        "colab_type": "text"
      },
      "source": [
        "#Decision Tree Classifier"
      ]
    },
    {
      "cell_type": "code",
      "metadata": {
        "colab_type": "code",
        "id": "Zm6xLtalfvuu",
        "colab": {}
      },
      "source": [
        "from sklearn.model_selection import train_test_split\n",
        "X_train, X_test, y_train, y_test = train_test_split(X, y, stratify=y, test_size=0.3, random_state=123)"
      ],
      "execution_count": 20,
      "outputs": []
    },
    {
      "cell_type": "code",
      "metadata": {
        "id": "RY8Okte53AxK",
        "colab_type": "code",
        "colab": {
          "base_uri": "https://localhost:8080/",
          "height": 71
        },
        "outputId": "1091ad88-fdaa-4a45-c21a-dc70d3044381"
      },
      "source": [
        "from sklearn.pipeline import make_pipeline\n",
        "from sklearn.ensemble import RandomForestRegressor\n",
        "from sklearn.model_selection import GridSearchCV\n",
        "from sklearn import metrics\n",
        "from sklearn.metrics import mean_squared_error, r2_score\n",
        "from sklearn.externals import joblib"
      ],
      "execution_count": 21,
      "outputs": [
        {
          "output_type": "stream",
          "text": [
            "/usr/local/lib/python3.6/dist-packages/sklearn/externals/joblib/__init__.py:15: FutureWarning: sklearn.externals.joblib is deprecated in 0.21 and will be removed in 0.23. Please import this functionality directly from joblib, which can be installed with: pip install joblib. If this warning is raised when loading pickled models, you may need to re-serialize those models with scikit-learn 0.21+.\n",
            "  warnings.warn(msg, category=FutureWarning)\n"
          ],
          "name": "stderr"
        }
      ]
    },
    {
      "cell_type": "code",
      "metadata": {
        "id": "ixgUWBms4bWd",
        "colab_type": "code",
        "colab": {}
      },
      "source": [
        "pipeline = make_pipeline(preprocessing.StandardScaler(), \n",
        "                         RandomForestRegressor(n_estimators=100))"
      ],
      "execution_count": 22,
      "outputs": []
    },
    {
      "cell_type": "code",
      "metadata": {
        "id": "elmU-phW4tyc",
        "colab_type": "code",
        "colab": {}
      },
      "source": [
        "hyperparameters = { 'randomforestregressor__max_features' : ['auto', 'sqrt', 'log2'],\n",
        "                  'randomforestregressor__max_depth': [None, 5, 3, 1]}"
      ],
      "execution_count": 23,
      "outputs": []
    },
    {
      "cell_type": "code",
      "metadata": {
        "id": "VijcKQ-14zyg",
        "colab_type": "code",
        "colab": {}
      },
      "source": [
        "clf = GridSearchCV(pipeline, hyperparameters, cv=10)\n",
        "clf.fit(X_train, y_train);"
      ],
      "execution_count": 24,
      "outputs": []
    },
    {
      "cell_type": "code",
      "metadata": {
        "id": "2B8nhxtY8qNj",
        "colab_type": "code",
        "colab": {}
      },
      "source": [
        "y_pred_i = clf.predict(X_test)"
      ],
      "execution_count": 25,
      "outputs": []
    },
    {
      "cell_type": "code",
      "metadata": {
        "id": "uiO79zT46fYz",
        "colab_type": "code",
        "colab": {}
      },
      "source": [
        "y_pred = [1 if yy>0.5 else 0 for yy in y_pred_i]"
      ],
      "execution_count": 26,
      "outputs": []
    },
    {
      "cell_type": "code",
      "metadata": {
        "id": "ryu9oKzSpPvu",
        "colab_type": "code",
        "colab": {
          "base_uri": "https://localhost:8080/",
          "height": 34
        },
        "outputId": "9a2530df-ed7b-4eac-8513-68a6d90a36ff"
      },
      "source": [
        "print(\"Accuracy:\",metrics.accuracy_score(y_test, y_pred))"
      ],
      "execution_count": 27,
      "outputs": [
        {
          "output_type": "stream",
          "text": [
            "Accuracy: 0.7590822179732314\n"
          ],
          "name": "stdout"
        }
      ]
    },
    {
      "cell_type": "code",
      "metadata": {
        "id": "fXPA3qQiPxAx",
        "colab_type": "code",
        "colab": {
          "base_uri": "https://localhost:8080/",
          "height": 349
        },
        "outputId": "e210a728-b136-41b1-9e8e-693b0b73d188"
      },
      "source": [
        "from sklearn import metrics\n",
        "import seaborn as sns\n",
        "import matplotlib.pyplot as plt     \n",
        "cm = metrics.confusion_matrix(y_test, y_pred)\n",
        "ax= plt.subplot()\n",
        "sns.heatmap(cm, annot=True, ax = ax); \n",
        "ax.set_xlabel('Predicted labels');ax.set_ylabel('True labels'); \n",
        "ax.set_title('Confusion Matrix'); \n",
        "ax.xaxis.set_ticklabels(['NOT SEND', 'SEND']); ax.yaxis.set_ticklabels(['NOT SEND', 'SEND']);"
      ],
      "execution_count": 28,
      "outputs": [
        {
          "output_type": "stream",
          "text": [
            "/usr/local/lib/python3.6/dist-packages/statsmodels/tools/_testing.py:19: FutureWarning: pandas.util.testing is deprecated. Use the functions in the public API at pandas.testing instead.\n",
            "  import pandas.util.testing as tm\n"
          ],
          "name": "stderr"
        },
        {
          "output_type": "display_data",
          "data": {
            "image/png": "[encoded data removed]",
            "text/plain": [
              "<Figure size 432x288 with 2 Axes>"
            ]
          },
          "metadata": {
            "tags": [],
            "needs_background": "light"
          }
        }
      ]
    },
    {
      "cell_type": "code",
      "metadata": {
        "id": "BaeXkPvK5YfR",
        "colab_type": "code",
        "colab": {
          "base_uri": "https://localhost:8080/",
          "height": 51
        },
        "outputId": "00277237-de61-4a16-a861-6a32bfc01ce6"
      },
      "source": [
        "print(r2_score(y_test, y_pred_i))\n",
        "print(mean_squared_error(y_test, y_pred_i))"
      ],
      "execution_count": 29,
      "outputs": [
        {
          "output_type": "stream",
          "text": [
            "0.2668031186664075\n",
            "0.1741258492204855\n"
          ],
          "name": "stdout"
        }
      ]
    },
    {
      "cell_type": "code",
      "metadata": {
        "id": "BXVZQzXM5Iur",
        "colab_type": "code",
        "colab": {}
      },
      "source": [
        "joblib.dump(clf, 'em_score_rank.pkl')\n",
        "# clf_open = joblib.load('rf_regressor.pkl')\n",
        "# clf_open.predict(X_test)\n",
        "# result = [1 if yy>0.5 else 0 for yy in clf_open.predict(X_test)]"
      ],
      "execution_count": 30,
      "outputs": []
    },
    {
      "cell_type": "code",
      "metadata": {
        "id": "UUTLbClpRvxM",
        "colab_type": "code",
        "colab": {}
      },
      "source": [
        ""
      ],
      "execution_count": 30,
      "outputs": []
    }
  ]
}