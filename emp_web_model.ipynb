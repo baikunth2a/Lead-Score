{
  "nbformat": 4,
  "nbformat_minor": 0,
  "metadata": {
    "colab": {
      "name": "emp_web_model.ipynb",
      "provenance": [],
      "authorship_tag": "ABX9TyND6U7jMg52c5s6Yr/PdBs5"
    },
    "kernelspec": {
      "name": "python3",
      "display_name": "Python 3"
    }
  },
  "cells": [
    {
      "cell_type": "markdown",
      "metadata": {
        "id": "n0zczrDWi_Y1",
        "colab_type": "text"
      },
      "source": [
        "#Setup Chromium Driver"
      ]
    },
    {
      "cell_type": "code",
      "metadata": {
        "id": "F9iTyLvHBDha",
        "colab_type": "code",
        "colab": {
          "base_uri": "https://localhost:8080/",
          "height": 1000
        },
        "outputId": "c59cdca4-c584-4470-fd29-9a8d644ea872"
      },
      "source": [
        "!apt-get update\n",
        "!apt install chromium-chromedriver\n",
        "!pip install selenium\n",
        "!cp /usr/lib/chromium-browser/chromedriver /usr/bin"
      ],
      "execution_count": 1,
      "outputs": [
        {
          "output_type": "stream",
          "text": [
            "\r0% [Working]\r            \rGet:1 https://cloud.r-project.org/bin/linux/ubuntu bionic-cran35/ InRelease [3,626 B]\n",
            "\r0% [Connecting to archive.ubuntu.com (91.189.88.152)] [Connecting to security.u\r0% [Connecting to archive.ubuntu.com (91.189.88.152)] [Connecting to security.u\r0% [1 InRelease gpgv 3,626 B] [Connecting to archive.ubuntu.com (91.189.88.152)\r                                                                               \rIgn:2 https://developer.download.nvidia.com/compute/cuda/repos/ubuntu1804/x86_64  InRelease\n",
            "Ign:3 https://developer.download.nvidia.com/compute/machine-learning/repos/ubuntu1804/x86_64  InRelease\n",
            "Hit:4 https://developer.download.nvidia.com/compute/cuda/repos/ubuntu1804/x86_64  Release\n",
            "Hit:5 https://developer.download.nvidia.com/compute/machine-learning/repos/ubuntu1804/x86_64  Release\n",
            "Hit:6 http://archive.ubuntu.com/ubuntu bionic InRelease\n",
            "Get:7 http://security.ubuntu.com/ubuntu bionic-security InRelease [88.7 kB]\n",
            "Get:8 http://ppa.launchpad.net/graphics-drivers/ppa/ubuntu bionic InRelease [21.3 kB]\n",
            "Get:9 https://cloud.r-project.org/bin/linux/ubuntu bionic-cran35/ Packages [95.7 kB]\n",
            "Get:10 http://archive.ubuntu.com/ubuntu bionic-updates InRelease [88.7 kB]\n",
            "Get:12 http://ppa.launchpad.net/marutter/c2d4u3.5/ubuntu bionic InRelease [15.4 kB]\n",
            "Get:14 http://archive.ubuntu.com/ubuntu bionic-backports InRelease [74.6 kB]\n",
            "Get:15 http://ppa.launchpad.net/graphics-drivers/ppa/ubuntu bionic/main amd64 Packages [43.0 kB]\n",
            "Get:16 http://security.ubuntu.com/ubuntu bionic-security/main amd64 Packages [1,045 kB]\n",
            "Get:17 http://archive.ubuntu.com/ubuntu bionic-updates/main amd64 Packages [1,341 kB]\n",
            "Get:18 http://ppa.launchpad.net/marutter/c2d4u3.5/ubuntu bionic/main Sources [1,863 kB]\n",
            "Get:19 http://security.ubuntu.com/ubuntu bionic-security/universe amd64 Packages [890 kB]\n",
            "Get:20 http://archive.ubuntu.com/ubuntu bionic-updates/universe amd64 Packages [1,418 kB]\n",
            "Get:21 http://ppa.launchpad.net/marutter/c2d4u3.5/ubuntu bionic/main amd64 Packages [899 kB]\n",
            "Fetched 7,888 kB in 4s (1,891 kB/s)\n",
            "Reading package lists... Done\n",
            "Reading package lists... Done\n",
            "Building dependency tree       \n",
            "Reading state information... Done\n",
            "The following package was automatically installed and is no longer required:\n",
            "  libnvidia-common-440\n",
            "Use 'apt autoremove' to remove it.\n",
            "The following additional packages will be installed:\n",
            "  chromium-browser chromium-browser-l10n chromium-codecs-ffmpeg-extra\n",
            "Suggested packages:\n",
            "  webaccounts-chromium-extension unity-chromium-extension adobe-flashplugin\n",
            "The following NEW packages will be installed:\n",
            "  chromium-browser chromium-browser-l10n chromium-chromedriver\n",
            "  chromium-codecs-ffmpeg-extra\n",
            "0 upgraded, 4 newly installed, 0 to remove and 60 not upgraded.\n",
            "Need to get 76.2 MB of archives.\n",
            "After this operation, 255 MB of additional disk space will be used.\n",
            "Get:1 http://archive.ubuntu.com/ubuntu bionic-updates/universe amd64 chromium-codecs-ffmpeg-extra amd64 84.0.4147.105-0ubuntu0.18.04.1 [1,118 kB]\n",
            "Get:2 http://archive.ubuntu.com/ubuntu bionic-updates/universe amd64 chromium-browser amd64 84.0.4147.105-0ubuntu0.18.04.1 [67.4 MB]\n",
            "Get:3 http://archive.ubuntu.com/ubuntu bionic-updates/universe amd64 chromium-browser-l10n all 84.0.4147.105-0ubuntu0.18.04.1 [3,379 kB]\n",
            "Get:4 http://archive.ubuntu.com/ubuntu bionic-updates/universe amd64 chromium-chromedriver amd64 84.0.4147.105-0ubuntu0.18.04.1 [4,354 kB]\n",
            "Fetched 76.2 MB in 5s (15.7 MB/s)\n",
            "Selecting previously unselected package chromium-codecs-ffmpeg-extra.\n",
            "(Reading database ... 144579 files and directories currently installed.)\n",
            "Preparing to unpack .../chromium-codecs-ffmpeg-extra_84.0.4147.105-0ubuntu0.18.04.1_amd64.deb ...\n",
            "Unpacking chromium-codecs-ffmpeg-extra (84.0.4147.105-0ubuntu0.18.04.1) ...\n",
            "Selecting previously unselected package chromium-browser.\n",
            "Preparing to unpack .../chromium-browser_84.0.4147.105-0ubuntu0.18.04.1_amd64.deb ...\n",
            "Unpacking chromium-browser (84.0.4147.105-0ubuntu0.18.04.1) ...\n",
            "Selecting previously unselected package chromium-browser-l10n.\n",
            "Preparing to unpack .../chromium-browser-l10n_84.0.4147.105-0ubuntu0.18.04.1_all.deb ...\n",
            "Unpacking chromium-browser-l10n (84.0.4147.105-0ubuntu0.18.04.1) ...\n",
            "Selecting previously unselected package chromium-chromedriver.\n",
            "Preparing to unpack .../chromium-chromedriver_84.0.4147.105-0ubuntu0.18.04.1_amd64.deb ...\n",
            "Unpacking chromium-chromedriver (84.0.4147.105-0ubuntu0.18.04.1) ...\n",
            "Setting up chromium-codecs-ffmpeg-extra (84.0.4147.105-0ubuntu0.18.04.1) ...\n",
            "Setting up chromium-browser (84.0.4147.105-0ubuntu0.18.04.1) ...\n",
            "update-alternatives: using /usr/bin/chromium-browser to provide /usr/bin/x-www-browser (x-www-browser) in auto mode\n",
            "update-alternatives: using /usr/bin/chromium-browser to provide /usr/bin/gnome-www-browser (gnome-www-browser) in auto mode\n",
            "Setting up chromium-chromedriver (84.0.4147.105-0ubuntu0.18.04.1) ...\n",
            "Setting up chromium-browser-l10n (84.0.4147.105-0ubuntu0.18.04.1) ...\n",
            "Processing triggers for hicolor-icon-theme (0.17-2) ...\n",
            "Processing triggers for mime-support (3.60ubuntu1) ...\n",
            "Processing triggers for man-db (2.8.3-2ubuntu0.1) ...\n",
            "Collecting selenium\n",
            "\u001b[?25l  Downloading https://files.pythonhosted.org/packages/80/d6/4294f0b4bce4de0abf13e17190289f9d0613b0a44e5dd6a7f5ca98459853/selenium-3.141.0-py2.py3-none-any.whl (904kB)\n",
            "\u001b[K     |████████████████████████████████| 911kB 4.1MB/s \n",
            "\u001b[?25hRequirement already satisfied: urllib3 in /usr/local/lib/python3.6/dist-packages (from selenium) (1.24.3)\n",
            "Installing collected packages: selenium\n",
            "Successfully installed selenium-3.141.0\n",
            "cp: '/usr/lib/chromium-browser/chromedriver' and '/usr/bin/chromedriver' are the same file\n"
          ],
          "name": "stdout"
        }
      ]
    },
    {
      "cell_type": "markdown",
      "metadata": {
        "id": "QIoaZk4ajZ4k",
        "colab_type": "text"
      },
      "source": [
        "#Setup Google Drive File System"
      ]
    },
    {
      "cell_type": "code",
      "metadata": {
        "id": "RzxZQR5oDBs9",
        "colab_type": "code",
        "colab": {
          "base_uri": "https://localhost:8080/",
          "height": 139
        },
        "outputId": "cb543a20-5c2b-4a13-ce28-fff0a3ea57cd"
      },
      "source": [
        "import pandas as pd\n",
        "import sys\n",
        "import os\n",
        "\n",
        "from google.colab import drive\n",
        "drive.mount('/content/gdrive/')\n",
        "sys.path.append('/content/gdrive/My Drive/lead_gen')\n",
        "%cd /content/gdrive/My\\ Drive/lead_gen"
      ],
      "execution_count": 2,
      "outputs": [
        {
          "output_type": "stream",
          "text": [
            "Go to this URL in a browser: https://accounts.google.com/o/oauth2/auth?client_id=947318989803-6bn6qk8qdgf4n4g3pfee6491hc0brc4i.apps.googleusercontent.com&redirect_uri=urn%3aietf%3awg%3aoauth%3a2.0%3aoob&scope=email%20https%3a%2f%2fwww.googleapis.com%2fauth%2fdocs.test%20https%3a%2f%2fwww.googleapis.com%2fauth%2fdrive%20https%3a%2f%2fwww.googleapis.com%2fauth%2fdrive.photos.readonly%20https%3a%2f%2fwww.googleapis.com%2fauth%2fpeopleapi.readonly&response_type=code\n",
            "\n",
            "Enter your authorization code:\n",
            "··········\n",
            "Mounted at /content/gdrive/\n",
            "/content/gdrive/My Drive/lead_gen\n"
          ],
          "name": "stdout"
        }
      ]
    },
    {
      "cell_type": "code",
      "metadata": {
        "id": "PStZIMjW0xjM",
        "colab_type": "code",
        "colab": {}
      },
      "source": [
        "excel_data = pd.read_excel('send_or_not.xlsx', sheet_name='13k')\n",
        "excel_data.rename(columns={'SEND/NOT SEND':'send'}, inplace=True)\n",
        "data_i = excel_data[excel_data['send'].apply(lambda x: x in ['SEND', 'NOT SEND'])]"
      ],
      "execution_count": 3,
      "outputs": []
    },
    {
      "cell_type": "code",
      "metadata": {
        "id": "q8Fi9KaBpuVt",
        "colab_type": "code",
        "colab": {
          "base_uri": "https://localhost:8080/",
          "height": 34
        },
        "outputId": "a0d17d57-a76f-40c6-ca74-c411f22e91bc"
      },
      "source": [
        "data_i.shape"
      ],
      "execution_count": 4,
      "outputs": [
        {
          "output_type": "execute_result",
          "data": {
            "text/plain": [
              "(1743, 50)"
            ]
          },
          "metadata": {
            "tags": []
          },
          "execution_count": 4
        }
      ]
    },
    {
      "cell_type": "markdown",
      "metadata": {
        "id": "YS8Q3qZ04M6k",
        "colab_type": "text"
      },
      "source": [
        "#Website ranking"
      ]
    },
    {
      "cell_type": "markdown",
      "metadata": {
        "id": "LdHNddvh5cFV",
        "colab_type": "text"
      },
      "source": [
        "###Read only unique websites"
      ]
    },
    {
      "cell_type": "code",
      "metadata": {
        "id": "0jNFu4uM4OMe",
        "colab_type": "code",
        "colab": {
          "base_uri": "https://localhost:8080/",
          "height": 34
        },
        "outputId": "06451fbe-8d49-4c6c-c235-17667d8ae8d9"
      },
      "source": [
        "data_i['website'].duplicated().sum()"
      ],
      "execution_count": 5,
      "outputs": [
        {
          "output_type": "execute_result",
          "data": {
            "text/plain": [
              "817"
            ]
          },
          "metadata": {
            "tags": []
          },
          "execution_count": 5
        }
      ]
    },
    {
      "cell_type": "code",
      "metadata": {
        "id": "s16vTx2gOpYW",
        "colab_type": "code",
        "colab": {}
      },
      "source": [
        "w_test = pd.DataFrame(data_i['website'].dropna().unique(), columns = ['web'])"
      ],
      "execution_count": 6,
      "outputs": []
    },
    {
      "cell_type": "code",
      "metadata": {
        "id": "F_iw_ZpxROXB",
        "colab_type": "code",
        "colab": {
          "base_uri": "https://localhost:8080/",
          "height": 204
        },
        "outputId": "d9e99db3-8672-4712-e2fa-af17a524ac1e"
      },
      "source": [
        "w_test.head()"
      ],
      "execution_count": 7,
      "outputs": [
        {
          "output_type": "execute_result",
          "data": {
            "text/html": [
              "<div>\n",
              "<style scoped>\n",
              "    .dataframe tbody tr th:only-of-type {\n",
              "        vertical-align: middle;\n",
              "    }\n",
              "\n",
              "    .dataframe tbody tr th {\n",
              "        vertical-align: top;\n",
              "    }\n",
              "\n",
              "    .dataframe thead th {\n",
              "        text-align: right;\n",
              "    }\n",
              "</style>\n",
              "<table border=\"1\" class=\"dataframe\">\n",
              "  <thead>\n",
              "    <tr style=\"text-align: right;\">\n",
              "      <th></th>\n",
              "      <th>web</th>\n",
              "    </tr>\n",
              "  </thead>\n",
              "  <tbody>\n",
              "    <tr>\n",
              "      <th>0</th>\n",
              "      <td>WWW.FILTRONICSSYSTEMS.COM.MX</td>\n",
              "    </tr>\n",
              "    <tr>\n",
              "      <th>1</th>\n",
              "      <td>WWW.CLINICAARCE.COM.MX</td>\n",
              "    </tr>\n",
              "    <tr>\n",
              "      <th>2</th>\n",
              "      <td>http://cronosmonterrey.com/</td>\n",
              "    </tr>\n",
              "    <tr>\n",
              "      <th>3</th>\n",
              "      <td>WWW.AVANCEEMPRESARIAL.COM</td>\n",
              "    </tr>\n",
              "    <tr>\n",
              "      <th>4</th>\n",
              "      <td>WWW.VIAJESRANGEL.COM.MX</td>\n",
              "    </tr>\n",
              "  </tbody>\n",
              "</table>\n",
              "</div>"
            ],
            "text/plain": [
              "                            web\n",
              "0  WWW.FILTRONICSSYSTEMS.COM.MX\n",
              "1        WWW.CLINICAARCE.COM.MX\n",
              "2   http://cronosmonterrey.com/\n",
              "3     WWW.AVANCEEMPRESARIAL.COM\n",
              "4       WWW.VIAJESRANGEL.COM.MX"
            ]
          },
          "metadata": {
            "tags": []
          },
          "execution_count": 7
        }
      ]
    },
    {
      "cell_type": "markdown",
      "metadata": {
        "id": "rOXjtrVt5ijx",
        "colab_type": "text"
      },
      "source": [
        "Check the size of unique websites"
      ]
    },
    {
      "cell_type": "code",
      "metadata": {
        "id": "_PtkjqBBRnva",
        "colab_type": "code",
        "colab": {
          "base_uri": "https://localhost:8080/",
          "height": 34
        },
        "outputId": "c7c0f454-54be-492a-9394-018b9d83391d"
      },
      "source": [
        "w_test.shape"
      ],
      "execution_count": 8,
      "outputs": [
        {
          "output_type": "execute_result",
          "data": {
            "text/plain": [
              "(925, 1)"
            ]
          },
          "metadata": {
            "tags": []
          },
          "execution_count": 8
        }
      ]
    },
    {
      "cell_type": "markdown",
      "metadata": {
        "id": "KtM25uBr5rIz",
        "colab_type": "text"
      },
      "source": [
        "###Running the classification script"
      ]
    },
    {
      "cell_type": "markdown",
      "metadata": {
        "id": "Yx6cwW125ToT",
        "colab_type": "text"
      },
      "source": [
        "Importing Classification Script"
      ]
    },
    {
      "cell_type": "code",
      "metadata": {
        "id": "I2iWpoGGkLkL",
        "colab_type": "code",
        "colab": {}
      },
      "source": [
        "import wc\n",
        "wc.dict1={}"
      ],
      "execution_count": 9,
      "outputs": []
    },
    {
      "cell_type": "code",
      "metadata": {
        "id": "EVaWi_id4nKf",
        "colab_type": "code",
        "colab": {
          "base_uri": "https://localhost:8080/",
          "height": 1000
        },
        "outputId": "ed684012-e20a-4e2d-821a-b5e088a28092"
      },
      "source": [
        "#need to optimize\n",
        "i=0\n",
        "for websites in w_test['web']:\n",
        "  wc.driver = wc.webdriver.Chrome('chromedriver',options=wc.chrome_options)\n",
        "  wc.main_func(str(websites))\n",
        "  i=i+1\n",
        "  print(\"Current session is {} - {} - {} - {}\".format(wc.driver.session_id, i, str(websites), wc.dict1[str(websites)]))\n",
        "  wc.driver.close()"
      ],
      "execution_count": 10,
      "outputs": [
        {
          "output_type": "stream",
          "text": [
            "Current session is 2bdfea7297986f14ae67d7d640afda26 - 1 - WWW.FILTRONICSSYSTEMS.COM.MX - Website Down\n",
            "Current session is dda8fd616d92aa3316d07f7ddd75af81 - 2 - WWW.CLINICAARCE.COM.MX - Bad\n",
            "Current session is 83bc81e1229037a726cdeba9a9cb21b7 - 3 - http://cronosmonterrey.com/ - Bad\n",
            "Current session is 4fbe30dfb95eace8883c69f319ccc08b - 4 - WWW.AVANCEEMPRESARIAL.COM - Bad\n",
            "Current session is 66f886bbfdaf32f30f5d1a25818a6df0 - 5 - WWW.VIAJESRANGEL.COM.MX - Good\n",
            "Current session is 1ad75399d50f9a5725b02aea8b5cca30 - 6 - WWW.EENAV.COM - Good\n",
            "Current session is e0bd3e035ca88334850691d39e1b4eaf - 7 - WWW.FYPEXHERRAMENTAL.COM - Good\n",
            "Current session is 87374e7cdcad4f9c9c4e168479a54e6f - 8 - http://zona572.com/~agripro/ - Bad\n",
            "Current session is 678d89ef5eea9af3cdf2968e8dab7913 - 9 - WWW.GLOBEI.COM.MX - Good\n",
            "Current session is 713d9d86ced64a758bf23d73d8cdb82a - 10 - http://www.gdtrailers.com/ - Good\n",
            "Current session is d3a5be1fbf5b5fa16efecb9b666e42ea - 11 - https://despachocrisostomo.com.mx/ - Good\n",
            "Current session is 7e5d0274fdf5920fb1e2e59f634f7b08 - 12 - caescontadores.com - Bad\n",
            "Current session is d76118d9de421e486f849c4b4434b461 - 13 - https://getconsultoria.com/ - Good\n",
            "Current session is 7121ab80db59a6cbd791eccb10e57f0e - 14 - WWW.STJ.GOB.MX - Bad\n",
            "Current session is 166efd230e9dfb60cb81d76d9310ff49 - 15 - WWW.ARANZAYASOCIADOS.COM.MX - Website Down\n",
            "Current session is c765ac22be4e134730a1a8322b6924bb - 16 - WWW.SOFFICABALLERO.COM - Website Down\n",
            "Current session is f52698ab481ff3f4c970b5364642e21a - 17 - https://despachopenaldemandayembargo.com.mx/ - Good\n",
            "Current session is a19e11d7988d68b3f4d695c84d37e839 - 18 - WWW.BARDAHL.COM.MX - Good\n",
            "Current session is fb54d7823057055d5f0efe9abe833eaf - 19 - WWW.FESTO.COM.MX - Good\n",
            "Current session is 9c98edb480ce0670b803cc482550a3e7 - 20 - http://festo.com/hq/en/cms/festo.htm - Bad\n",
            "Current session is 8a211502d44b039de59bf00500c03e42 - 21 - WWW.CASARECA.COM - Good\n",
            "Current session is e1ed1b9bab399df18289ec5ce4d1ffa2 - 22 - WWW.PINTACOMEX.COM.MX - Good\n",
            "Current session is e0101b118832f3ffc811020544d59e95 - 23 - http://aguasoluciones.com.mx/ - Good\n",
            "Current session is 8e0664b9de0de23d606d94e7d4130871 - 24 - WWW.BACHEMIX.COM - Good\n",
            "Current session is 67479949eff3a89a018dcc1d7bdf0968 - 25 - WWW.CATSACONCRETOS.MX - Good\n",
            "Current session is 1f34315d8ebe3a02ee0477853e7bd4c2 - 26 - https://www.grupopascal.com.mx/ - Good\n",
            "Current session is 680e94d6c5bbea2b5d49ed8fb5a720e0 - 27 - garbersc.com - Website Down\n",
            "Current session is bbfc7839b6f398eb2125eb54ab77208a - 28 - WWW.AXNET.COM.MX - Good\n",
            "Current session is e17ed74234aeb3475b12870e882fe1f2 - 29 - WWW.EDIN.MX - Bad\n",
            "Current session is 40d6c1e4b86ed46baea23613364402a6 - 30 - WWW.TUFESA.COM.MX - Good\n",
            "Current session is 6e1922772dd715bb85640efec754deaa - 31 - http://www.juliandeobregon.com.mx/ - Good\n",
            "Current session is e12255b9d5b5372895c84f5340ac3901 - 32 - http://servifront.com.mx/ - Good\n",
            "Current session is 8bd23cb1d76cb423ea19fcd6ab5cb95a - 33 - WWW.CUADRITOS.MX - Bad\n",
            "Current session is 86d4185d8bbf763b57e3d6a1de7b2594 - 34 - WWW.FUGRO.COM - Good\n",
            "Current session is 9c641e5546b4da7799e061b6bc664875 - 35 - HTTP://WWW.FUGRO.COM - Website Down\n",
            "Current session is 739b7895e53c67546ce21f4b7744607d - 36 - https://factor02.com/ - Website Down\n",
            "Current session is 49091b663b022982a4cee5fff8a86464 - 37 - http://eseeni.com/ - Website Down\n",
            "Current session is 30cebc39aaa70f1d2aa520126dc6f8ba - 38 - WWW.ARANZAZU.COM.MX - Good\n",
            "Current session is 6d485cb117df6e59c03f911c19fa7d97 - 39 - https://blarneycastlecabo.com/ - Good\n",
            "Current session is 09d6a91926cc98205aa4f914ed99aceb - 40 - WWW.MACTUARIAL.COM.MX - Good\n",
            "Current session is 7395f61b7bb20ae3b924b0ce09177462 - 41 - https://proagroseguros.com.mx/ - Good\n",
            "Current session is d951d74b01f499681bdfee7307770e2d - 42 - WWW.SNTSG.SEGOB.GOB.MX - Website Down\n",
            "Current session is 41e04dfd6fd3648638b8a543b7cba662 - 43 - http://www.orozcoyasociados.com.mx/ - Good\n",
            "Current session is 0c8a50f73d4d16d59922ebfb1c901651 - 44 - WWW.MAQUINADOSALBA.COM.MX - Good\n",
            "Current session is 1a09b6502671e89996809dd53af9ee50 - 45 - https://feherandfeher.com/ - Good\n",
            "Current session is dd2cd33409a407000b5ba4b4b9eb245b - 46 - http://estructurasjasan.com/ - Good\n",
            "Current session is 59d2d08b66d16fa9d00f26b5fdf24fb9 - 47 - WWW.ASPATEC.COM.MX - Good\n",
            "Current session is 23c7ac4e2a0a0b3fcc293e0bdeff0acb - 48 - WWW.ENERGISOL.COM.MX - Website Down\n",
            "Current session is ca55b51a4c1e3c6fb669bd90a868ba44 - 49 - WWW.INDUSTRIASANZUREZ.COM - Website Down\n",
            "Current session is 76c43df8b4a3354f20d6c97c243014ed - 50 - https://www.consupago.com/ - Good\n",
            "Current session is 113ed71e6799b5289e018806837a39f4 - 51 - WWW.ITSMEX.COM.MX - Good\n",
            "Current session is d0f4c2265f0521982ec02e9045b8b051 - 52 - WWW.EDAE.COM.MX - Good\n",
            "Current session is ea4c7b7be3b61f63c70a48913f313cbd - 53 - WWW.GEOCEANICA.COM.MX - Good\n",
            "Current session is 068c61e84f8e2485f0864f3f33d935f8 - 54 - WWW.ACERTEC.COM.MX - Good\n",
            "Current session is 7c7b96b8d3c4b3ed46f4138248b07e6c - 55 - WWW.LANFEGESTORIAYAVALUOS.COM - Good\n",
            "Current session is 0caf7c0bd443349dedb79a5202901113 - 56 - https://mascotinos.com/ - Good\n",
            "Current session is bcd5b89057cf782c4fa6599f8742a9f0 - 57 - WWW.FARMACIASDESIMILARES.COM - Bad\n",
            "Current session is 78dd478cb0965eb1be7f9183936f3878 - 58 - WWW.FINAGAM.COM.MX - Good\n",
            "Current session is ee92ba8da97e27d10820ab17e0649764 - 59 - WWW.MINERIA.ORG.MX - Good\n",
            "Current session is eee34ad9d925f7f356130a49b1acd4ad - 60 - WWW.CITYMEDICA.COM - Bad\n",
            "Current session is b4afcc6f8b6cb745cf93c53c71fe18d3 - 61 - WWW.RESLAB.COM.MX - Website Down\n",
            "Current session is 4849dd258e5a993c129600cdc6d57e2a - 62 - WWW.BOXITO.COM.MX - Good\n",
            "Current session is a915fcbe3e8f12ffa10f3dc071d65a93 - 63 - WWW.SEGOB.GOB.MX - Good\n",
            "Current session is c6e4f1d215baf324a537526b98a17293 - 64 - WWW.BANOBRAS.GOB.MX - Good\n",
            "Current session is 84105e6ed8a0108184177268f5061236 - 65 - WWW.IEEHIDALGO.ORG.MX - Good\n",
            "Current session is 60b575e90496f8f629caa03981f6aea7 - 66 - WWW.BOLTMEDIA.COM.MX - Good\n",
            "Current session is 5dda838f1a70039d486f7d367519715d - 67 - https://www.cicese.edu.mx/ - Website Down\n",
            "Current session is 11fa9fc98ceb56969f2078526c6f5079 - 68 - WWW.LOGISTIKPAK.COM.MX - Website Down\n",
            "Current session is 4a1fce0bfe801287943b883af70044c7 - 69 - https://es-la.facebook.com/admobiliaapi/ - Good\n",
            "Current session is d2600fa7508548ed2c568877fc3970ab - 70 - http://condensa.mx/ - Good\n",
            "Current session is bc708c8fdb95ccdb0f35c864bbb201ff - 71 - http://centraldebombas.mx/ - Good\n",
            "Current session is baa032f063ffab2869603f2eba6b2168 - 72 - WWW.ALTEQ.COM - Bad\n",
            "Current session is b52ffce69922b1ffe882de26a029b42b - 73 - https://www.altatelefonia.com.mx/ - Website Down\n",
            "Current session is 21f5ef778222baa0e9a0b2cb2be25ada - 74 - restaurantcocodrilosbarandgrill.com - Good\n",
            "Current session is 1e9a89d5bf08b216b6c93ffe748ef247 - 75 - https://www.dumexique.com/ - Good\n",
            "Current session is 8e44970b4997ded6f2b5c7275ca80348 - 76 - https://www.facebook.com/Leosburguer1/ - Good\n",
            "Current session is 429c4bc17102cf1c6f8d22d900160a9f - 77 - WWW.HAMBURGUESASHM.COM - Bad\n",
            "Current session is ad47c626d735652768d728d7ac6063e9 - 78 - https://gianninos.com.mx/ - Good\n",
            "Current session is 231153df72e2a4d96541188b878c0e0a - 79 - WWW.ELBURROFELIZ.COM.MX - Bad\n",
            "Current session is 6086c68e2d3651263d9bc0d0647e120b - 80 - gpoibarra.com - Good\n",
            "Current session is fe793b849c5f904ac213fcd65095215f - 81 - WWW.VEANA.COM.MX - Website Down\n",
            "Current session is c5d57e61f9163b33d0a4732a5c02d29c - 82 - WWW.SERVIFACIL.COM.MX - Good\n",
            "Current session is 4d4d7a6515449f0d58d576be1789456f - 83 - http://laistmena.com/ - Bad\n",
            "Current session is d90a4b88a0b5e444f1e1b3425e18fcf0 - 84 - WWW.ACTUALSTUDIO.COM - Good\n",
            "Current session is 237ede6b4a9ec342e8d0581b28abd981 - 85 - enerkom.com.mx - Good\n",
            "Current session is 7b147fd8134d91d5f5a767fd08916377 - 86 - WWW.VERSION.COM.MX - Good\n",
            "Current session is d318bd6357a93cd0000ddc4bcb824fe4 - 87 - WWW.LLANTAMAYA.COM - Good\n",
            "Current session is b27e190cb8273e6037edb6d530215d4e - 88 - WWW.VITALLANTAS.COM.MX - Good\n",
            "Current session is cea2aac9c987d087586ca2cb8232a963 - 89 - https://www.gpoibarra.com/ - Good\n",
            "Current session is b70a0a16f69b79a06901eca5bb6d5eba - 90 - https://us.coopertire.com/ - Good\n",
            "Current session is ec6c11c13147098c7582d2fbde8787f9 - 91 - GASEXPRESSNIETO.COM - Good\n",
            "Current session is a3d87e582ee89969476d1c17c66cac27 - 92 - http://solventesymezclas.com/ - Bad\n",
            "Current session is f319ed2154f348729249d10cdca9fd8f - 93 - WWW.FERRE20.COM - Good\n",
            "Current session is cea70c5f51efabd07464bcdd070a6e70 - 94 - WWW.CABOCIGARS.NET - Good\n",
            "Current session is 62efd3dc51d01b45e7aadeeab3bd67a1 - 95 - WWW.ESSD.MX - Good\n",
            "Current session is 8c698714d450565e111fd4cc61c68dd4 - 96 - WWW.CADTONER.COM.MX - Good\n",
            "Current session is 1b624e05cc63a08c302d8c84a8e3aede - 97 - impuls.com.mx - Website Down\n",
            "Current session is cfddaff931b79f65ab173dd93f57d64a - 98 - http://www.veana.com/index.html - Good\n",
            "Current session is 9300e7e0c75367fcf2d3cf58dd73276c - 99 - http://www.torinomotors.mx/ - Good\n",
            "Current session is 90c2f7d08c67b1b33d87045a621c898e - 100 - WWW.CENTRO8W.COM.MX - Good\n",
            "Current session is b2dd5ee1ddd71effb437ce502215e18c - 101 - http://eladn.com.mx/ - Good\n",
            "Current session is d2a3a4de48c48dad9c5c497ade521e2a - 102 - WWW.CAFEDELAFLOR.COM - Good\n",
            "Current session is cd713dcfdc22783854fdfff8fe4ba0db - 103 - https://www.facebook.com/BoschCarServiceCamelinas/ - Good\n",
            "Current session is a8be88573486a974c6faf4bc3697acce - 104 - http://costabanderas.com.mx/ - Bad\n",
            "Current session is 5226ca61e904ecd13bb2603ee37acb80 - 105 - https://www.cjaduanero.com/ - Bad\n",
            "Current session is 185767d00c833c9c6b8089619f800594 - 106 - http://boldoconsultoressc.miadn.mx/? - Bad\n",
            "Current session is fae287bf627cabc5c24fcdf30792143e - 107 - WWW.UVNOM.COM - Website Down\n",
            "Current session is 846efb38a7e470a137db823331862dab - 108 - WWW.FLORDECAPOMO.COM - Good\n",
            "Current session is 02513239e4e909d6c4e890fdcf2041f3 - 109 - http://www.marveg.com/ - Good\n",
            "Current session is 5d579e3fe1a8684ee4c59f49f58962c4 - 110 - https://www.construrama.com/acerimat - Good\n",
            "Current session is c9cc903d96554683b511747d24f57c54 - 111 - WWW.BRADFORD.COM.MX - Good\n",
            "Current session is 6db65e8b74c6c944eb0978f3b772981e - 112 - WWW.KOBREX.COM - Good\n",
            "Current session is 9aeee08cac0e7c5d86d07680ff54f889 - 113 - WWW.TRABYESA.COM - Good\n",
            "Current session is d4d3a25c4a703964f2e8bb0eb1399193 - 114 - WWW.BLG.COM.MX - Good\n",
            "Current session is 4181b76d83555f748e8d594f0aa79bf2 - 115 - http://bio-vin.com.mx/ - Good\n",
            "Current session is cf8076d4b95d71098b03d574e2214160 - 116 - http://escalasdelbajio.com/ - Good\n",
            "Current session is 05b1006c85565c0add10c61c90878464 - 117 - WWW.PRINCO.COM - Website Down\n",
            "Current session is d2a98a0604d6b4ed2036ce2750a62343 - 118 - DEMIM.COM.MX - Good\n",
            "Current session is 9e765436b39b18dbd349c8deb35b73c2 - 119 - http://ferrusa.com/ - Bad\n",
            "Current session is 7e7e568a371d1ed055f84c9584ffc449 - 120 - http://jarochito.com.mx/mapa/ - Website Down\n",
            "Current session is f21d69e83b02c1701cd3d4b9586d95f4 - 121 - WWW.DURAINTAL.COM.MX - Good\n",
            "Current session is db3a39f12c18e5f0e3b244020869a34e - 122 - WWW.DEMSA.MX - Good\n",
            "Current session is 34f6856a6f794a06009bfbe6a8000c43 - 123 - https://lapotranca.com.mx/ - Good\n",
            "Current session is 8d2cd981f3f2e981e8c7bbdb30f8cef9 - 124 - WWW.CENTURYLINK.COM - Good\n",
            "Current session is 935e9ea25786abeea61205b137d9fc3e - 125 - http://www.cocreadores.com.mx/ - Good\n",
            "Current session is 424aa995f96582afbafd8db1a8cf291a - 126 - WWW.GRUPOPOL.COM - Good\n",
            "Current session is ec554774a364baa97c5a8b80f4b17de9 - 127 - WWW.VESTA.COM.MX - Bad\n",
            "Current session is 9524c3231d8b9fbd5620f966a5e50f8a - 128 - https://www.anadim.com.mx/ - Website Down\n",
            "Current session is 7b80b4a7284b158e49eb9cef9184eba5 - 129 - http://www.canainpesca.com/ - Good\n",
            "Current session is 98f5530072818f75f0fba9a7bbff5479 - 130 - WWW.BOEING.COM - Good\n",
            "Current session is 95cbbc3acdfdd191feeef65f50681f7b - 131 - WWW.ASTRACORPORATIVO.COM.MX - Good\n",
            "Current session is 0616aad9c4b1e9b701a4f12c680f0671 - 132 - WWW.ASIMEXINFORMES.COM.MX - Good\n",
            "Current session is 8b90235e4d58ed5ede7d57ff1ed6180b - 133 - https://estrellablanca.com.mx/ - Good\n",
            "Current session is 6d91a60fdea8968c4206b4a2a03b82f7 - 134 - http://caminosa.com/ - Good\n",
            "Current session is d909e1d2a58820461a5b4b0ae86ef69b - 135 - WWW.LARENAYASO.COM.MX - Website Down\n",
            "Current session is 6507515edba76fa1f5e3f78057f3a4a2 - 136 - http://zetinayabogados.com/ - Good\n",
            "Current session is 6071ee43897998634de8856e4b0c7abf - 137 - http://anmaq.com.mx/ - Good\n",
            "Current session is c46d1a07853e414d20ee45304d7b24e5 - 138 - https://www.fresenius-kabi.com/ - Good\n",
            "Current session is a65c1cf69c19cc2c80f4e4b35fc92611 - 139 - WWW.ARRVEPORMAS.COM.MX - Bad\n",
            "Current session is 41a690b6ea876c9123a2f4f0423fee16 - 140 - WWW.EATON.COM.MX - Good\n",
            "Current session is 5e9de6b85dc4c43fbcb46c2d3f50a168 - 141 - WWW.U-STORAGE.COM.MX - Good\n",
            "Current session is d7bd5cedc344105668bca52b03714686 - 142 - https://cospherecg.com/ - Good\n",
            "Current session is 1cb8da7c1ca026b81e5410e0139eabd1 - 143 - WWW.INDUSTRIASTROFOS.COM - Good\n",
            "Current session is 69e40855c56079564ce9ead2d4d759d1 - 144 - WWW.GUSTINOS.COM - Good\n",
            "Current session is eaea5f22847c421f58e62e2af6be8de5 - 145 - http://digramex.com/ - Good\n",
            "Current session is d0f443a2cfe0e4f53c32eb2510cd8ef1 - 146 - WWW.DRMOISESGONZALEZ.COM - Bad\n",
            "Current session is 64653c1253dbe3b866ac64a693f38c05 - 147 - WWW.CLINEST.COM - Good\n",
            "Current session is e859d96ef70bdee4b0e57c2a8242b92b - 148 - SALAMANCA.GOB.MX - Good\n",
            "Current session is b6f06a79355a0330c96d6a02bd0cd5c1 - 149 - WWW.GRUPOLASAGUILAS.COM.MX - Good\n",
            "Current session is 04cc0b20dc3e2845d6c7773f025eadfd - 150 - WWW.AKBASCULAS.COM - Good\n",
            "Current session is 4363803e6dce9f4818fff58d299d01f5 - 151 - WWW.GASOSUR.MX - Website Down\n",
            "Current session is e3de7e276a684686ed2589f360c8d7cb - 152 - https://www.gascom.mx/ - Good\n",
            "Current session is e662fee577dc3e90d167cf2b8d9c9c01 - 153 - WWW.NISSANTEZIUTLAN.COM.MX - Good\n",
            "Current session is da78902e5dcf031c03f164bc36f17db7 - 154 - https://citycell.mx/#/ - Good\n",
            "Current session is 4dbac166ff15618160dd28fb37c4925d - 155 - https://www.carmaster.mx/ - Good\n",
            "Current session is 6cf370a156d2bd385e82aed6487decb0 - 156 - WWW.MARTHASOPHIA.COM - Good\n",
            "Current session is 54e4da07f973c3495fdf4f006ef6e9bf - 157 - http://www.cofli.com/intro.html - Good\n",
            "Current session is de52235bac43afb619f4895555204266 - 158 - https://dmt.com.mx/ - Bad\n",
            "Current session is 5cf063bd640c176adb5d4d0280a8bb37 - 159 - http://corticentro.com.mx/ - Good\n",
            "Current session is 87429bd5f4ac4796f1c1292a86e64d73 - 160 - https://www.cabocigars.net/ - Good\n",
            "Current session is 5a03e8c3320ba0300d52433bafd1758a - 161 - WWW.TIENDASOPTIMA.COM.MX - Good\n",
            "Current session is 110b6bcb5e490be49277bc6bcdef7c84 - 162 - WWW.SOLUCIONA.COM.MX - Good\n",
            "Current session is 0dd05cf5ab36c963b553720c53f30209 - 163 - WWW.MGMICROS.COM.MX - Good\n",
            "Current session is 47ea24d5c9ab8f6d918de4ae59181688 - 164 - https://consertec.com.mx/ - Good\n",
            "Current session is 4b25a157010df4dfd10773a47f26a74d - 165 - WWW.DISSAWEB.COM.MX - Good\n",
            "Current session is 28c191614e74a7f01760df20480e244c - 166 - WWW.ASA.GOB.MX - Website Down\n",
            "Current session is 88adccdfe5893d9ec0d2683c8e1c5d41 - 167 - educativademorelos.com.mx - Good\n",
            "Current session is 68e584cce77d26e6248711cf422bfcab - 168 - WWW.BABYMINK.COM - Good\n",
            "Current session is 15f8e75245fe2139014df53506880dac - 169 - http://www.entuhogar.com.mx/ - Bad\n",
            "Current session is 2977a80af4ca4a58d250b7d34bd83034 - 170 - SADASIYUCATAN.COM.MX - Good\n",
            "Current session is 97e46b58dd6965f6216ae673c83e40db - 171 - WWW.ARARESIDENCIAL.COM - Website Down\n",
            "Current session is 68fe13676f4c415fbe6509fe19c4f170 - 172 - WWW.FAST.COM.MX - Good\n",
            "Current session is b7198260e45e3fe5413db5cdd14adedd - 173 - WWW.AGRIACCION.COM - Website Down\n",
            "Current session is 95da4be571bef3956ee0d864280d4652 - 174 - http://www.grupocadena.com/dassa/ - Bad\n",
            "Current session is de4724238cfb9deee6a42e2fc3a458cd - 175 - https://construpac.mx/ - Bad\n",
            "Current session is 721fc84adf377d4f696ba11e63aa224f - 176 - WWW.SERVICOMP.COM.MX - Good\n",
            "Current session is 1278a203965982961bd3eea3adfb74a4 - 177 - WWW.CORPSLAM.COM - Good\n",
            "Current session is 829c0619fb128626822956a9384c5698 - 178 - WWW.TRIDENTE.COM.MX - Good\n",
            "Current session is 7afb69f795566ca2e1a8bde073d34918 - 179 - WWW.FERROX.COM.MX - Good\n",
            "Current session is 445f7d9778fc7f9ae2190fbd4ef04e76 - 180 - http://dannytex.com/ - Good\n",
            "Current session is 5debdf69d9d55a00d8f51d75b6de4eac - 181 - WWW.AGRIZAR.COM - Good\n",
            "Current session is 5d3c46f52ce5ebca6896b0120ea058eb - 182 - WWW.PEPINOSOCVCAPO.COM - Website Down\n",
            "Current session is 8387840fc990fb08137833328b6f98ba - 183 - WWW.GRINSOL.COM.MX - Good\n",
            "Current session is 510a4428012f767f2ad199b980e2843b - 184 - http://dehisa.com.mx/ - Good\n",
            "Current session is d25fdee96c76fa1c3b94553d8bed887e - 185 - http://www.princo.mx/ - Good\n",
            "Current session is bedf527f20a5394ef1309e94fb29eb6b - 186 - WWW.GDINGENIERIA.COM.MX - Good\n",
            "Current session is b456efa44a0153aedc916a6e09f129d7 - 187 - WWW.GALVASID.COM - Good\n",
            "Current session is 4b91d141d63d1c22c62cad29e644cadf - 188 - WWW.GALCOR.COM - Good\n",
            "Current session is 96bc853406731bcefd380be1dd036960 - 189 - WWW.DBSMX.COM - Good\n",
            "Current session is 3729f9339d1d4ab0ec99b561dad16caf - 190 - https://cedsarobotica.com/en/__trashed-2/ - Good\n",
            "Current session is 1c864c6bf08eb3921a6af7bfe923b5f9 - 191 - WWW.AVANTE.NET.MX - Website Down\n",
            "Current session is 0d62cf74c6aa5236257922ed86b7e289 - 192 - WWW.MEXHER.COM.MX - Good\n",
            "Current session is 31dabec278ff6778cb5dd249a52e0ddf - 193 - WWW.CAPCMAS.COM.MX - Good\n",
            "Current session is 04a071f5292c8b592edc824a5a5e5655 - 194 - WWW.GENERALDEMETALES.COM.MX - Good\n",
            "Current session is cf22589612954be9da5603e64cbcbf27 - 195 - WWW.LAPOTRANCA.COM.MX - Good\n",
            "Current session is 27112de9f3b019a2cafdc7011cacfe95 - 196 - https://constructoralama.tv/ - Good\n",
            "Current session is ad0e3f0d2cfaef4d73d1429767d3662b - 197 - CERTUS.MX - Good\n",
            "Current session is 51edb87990435719bed9fe32825bee25 - 198 - WWW.BEIRANACONSULTORES.COM - Good\n",
            "Current session is e6d230bf0156906fbef66704c8857a9b - 199 - WWW.CACSI.MX - Bad\n",
            "Current session is 7e916be148e0334f75a1cc59c20f78e8 - 200 - WWW.CINEASTAS.MX - Good\n",
            "Current session is 4092a984846754f7ac9e3157fe99cf99 - 201 - WWW.CENTRALDEESPACIOS.COM - Bad\n",
            "Current session is cb37ffa12180f64beb603de48fe1cd5e - 202 - WWW.ALERO.COM.MX - Good\n",
            "Current session is 44dd566746bb07b312718f0e7e3f0967 - 203 - WWW.FUNDECOAC.ORG.MX - Good\n",
            "Current session is a2ddbe4ac8e0da48f3b2ff29cfbd9691 - 204 - WWW.FORONACIONALDETURISMO.ORG - Bad\n",
            "Current session is 07c2832c3ee1db73a0cc2e9118198930 - 205 - WWW.ALLSCHOOL.MX - Bad\n",
            "Current session is 1fb2613d13b8302ffb1a49460ff53b03 - 206 - WWW.GISTECNOLOGIAS.COM - Good\n",
            "Current session is 5c5a6034786d872f3bb5cdefa838ba8c - 207 - 4040APPS.COM - Bad\n",
            "Current session is fa79edd0193f553ec4fb715d327fe67f - 208 - WWW.CLINICAMEDICAINTERNACIONAL.COM - Good\n",
            "Current session is a263c75a9746f0d591b70c506196eb76 - 209 - WWW.ESCALANTE.COM - Good\n",
            "Current session is 599bf9e7caa8062a9c8fdb63f7cf80ba - 210 - WWW.AANOGUEIRA.COM - Good\n",
            "Current session is 1ff211da42ee58483642bb221ab9931b - 211 - WWW.OPASE.COM.MX - Bad\n",
            "Current session is 79dee440ba7bc1c76559856ceabfb7f2 - 212 - WWW.TAX.COM.MX - Website Down\n",
            "Current session is ef698799fe6623631d8e101400248c70 - 213 - BODASYTRADICION.COM - Good\n",
            "Current session is 26b88744ee2c88039c1f4183ee01c307 - 214 - WWW.CIENSC.MX - Good\n",
            "Current session is 40f57001ca639c6f31747fc3542cee81 - 215 - WWW.ABTECMEXICO.COM - Website Down\n",
            "Current session is d716a8db1c7c9ec86771461cf0c3cd09 - 216 - WWW.GAOMEGA.COM.MX - Good\n",
            "Current session is ab2a8412bb397b2ecedc11d6e930c46a - 217 - WWW.ALBIOMAR.COM - Bad\n",
            "Current session is 7282fa59edd13675a591c45008019b47 - 218 - WWW.FER-CARR.COM - Website Down\n",
            "Current session is 2a8841d380e855aebd5e73745fdbc978 - 219 - WWW.DISENOCONSULTORES.COM - Good\n",
            "Current session is 547244d8a0b98ee4e211ab5636c1d95e - 220 - WWW.CASATSAYA.COM - Website Down\n",
            "Current session is 511aedf5ad9a039ebcb6fc28df1d6351 - 221 - WWW.ANDRESYCIA.COM - Good\n"
          ],
          "name": "stdout"
        },
        {
          "output_type": "error",
          "ename": "KeyboardInterrupt",
          "evalue": "ignored",
          "traceback": [
            "\u001b[0;31m---------------------------------------------------------------------------\u001b[0m",
            "\u001b[0;31mKeyboardInterrupt\u001b[0m                         Traceback (most recent call last)",
            "\u001b[0;32m<ipython-input-10-4b64bb7cd0c6>\u001b[0m in \u001b[0;36m<module>\u001b[0;34m()\u001b[0m\n\u001b[1;32m      3\u001b[0m \u001b[0;32mfor\u001b[0m \u001b[0mwebsites\u001b[0m \u001b[0;32min\u001b[0m \u001b[0mw_test\u001b[0m\u001b[0;34m[\u001b[0m\u001b[0;34m'web'\u001b[0m\u001b[0;34m]\u001b[0m\u001b[0;34m:\u001b[0m\u001b[0;34m\u001b[0m\u001b[0;34m\u001b[0m\u001b[0m\n\u001b[1;32m      4\u001b[0m   \u001b[0mwc\u001b[0m\u001b[0;34m.\u001b[0m\u001b[0mdriver\u001b[0m \u001b[0;34m=\u001b[0m \u001b[0mwc\u001b[0m\u001b[0;34m.\u001b[0m\u001b[0mwebdriver\u001b[0m\u001b[0;34m.\u001b[0m\u001b[0mChrome\u001b[0m\u001b[0;34m(\u001b[0m\u001b[0;34m'chromedriver'\u001b[0m\u001b[0;34m,\u001b[0m\u001b[0moptions\u001b[0m\u001b[0;34m=\u001b[0m\u001b[0mwc\u001b[0m\u001b[0;34m.\u001b[0m\u001b[0mchrome_options\u001b[0m\u001b[0;34m)\u001b[0m\u001b[0;34m\u001b[0m\u001b[0;34m\u001b[0m\u001b[0m\n\u001b[0;32m----> 5\u001b[0;31m   \u001b[0mwc\u001b[0m\u001b[0;34m.\u001b[0m\u001b[0mmain_func\u001b[0m\u001b[0;34m(\u001b[0m\u001b[0mstr\u001b[0m\u001b[0;34m(\u001b[0m\u001b[0mwebsites\u001b[0m\u001b[0;34m)\u001b[0m\u001b[0;34m)\u001b[0m\u001b[0;34m\u001b[0m\u001b[0;34m\u001b[0m\u001b[0m\n\u001b[0m\u001b[1;32m      6\u001b[0m   \u001b[0mi\u001b[0m\u001b[0;34m=\u001b[0m\u001b[0mi\u001b[0m\u001b[0;34m+\u001b[0m\u001b[0;36m1\u001b[0m\u001b[0;34m\u001b[0m\u001b[0;34m\u001b[0m\u001b[0m\n\u001b[1;32m      7\u001b[0m   \u001b[0mprint\u001b[0m\u001b[0;34m(\u001b[0m\u001b[0;34m\"Current session is {} - {} - {} - {}\"\u001b[0m\u001b[0;34m.\u001b[0m\u001b[0mformat\u001b[0m\u001b[0;34m(\u001b[0m\u001b[0mwc\u001b[0m\u001b[0;34m.\u001b[0m\u001b[0mdriver\u001b[0m\u001b[0;34m.\u001b[0m\u001b[0msession_id\u001b[0m\u001b[0;34m,\u001b[0m \u001b[0mi\u001b[0m\u001b[0;34m,\u001b[0m \u001b[0mstr\u001b[0m\u001b[0;34m(\u001b[0m\u001b[0mwebsites\u001b[0m\u001b[0;34m)\u001b[0m\u001b[0;34m,\u001b[0m \u001b[0mwc\u001b[0m\u001b[0;34m.\u001b[0m\u001b[0mdict1\u001b[0m\u001b[0;34m[\u001b[0m\u001b[0mstr\u001b[0m\u001b[0;34m(\u001b[0m\u001b[0mwebsites\u001b[0m\u001b[0;34m)\u001b[0m\u001b[0;34m]\u001b[0m\u001b[0;34m)\u001b[0m\u001b[0;34m)\u001b[0m\u001b[0;34m\u001b[0m\u001b[0;34m\u001b[0m\u001b[0m\n",
            "\u001b[0;32m/content/gdrive/My Drive/lead_gen/wc.py\u001b[0m in \u001b[0;36mmain_func\u001b[0;34m(x)\u001b[0m\n\u001b[1;32m     89\u001b[0m         \u001b[0mdriver\u001b[0m\u001b[0;34m.\u001b[0m\u001b[0mget\u001b[0m\u001b[0;34m(\u001b[0m\u001b[0murl\u001b[0m\u001b[0;34m)\u001b[0m\u001b[0;34m\u001b[0m\u001b[0;34m\u001b[0m\u001b[0m\n\u001b[1;32m     90\u001b[0m         \u001b[0mg1\u001b[0m\u001b[0;34m,\u001b[0m\u001b[0mb1\u001b[0m\u001b[0;34m,\u001b[0m\u001b[0mav1\u001b[0m\u001b[0;34m=\u001b[0m \u001b[0mtime_check\u001b[0m\u001b[0;34m(\u001b[0m\u001b[0mt\u001b[0m\u001b[0;34m)\u001b[0m\u001b[0;34m\u001b[0m\u001b[0;34m\u001b[0m\u001b[0m\n\u001b[0;32m---> 91\u001b[0;31m         \u001b[0mg2\u001b[0m\u001b[0;34m,\u001b[0m\u001b[0mb2\u001b[0m\u001b[0;34m,\u001b[0m\u001b[0mav2\u001b[0m \u001b[0;34m=\u001b[0m \u001b[0mstatus_code\u001b[0m\u001b[0;34m(\u001b[0m\u001b[0murl\u001b[0m\u001b[0;34m)\u001b[0m\u001b[0;34m\u001b[0m\u001b[0;34m\u001b[0m\u001b[0m\n\u001b[0m\u001b[1;32m     92\u001b[0m         \u001b[0mg3\u001b[0m\u001b[0;34m,\u001b[0m\u001b[0mb3\u001b[0m\u001b[0;34m,\u001b[0m\u001b[0mav3\u001b[0m\u001b[0;34m=\u001b[0m \u001b[0mcount_links\u001b[0m\u001b[0;34m(\u001b[0m\u001b[0;34m)\u001b[0m\u001b[0;34m\u001b[0m\u001b[0;34m\u001b[0m\u001b[0m\n\u001b[1;32m     93\u001b[0m         \u001b[0;31m# print(g1,b1,av1)\u001b[0m\u001b[0;34m\u001b[0m\u001b[0;34m\u001b[0m\u001b[0;34m\u001b[0m\u001b[0m\n",
            "\u001b[0;32m/content/gdrive/My Drive/lead_gen/wc.py\u001b[0m in \u001b[0;36mstatus_code\u001b[0;34m(url)\u001b[0m\n\u001b[1;32m     21\u001b[0m     \u001b[0mbad_count\u001b[0m \u001b[0;34m=\u001b[0m \u001b[0;36m0\u001b[0m\u001b[0;34m\u001b[0m\u001b[0;34m\u001b[0m\u001b[0m\n\u001b[1;32m     22\u001b[0m     \u001b[0maverage_count\u001b[0m \u001b[0;34m=\u001b[0m \u001b[0;36m0\u001b[0m\u001b[0;34m\u001b[0m\u001b[0;34m\u001b[0m\u001b[0m\n\u001b[0;32m---> 23\u001b[0;31m     \u001b[0mr\u001b[0m \u001b[0;34m=\u001b[0m \u001b[0mrequests\u001b[0m\u001b[0;34m.\u001b[0m\u001b[0mget\u001b[0m\u001b[0;34m(\u001b[0m\u001b[0murl\u001b[0m\u001b[0;34m)\u001b[0m\u001b[0;34m\u001b[0m\u001b[0;34m\u001b[0m\u001b[0m\n\u001b[0m\u001b[1;32m     24\u001b[0m     \u001b[0;32mif\u001b[0m \u001b[0mr\u001b[0m\u001b[0;34m.\u001b[0m\u001b[0mstatus_code\u001b[0m \u001b[0;34m==\u001b[0m \u001b[0;36m200\u001b[0m\u001b[0;34m:\u001b[0m\u001b[0;34m\u001b[0m\u001b[0;34m\u001b[0m\u001b[0m\n\u001b[1;32m     25\u001b[0m         \u001b[0mgood_count\u001b[0m \u001b[0;34m+=\u001b[0m\u001b[0;36m1\u001b[0m\u001b[0;34m\u001b[0m\u001b[0;34m\u001b[0m\u001b[0m\n",
            "\u001b[0;32m/usr/local/lib/python3.6/dist-packages/requests/api.py\u001b[0m in \u001b[0;36mget\u001b[0;34m(url, params, **kwargs)\u001b[0m\n\u001b[1;32m     74\u001b[0m \u001b[0;34m\u001b[0m\u001b[0m\n\u001b[1;32m     75\u001b[0m     \u001b[0mkwargs\u001b[0m\u001b[0;34m.\u001b[0m\u001b[0msetdefault\u001b[0m\u001b[0;34m(\u001b[0m\u001b[0;34m'allow_redirects'\u001b[0m\u001b[0;34m,\u001b[0m \u001b[0;32mTrue\u001b[0m\u001b[0;34m)\u001b[0m\u001b[0;34m\u001b[0m\u001b[0;34m\u001b[0m\u001b[0m\n\u001b[0;32m---> 76\u001b[0;31m     \u001b[0;32mreturn\u001b[0m \u001b[0mrequest\u001b[0m\u001b[0;34m(\u001b[0m\u001b[0;34m'get'\u001b[0m\u001b[0;34m,\u001b[0m \u001b[0murl\u001b[0m\u001b[0;34m,\u001b[0m \u001b[0mparams\u001b[0m\u001b[0;34m=\u001b[0m\u001b[0mparams\u001b[0m\u001b[0;34m,\u001b[0m \u001b[0;34m**\u001b[0m\u001b[0mkwargs\u001b[0m\u001b[0;34m)\u001b[0m\u001b[0;34m\u001b[0m\u001b[0;34m\u001b[0m\u001b[0m\n\u001b[0m\u001b[1;32m     77\u001b[0m \u001b[0;34m\u001b[0m\u001b[0m\n\u001b[1;32m     78\u001b[0m \u001b[0;34m\u001b[0m\u001b[0m\n",
            "\u001b[0;32m/usr/local/lib/python3.6/dist-packages/requests/api.py\u001b[0m in \u001b[0;36mrequest\u001b[0;34m(method, url, **kwargs)\u001b[0m\n\u001b[1;32m     59\u001b[0m     \u001b[0;31m# cases, and look like a memory leak in others.\u001b[0m\u001b[0;34m\u001b[0m\u001b[0;34m\u001b[0m\u001b[0;34m\u001b[0m\u001b[0m\n\u001b[1;32m     60\u001b[0m     \u001b[0;32mwith\u001b[0m \u001b[0msessions\u001b[0m\u001b[0;34m.\u001b[0m\u001b[0mSession\u001b[0m\u001b[0;34m(\u001b[0m\u001b[0;34m)\u001b[0m \u001b[0;32mas\u001b[0m \u001b[0msession\u001b[0m\u001b[0;34m:\u001b[0m\u001b[0;34m\u001b[0m\u001b[0;34m\u001b[0m\u001b[0m\n\u001b[0;32m---> 61\u001b[0;31m         \u001b[0;32mreturn\u001b[0m \u001b[0msession\u001b[0m\u001b[0;34m.\u001b[0m\u001b[0mrequest\u001b[0m\u001b[0;34m(\u001b[0m\u001b[0mmethod\u001b[0m\u001b[0;34m=\u001b[0m\u001b[0mmethod\u001b[0m\u001b[0;34m,\u001b[0m \u001b[0murl\u001b[0m\u001b[0;34m=\u001b[0m\u001b[0murl\u001b[0m\u001b[0;34m,\u001b[0m \u001b[0;34m**\u001b[0m\u001b[0mkwargs\u001b[0m\u001b[0;34m)\u001b[0m\u001b[0;34m\u001b[0m\u001b[0;34m\u001b[0m\u001b[0m\n\u001b[0m\u001b[1;32m     62\u001b[0m \u001b[0;34m\u001b[0m\u001b[0m\n\u001b[1;32m     63\u001b[0m \u001b[0;34m\u001b[0m\u001b[0m\n",
            "\u001b[0;32m/usr/local/lib/python3.6/dist-packages/requests/sessions.py\u001b[0m in \u001b[0;36mrequest\u001b[0;34m(self, method, url, params, data, headers, cookies, files, auth, timeout, allow_redirects, proxies, hooks, stream, verify, cert, json)\u001b[0m\n\u001b[1;32m    528\u001b[0m         }\n\u001b[1;32m    529\u001b[0m         \u001b[0msend_kwargs\u001b[0m\u001b[0;34m.\u001b[0m\u001b[0mupdate\u001b[0m\u001b[0;34m(\u001b[0m\u001b[0msettings\u001b[0m\u001b[0;34m)\u001b[0m\u001b[0;34m\u001b[0m\u001b[0;34m\u001b[0m\u001b[0m\n\u001b[0;32m--> 530\u001b[0;31m         \u001b[0mresp\u001b[0m \u001b[0;34m=\u001b[0m \u001b[0mself\u001b[0m\u001b[0;34m.\u001b[0m\u001b[0msend\u001b[0m\u001b[0;34m(\u001b[0m\u001b[0mprep\u001b[0m\u001b[0;34m,\u001b[0m \u001b[0;34m**\u001b[0m\u001b[0msend_kwargs\u001b[0m\u001b[0;34m)\u001b[0m\u001b[0;34m\u001b[0m\u001b[0;34m\u001b[0m\u001b[0m\n\u001b[0m\u001b[1;32m    531\u001b[0m \u001b[0;34m\u001b[0m\u001b[0m\n\u001b[1;32m    532\u001b[0m         \u001b[0;32mreturn\u001b[0m \u001b[0mresp\u001b[0m\u001b[0;34m\u001b[0m\u001b[0;34m\u001b[0m\u001b[0m\n",
            "\u001b[0;32m/usr/local/lib/python3.6/dist-packages/requests/sessions.py\u001b[0m in \u001b[0;36msend\u001b[0;34m(self, request, **kwargs)\u001b[0m\n\u001b[1;32m    641\u001b[0m \u001b[0;34m\u001b[0m\u001b[0m\n\u001b[1;32m    642\u001b[0m         \u001b[0;31m# Send the request\u001b[0m\u001b[0;34m\u001b[0m\u001b[0;34m\u001b[0m\u001b[0;34m\u001b[0m\u001b[0m\n\u001b[0;32m--> 643\u001b[0;31m         \u001b[0mr\u001b[0m \u001b[0;34m=\u001b[0m \u001b[0madapter\u001b[0m\u001b[0;34m.\u001b[0m\u001b[0msend\u001b[0m\u001b[0;34m(\u001b[0m\u001b[0mrequest\u001b[0m\u001b[0;34m,\u001b[0m \u001b[0;34m**\u001b[0m\u001b[0mkwargs\u001b[0m\u001b[0;34m)\u001b[0m\u001b[0;34m\u001b[0m\u001b[0;34m\u001b[0m\u001b[0m\n\u001b[0m\u001b[1;32m    644\u001b[0m \u001b[0;34m\u001b[0m\u001b[0m\n\u001b[1;32m    645\u001b[0m         \u001b[0;31m# Total elapsed time of the request (approximately)\u001b[0m\u001b[0;34m\u001b[0m\u001b[0;34m\u001b[0m\u001b[0;34m\u001b[0m\u001b[0m\n",
            "\u001b[0;32m/usr/local/lib/python3.6/dist-packages/requests/adapters.py\u001b[0m in \u001b[0;36msend\u001b[0;34m(self, request, stream, timeout, verify, cert, proxies)\u001b[0m\n\u001b[1;32m    447\u001b[0m                     \u001b[0mdecode_content\u001b[0m\u001b[0;34m=\u001b[0m\u001b[0;32mFalse\u001b[0m\u001b[0;34m,\u001b[0m\u001b[0;34m\u001b[0m\u001b[0;34m\u001b[0m\u001b[0m\n\u001b[1;32m    448\u001b[0m                     \u001b[0mretries\u001b[0m\u001b[0;34m=\u001b[0m\u001b[0mself\u001b[0m\u001b[0;34m.\u001b[0m\u001b[0mmax_retries\u001b[0m\u001b[0;34m,\u001b[0m\u001b[0;34m\u001b[0m\u001b[0;34m\u001b[0m\u001b[0m\n\u001b[0;32m--> 449\u001b[0;31m                     \u001b[0mtimeout\u001b[0m\u001b[0;34m=\u001b[0m\u001b[0mtimeout\u001b[0m\u001b[0;34m\u001b[0m\u001b[0;34m\u001b[0m\u001b[0m\n\u001b[0m\u001b[1;32m    450\u001b[0m                 )\n\u001b[1;32m    451\u001b[0m \u001b[0;34m\u001b[0m\u001b[0m\n",
            "\u001b[0;32m/usr/local/lib/python3.6/dist-packages/urllib3/connectionpool.py\u001b[0m in \u001b[0;36murlopen\u001b[0;34m(self, method, url, body, headers, retries, redirect, assert_same_host, timeout, pool_timeout, release_conn, chunked, body_pos, **response_kw)\u001b[0m\n\u001b[1;32m    598\u001b[0m                                                   \u001b[0mtimeout\u001b[0m\u001b[0;34m=\u001b[0m\u001b[0mtimeout_obj\u001b[0m\u001b[0;34m,\u001b[0m\u001b[0;34m\u001b[0m\u001b[0;34m\u001b[0m\u001b[0m\n\u001b[1;32m    599\u001b[0m                                                   \u001b[0mbody\u001b[0m\u001b[0;34m=\u001b[0m\u001b[0mbody\u001b[0m\u001b[0;34m,\u001b[0m \u001b[0mheaders\u001b[0m\u001b[0;34m=\u001b[0m\u001b[0mheaders\u001b[0m\u001b[0;34m,\u001b[0m\u001b[0;34m\u001b[0m\u001b[0;34m\u001b[0m\u001b[0m\n\u001b[0;32m--> 600\u001b[0;31m                                                   chunked=chunked)\n\u001b[0m\u001b[1;32m    601\u001b[0m \u001b[0;34m\u001b[0m\u001b[0m\n\u001b[1;32m    602\u001b[0m             \u001b[0;31m# If we're going to release the connection in ``finally:``, then\u001b[0m\u001b[0;34m\u001b[0m\u001b[0;34m\u001b[0m\u001b[0;34m\u001b[0m\u001b[0m\n",
            "\u001b[0;32m/usr/local/lib/python3.6/dist-packages/urllib3/connectionpool.py\u001b[0m in \u001b[0;36m_make_request\u001b[0;34m(self, conn, method, url, timeout, chunked, **httplib_request_kw)\u001b[0m\n\u001b[1;32m    341\u001b[0m         \u001b[0;31m# Trigger any extra validation we need to do.\u001b[0m\u001b[0;34m\u001b[0m\u001b[0;34m\u001b[0m\u001b[0;34m\u001b[0m\u001b[0m\n\u001b[1;32m    342\u001b[0m         \u001b[0;32mtry\u001b[0m\u001b[0;34m:\u001b[0m\u001b[0;34m\u001b[0m\u001b[0;34m\u001b[0m\u001b[0m\n\u001b[0;32m--> 343\u001b[0;31m             \u001b[0mself\u001b[0m\u001b[0;34m.\u001b[0m\u001b[0m_validate_conn\u001b[0m\u001b[0;34m(\u001b[0m\u001b[0mconn\u001b[0m\u001b[0;34m)\u001b[0m\u001b[0;34m\u001b[0m\u001b[0;34m\u001b[0m\u001b[0m\n\u001b[0m\u001b[1;32m    344\u001b[0m         \u001b[0;32mexcept\u001b[0m \u001b[0;34m(\u001b[0m\u001b[0mSocketTimeout\u001b[0m\u001b[0;34m,\u001b[0m \u001b[0mBaseSSLError\u001b[0m\u001b[0;34m)\u001b[0m \u001b[0;32mas\u001b[0m \u001b[0me\u001b[0m\u001b[0;34m:\u001b[0m\u001b[0;34m\u001b[0m\u001b[0;34m\u001b[0m\u001b[0m\n\u001b[1;32m    345\u001b[0m             \u001b[0;31m# Py2 raises this as a BaseSSLError, Py3 raises it as socket timeout.\u001b[0m\u001b[0;34m\u001b[0m\u001b[0;34m\u001b[0m\u001b[0;34m\u001b[0m\u001b[0m\n",
            "\u001b[0;32m/usr/local/lib/python3.6/dist-packages/urllib3/connectionpool.py\u001b[0m in \u001b[0;36m_validate_conn\u001b[0;34m(self, conn)\u001b[0m\n\u001b[1;32m    837\u001b[0m         \u001b[0;31m# Force connect early to allow us to validate the connection.\u001b[0m\u001b[0;34m\u001b[0m\u001b[0;34m\u001b[0m\u001b[0;34m\u001b[0m\u001b[0m\n\u001b[1;32m    838\u001b[0m         \u001b[0;32mif\u001b[0m \u001b[0;32mnot\u001b[0m \u001b[0mgetattr\u001b[0m\u001b[0;34m(\u001b[0m\u001b[0mconn\u001b[0m\u001b[0;34m,\u001b[0m \u001b[0;34m'sock'\u001b[0m\u001b[0;34m,\u001b[0m \u001b[0;32mNone\u001b[0m\u001b[0;34m)\u001b[0m\u001b[0;34m:\u001b[0m  \u001b[0;31m# AppEngine might not have  `.sock`\u001b[0m\u001b[0;34m\u001b[0m\u001b[0;34m\u001b[0m\u001b[0m\n\u001b[0;32m--> 839\u001b[0;31m             \u001b[0mconn\u001b[0m\u001b[0;34m.\u001b[0m\u001b[0mconnect\u001b[0m\u001b[0;34m(\u001b[0m\u001b[0;34m)\u001b[0m\u001b[0;34m\u001b[0m\u001b[0;34m\u001b[0m\u001b[0m\n\u001b[0m\u001b[1;32m    840\u001b[0m \u001b[0;34m\u001b[0m\u001b[0m\n\u001b[1;32m    841\u001b[0m         \u001b[0;32mif\u001b[0m \u001b[0;32mnot\u001b[0m \u001b[0mconn\u001b[0m\u001b[0;34m.\u001b[0m\u001b[0mis_verified\u001b[0m\u001b[0;34m:\u001b[0m\u001b[0;34m\u001b[0m\u001b[0;34m\u001b[0m\u001b[0m\n",
            "\u001b[0;32m/usr/local/lib/python3.6/dist-packages/urllib3/connection.py\u001b[0m in \u001b[0;36mconnect\u001b[0;34m(self)\u001b[0m\n\u001b[1;32m    299\u001b[0m     \u001b[0;32mdef\u001b[0m \u001b[0mconnect\u001b[0m\u001b[0;34m(\u001b[0m\u001b[0mself\u001b[0m\u001b[0;34m)\u001b[0m\u001b[0;34m:\u001b[0m\u001b[0;34m\u001b[0m\u001b[0;34m\u001b[0m\u001b[0m\n\u001b[1;32m    300\u001b[0m         \u001b[0;31m# Add certificate verification\u001b[0m\u001b[0;34m\u001b[0m\u001b[0;34m\u001b[0m\u001b[0;34m\u001b[0m\u001b[0m\n\u001b[0;32m--> 301\u001b[0;31m         \u001b[0mconn\u001b[0m \u001b[0;34m=\u001b[0m \u001b[0mself\u001b[0m\u001b[0;34m.\u001b[0m\u001b[0m_new_conn\u001b[0m\u001b[0;34m(\u001b[0m\u001b[0;34m)\u001b[0m\u001b[0;34m\u001b[0m\u001b[0;34m\u001b[0m\u001b[0m\n\u001b[0m\u001b[1;32m    302\u001b[0m         \u001b[0mhostname\u001b[0m \u001b[0;34m=\u001b[0m \u001b[0mself\u001b[0m\u001b[0;34m.\u001b[0m\u001b[0mhost\u001b[0m\u001b[0;34m\u001b[0m\u001b[0;34m\u001b[0m\u001b[0m\n\u001b[1;32m    303\u001b[0m \u001b[0;34m\u001b[0m\u001b[0m\n",
            "\u001b[0;32m/usr/local/lib/python3.6/dist-packages/urllib3/connection.py\u001b[0m in \u001b[0;36m_new_conn\u001b[0;34m(self)\u001b[0m\n\u001b[1;32m    157\u001b[0m         \u001b[0;32mtry\u001b[0m\u001b[0;34m:\u001b[0m\u001b[0;34m\u001b[0m\u001b[0;34m\u001b[0m\u001b[0m\n\u001b[1;32m    158\u001b[0m             conn = connection.create_connection(\n\u001b[0;32m--> 159\u001b[0;31m                 (self._dns_host, self.port), self.timeout, **extra_kw)\n\u001b[0m\u001b[1;32m    160\u001b[0m \u001b[0;34m\u001b[0m\u001b[0m\n\u001b[1;32m    161\u001b[0m         \u001b[0;32mexcept\u001b[0m \u001b[0mSocketTimeout\u001b[0m\u001b[0;34m:\u001b[0m\u001b[0;34m\u001b[0m\u001b[0;34m\u001b[0m\u001b[0m\n",
            "\u001b[0;32m/usr/local/lib/python3.6/dist-packages/urllib3/util/connection.py\u001b[0m in \u001b[0;36mcreate_connection\u001b[0;34m(address, timeout, source_address, socket_options)\u001b[0m\n\u001b[1;32m     68\u001b[0m             \u001b[0;32mif\u001b[0m \u001b[0msource_address\u001b[0m\u001b[0;34m:\u001b[0m\u001b[0;34m\u001b[0m\u001b[0;34m\u001b[0m\u001b[0m\n\u001b[1;32m     69\u001b[0m                 \u001b[0msock\u001b[0m\u001b[0;34m.\u001b[0m\u001b[0mbind\u001b[0m\u001b[0;34m(\u001b[0m\u001b[0msource_address\u001b[0m\u001b[0;34m)\u001b[0m\u001b[0;34m\u001b[0m\u001b[0;34m\u001b[0m\u001b[0m\n\u001b[0;32m---> 70\u001b[0;31m             \u001b[0msock\u001b[0m\u001b[0;34m.\u001b[0m\u001b[0mconnect\u001b[0m\u001b[0;34m(\u001b[0m\u001b[0msa\u001b[0m\u001b[0;34m)\u001b[0m\u001b[0;34m\u001b[0m\u001b[0;34m\u001b[0m\u001b[0m\n\u001b[0m\u001b[1;32m     71\u001b[0m             \u001b[0;32mreturn\u001b[0m \u001b[0msock\u001b[0m\u001b[0;34m\u001b[0m\u001b[0;34m\u001b[0m\u001b[0m\n\u001b[1;32m     72\u001b[0m \u001b[0;34m\u001b[0m\u001b[0m\n",
            "\u001b[0;31mKeyboardInterrupt\u001b[0m: "
          ]
        }
      ]
    },
    {
      "cell_type": "code",
      "metadata": {
        "id": "qW2ARvP1AKCw",
        "colab_type": "code",
        "colab": {}
      },
      "source": [
        "wc.driver.quit()"
      ],
      "execution_count": 11,
      "outputs": []
    },
    {
      "cell_type": "code",
      "metadata": {
        "id": "2KRQlE10Uv3_",
        "colab_type": "code",
        "colab": {}
      },
      "source": [
        "backup = wc.dict1"
      ],
      "execution_count": 12,
      "outputs": []
    },
    {
      "cell_type": "markdown",
      "metadata": {
        "id": "OIq0NDFf6U_y",
        "colab_type": "text"
      },
      "source": [
        "#Preprocessing"
      ]
    },
    {
      "cell_type": "markdown",
      "metadata": {
        "id": "mlIETfeG6axF",
        "colab_type": "text"
      },
      "source": [
        "###Label null website as \"No Website\" and create a column for ranking"
      ]
    },
    {
      "cell_type": "code",
      "metadata": {
        "id": "9JvXZPzop6M7",
        "colab_type": "code",
        "colab": {
          "base_uri": "https://localhost:8080/",
          "height": 204
        },
        "outputId": "a796eb50-6e84-4457-b048-0c1a61e413f6"
      },
      "source": [
        "import numpy as np\n",
        "data_i['website'].fillna(\"No Website\", inplace = True)\n",
        "data_i['wresult'] = np.nan\n",
        "data_f = data_i.copy()"
      ],
      "execution_count": 13,
      "outputs": [
        {
          "output_type": "stream",
          "text": [
            "/usr/local/lib/python3.6/dist-packages/pandas/core/generic.py:6245: SettingWithCopyWarning: \n",
            "A value is trying to be set on a copy of a slice from a DataFrame\n",
            "\n",
            "See the caveats in the documentation: https://pandas.pydata.org/pandas-docs/stable/user_guide/indexing.html#returning-a-view-versus-a-copy\n",
            "  self._update_inplace(new_data)\n",
            "/usr/local/lib/python3.6/dist-packages/ipykernel_launcher.py:3: SettingWithCopyWarning: \n",
            "A value is trying to be set on a copy of a slice from a DataFrame.\n",
            "Try using .loc[row_indexer,col_indexer] = value instead\n",
            "\n",
            "See the caveats in the documentation: https://pandas.pydata.org/pandas-docs/stable/user_guide/indexing.html#returning-a-view-versus-a-copy\n",
            "  This is separate from the ipykernel package so we can avoid doing imports until\n"
          ],
          "name": "stderr"
        }
      ]
    },
    {
      "cell_type": "markdown",
      "metadata": {
        "id": "YiBMtbOI8VVl",
        "colab_type": "text"
      },
      "source": [
        "Assign ranking value from classifiction result dictionary"
      ]
    },
    {
      "cell_type": "code",
      "metadata": {
        "id": "aZRGwH3uwEuc",
        "colab_type": "code",
        "colab": {
          "base_uri": "https://localhost:8080/",
          "height": 102
        },
        "outputId": "bafe5add-4c25-4e83-c33d-7ba004b6c8d4"
      },
      "source": [
        "#need to optimize\n",
        "for key, value in wc.dict1.items():\n",
        "  for website in data_f['website']:\n",
        "    if website == \"No Website\":\n",
        "      data_f['wresult'].loc[data_f['website']==website] = \"Website not available\"\n",
        "    elif website == key:\n",
        "      data_f['wresult'].loc[data_f['website']==website] = wc.dict1[website]\n",
        "      \n",
        "# status = pd.DataFrame(list(wc.dict1.items()),columns = ['website','status'])\n",
        "# status.head(10)"
      ],
      "execution_count": 14,
      "outputs": [
        {
          "output_type": "stream",
          "text": [
            "/usr/local/lib/python3.6/dist-packages/pandas/core/indexing.py:671: SettingWithCopyWarning: \n",
            "A value is trying to be set on a copy of a slice from a DataFrame\n",
            "\n",
            "See the caveats in the documentation: https://pandas.pydata.org/pandas-docs/stable/user_guide/indexing.html#returning-a-view-versus-a-copy\n",
            "  self._setitem_with_indexer(indexer, value)\n"
          ],
          "name": "stderr"
        }
      ]
    },
    {
      "cell_type": "markdown",
      "metadata": {
        "id": "oQDb3Zb_AYbI",
        "colab_type": "text"
      },
      "source": [
        "Drop all rows having unlabled website"
      ]
    },
    {
      "cell_type": "code",
      "metadata": {
        "id": "dFOKCNdB0ckT",
        "colab_type": "code",
        "colab": {}
      },
      "source": [
        "data_final = data_f[['no_of_employees','wresult', 'send']].dropna()"
      ],
      "execution_count": 42,
      "outputs": []
    },
    {
      "cell_type": "markdown",
      "metadata": {
        "id": "PjLbS86zA2lQ",
        "colab_type": "text"
      },
      "source": [
        "Final unincoded data"
      ]
    },
    {
      "cell_type": "code",
      "metadata": {
        "id": "u8RzUZb03YAh",
        "colab_type": "code",
        "colab": {
          "base_uri": "https://localhost:8080/",
          "height": 34
        },
        "outputId": "6aa46731-5808-4e64-c53b-0f46ce305f7c"
      },
      "source": [
        "data_final.shape"
      ],
      "execution_count": 16,
      "outputs": [
        {
          "output_type": "execute_result",
          "data": {
            "text/plain": [
              "(886, 3)"
            ]
          },
          "metadata": {
            "tags": []
          },
          "execution_count": 16
        }
      ]
    },
    {
      "cell_type": "code",
      "metadata": {
        "id": "bZGSx7tpA8RL",
        "colab_type": "code",
        "colab": {
          "base_uri": "https://localhost:8080/",
          "height": 359
        },
        "outputId": "3ff14289-da9a-4112-9802-bdee989ac9c7"
      },
      "source": [
        "data_final.sample(10)"
      ],
      "execution_count": 17,
      "outputs": [
        {
          "output_type": "execute_result",
          "data": {
            "text/html": [
              "<div>\n",
              "<style scoped>\n",
              "    .dataframe tbody tr th:only-of-type {\n",
              "        vertical-align: middle;\n",
              "    }\n",
              "\n",
              "    .dataframe tbody tr th {\n",
              "        vertical-align: top;\n",
              "    }\n",
              "\n",
              "    .dataframe thead th {\n",
              "        text-align: right;\n",
              "    }\n",
              "</style>\n",
              "<table border=\"1\" class=\"dataframe\">\n",
              "  <thead>\n",
              "    <tr style=\"text-align: right;\">\n",
              "      <th></th>\n",
              "      <th>no_of_employees</th>\n",
              "      <th>wresult</th>\n",
              "      <th>send</th>\n",
              "    </tr>\n",
              "  </thead>\n",
              "  <tbody>\n",
              "    <tr>\n",
              "      <th>12568</th>\n",
              "      <td>0 a 5 personas</td>\n",
              "      <td>Website not available</td>\n",
              "      <td>NOT SEND</td>\n",
              "    </tr>\n",
              "    <tr>\n",
              "      <th>548</th>\n",
              "      <td>6 a 10 personas</td>\n",
              "      <td>Website not available</td>\n",
              "      <td>SEND</td>\n",
              "    </tr>\n",
              "    <tr>\n",
              "      <th>29</th>\n",
              "      <td>6 a 10 personas</td>\n",
              "      <td>Website not available</td>\n",
              "      <td>SEND</td>\n",
              "    </tr>\n",
              "    <tr>\n",
              "      <th>370</th>\n",
              "      <td>6 a 10 personas</td>\n",
              "      <td>Website not available</td>\n",
              "      <td>SEND</td>\n",
              "    </tr>\n",
              "    <tr>\n",
              "      <th>383</th>\n",
              "      <td>6 a 10 personas</td>\n",
              "      <td>Website not available</td>\n",
              "      <td>SEND</td>\n",
              "    </tr>\n",
              "    <tr>\n",
              "      <th>80</th>\n",
              "      <td>6 a 10 personas</td>\n",
              "      <td>Website not available</td>\n",
              "      <td>NOT SEND</td>\n",
              "    </tr>\n",
              "    <tr>\n",
              "      <th>314</th>\n",
              "      <td>0 a 5 personas</td>\n",
              "      <td>Good</td>\n",
              "      <td>SEND</td>\n",
              "    </tr>\n",
              "    <tr>\n",
              "      <th>610</th>\n",
              "      <td>0 a 5 personas</td>\n",
              "      <td>Website not available</td>\n",
              "      <td>NOT SEND</td>\n",
              "    </tr>\n",
              "    <tr>\n",
              "      <th>362</th>\n",
              "      <td>6 a 10 personas</td>\n",
              "      <td>Website not available</td>\n",
              "      <td>SEND</td>\n",
              "    </tr>\n",
              "    <tr>\n",
              "      <th>623</th>\n",
              "      <td>0 a 5 personas</td>\n",
              "      <td>Website not available</td>\n",
              "      <td>SEND</td>\n",
              "    </tr>\n",
              "  </tbody>\n",
              "</table>\n",
              "</div>"
            ],
            "text/plain": [
              "       no_of_employees                wresult      send\n",
              "12568   0 a 5 personas  Website not available  NOT SEND\n",
              "548    6 a 10 personas  Website not available      SEND\n",
              "29     6 a 10 personas  Website not available      SEND\n",
              "370    6 a 10 personas  Website not available      SEND\n",
              "383    6 a 10 personas  Website not available      SEND\n",
              "80     6 a 10 personas  Website not available  NOT SEND\n",
              "314     0 a 5 personas                   Good      SEND\n",
              "610     0 a 5 personas  Website not available  NOT SEND\n",
              "362    6 a 10 personas  Website not available      SEND\n",
              "623     0 a 5 personas  Website not available      SEND"
            ]
          },
          "metadata": {
            "tags": []
          },
          "execution_count": 17
        }
      ]
    },
    {
      "cell_type": "markdown",
      "metadata": {
        "id": "aQCYpNsc4Uo2",
        "colab_type": "text"
      },
      "source": [
        "###Encoding features"
      ]
    },
    {
      "cell_type": "code",
      "metadata": {
        "colab_type": "code",
        "id": "MCy-JSJUGZ-J",
        "colab": {
          "base_uri": "https://localhost:8080/",
          "height": 142
        },
        "outputId": "e4d647f6-02fe-44f6-b6e2-4c04fc01e635"
      },
      "source": [
        "#Website available or not (label encoding)\n",
        "#data['wresult'] = (data_final['wresult'] != \"Website not available\").astype('category').cat.codes4\n",
        "\n",
        "#Label\n",
        "# data = pd.DataFrame([data_final[x].astype('category').cat.codes for x in ['no_of_employees', 'score', 'wresult', 'send']])\n",
        "# data = data.T\n",
        "# data.columns = ['emp size', 'score', 'wresult', 'send']\n",
        "\n",
        "#one hot\n",
        "# data = pd.get_dummies(data_final[['score', 'no_of_employees', 'wresult']])\n",
        "# data['send'] = data_final['send'].astype('category').cat.codes\n",
        "\n",
        "#replace\n",
        "data = data_final.copy()\n",
        "rep = {\"no_of_employees\": {\"6 a 10 personas\": 8, \"0 a 5 personas\": 3},\n",
        "                 \"send\": {\"SEND\": 1, \"NOT SEND\": 0},\n",
        "                 \"wresult\": {\"Good\": 3, \"Bad\": 2, \"Website Down\": 1, \"Website not available\": 0,}\n",
        "                 }\n",
        "data.replace(rep, inplace=True)\n",
        "\n",
        "data.sample(3)"
      ],
      "execution_count": 43,
      "outputs": [
        {
          "output_type": "execute_result",
          "data": {
            "text/html": [
              "<div>\n",
              "<style scoped>\n",
              "    .dataframe tbody tr th:only-of-type {\n",
              "        vertical-align: middle;\n",
              "    }\n",
              "\n",
              "    .dataframe tbody tr th {\n",
              "        vertical-align: top;\n",
              "    }\n",
              "\n",
              "    .dataframe thead th {\n",
              "        text-align: right;\n",
              "    }\n",
              "</style>\n",
              "<table border=\"1\" class=\"dataframe\">\n",
              "  <thead>\n",
              "    <tr style=\"text-align: right;\">\n",
              "      <th></th>\n",
              "      <th>no_of_employees</th>\n",
              "      <th>wresult</th>\n",
              "      <th>send</th>\n",
              "    </tr>\n",
              "  </thead>\n",
              "  <tbody>\n",
              "    <tr>\n",
              "      <th>8674</th>\n",
              "      <td>3</td>\n",
              "      <td>0</td>\n",
              "      <td>0</td>\n",
              "    </tr>\n",
              "    <tr>\n",
              "      <th>274</th>\n",
              "      <td>3</td>\n",
              "      <td>0</td>\n",
              "      <td>0</td>\n",
              "    </tr>\n",
              "    <tr>\n",
              "      <th>664</th>\n",
              "      <td>3</td>\n",
              "      <td>0</td>\n",
              "      <td>1</td>\n",
              "    </tr>\n",
              "  </tbody>\n",
              "</table>\n",
              "</div>"
            ],
            "text/plain": [
              "      no_of_employees  wresult  send\n",
              "8674                3        0     0\n",
              "274                 3        0     0\n",
              "664                 3        0     1"
            ]
          },
          "metadata": {
            "tags": []
          },
          "execution_count": 43
        }
      ]
    },
    {
      "cell_type": "markdown",
      "metadata": {
        "id": "TdsY-AtLCAty",
        "colab_type": "text"
      },
      "source": [
        "Split feature and label set"
      ]
    },
    {
      "cell_type": "code",
      "metadata": {
        "id": "fQKt6sC4x6vF",
        "colab_type": "code",
        "colab": {}
      },
      "source": [
        "X = data.values[:, :-1].astype(float)\n",
        "y = data.values[:, -1].astype(float)"
      ],
      "execution_count": 19,
      "outputs": []
    },
    {
      "cell_type": "markdown",
      "metadata": {
        "id": "OqlPujEZCHfJ",
        "colab_type": "text"
      },
      "source": [
        "Train test split"
      ]
    },
    {
      "cell_type": "code",
      "metadata": {
        "id": "hlLYZOlUz0nd",
        "colab_type": "code",
        "colab": {}
      },
      "source": [
        "from sklearn.model_selection import train_test_split\n",
        "X_train, X_test, y_train, y_test = train_test_split(X, y, stratify=y, test_size=0.3)"
      ],
      "execution_count": 20,
      "outputs": []
    },
    {
      "cell_type": "markdown",
      "metadata": {
        "id": "oucghdLoCX-X",
        "colab_type": "text"
      },
      "source": [
        "Check the size of train test"
      ]
    },
    {
      "cell_type": "code",
      "metadata": {
        "id": "vavjvs9HixkL",
        "colab_type": "code",
        "colab": {
          "base_uri": "https://localhost:8080/",
          "height": 34
        },
        "outputId": "0cd6f3b8-be1b-42fd-9b51-d1effafd284a"
      },
      "source": [
        "(X_train.shape, X_test.shape)"
      ],
      "execution_count": 21,
      "outputs": [
        {
          "output_type": "execute_result",
          "data": {
            "text/plain": [
              "((620, 2), (266, 2))"
            ]
          },
          "metadata": {
            "tags": []
          },
          "execution_count": 21
        }
      ]
    },
    {
      "cell_type": "markdown",
      "metadata": {
        "id": "Ij3JVt2NCtlx",
        "colab_type": "text"
      },
      "source": [
        "###Train the model"
      ]
    },
    {
      "cell_type": "code",
      "metadata": {
        "id": "bbDplqSlz_fx",
        "colab_type": "code",
        "colab": {
          "base_uri": "https://localhost:8080/",
          "height": 102
        },
        "outputId": "421b7fb3-25b8-4343-a926-cdd9567baa0c"
      },
      "source": [
        "from sklearn.linear_model import LogisticRegression\n",
        "logreg = LogisticRegression(max_iter=1000)\n",
        "logreg.fit(X_train,y_train)"
      ],
      "execution_count": 22,
      "outputs": [
        {
          "output_type": "execute_result",
          "data": {
            "text/plain": [
              "LogisticRegression(C=1.0, class_weight=None, dual=False, fit_intercept=True,\n",
              "                   intercept_scaling=1, l1_ratio=None, max_iter=1000,\n",
              "                   multi_class='auto', n_jobs=None, penalty='l2',\n",
              "                   random_state=None, solver='lbfgs', tol=0.0001, verbose=0,\n",
              "                   warm_start=False)"
            ]
          },
          "metadata": {
            "tags": []
          },
          "execution_count": 22
        }
      ]
    },
    {
      "cell_type": "markdown",
      "metadata": {
        "id": "Dcp63u49CyXv",
        "colab_type": "text"
      },
      "source": [
        "###Predict from test set"
      ]
    },
    {
      "cell_type": "code",
      "metadata": {
        "id": "QMoJ54G70KZr",
        "colab_type": "code",
        "colab": {}
      },
      "source": [
        "y_pred=logreg.predict(X_test)"
      ],
      "execution_count": 23,
      "outputs": []
    },
    {
      "cell_type": "markdown",
      "metadata": {
        "id": "7iZtGUwzPoWp",
        "colab_type": "text"
      },
      "source": [
        "Inverse Encoding"
      ]
    },
    {
      "cell_type": "code",
      "metadata": {
        "id": "AlZYsamCOlNi",
        "colab_type": "code",
        "colab": {}
      },
      "source": [
        "class0 = data_final['send'].astype('category').cat.categories[0]\n",
        "class1 = data_final['send'].astype('category').cat.categories[1]\n",
        "labels = [class0, class1]"
      ],
      "execution_count": 24,
      "outputs": []
    },
    {
      "cell_type": "markdown",
      "metadata": {
        "id": "biqNf9_rC6fb",
        "colab_type": "text"
      },
      "source": [
        "###Metrices"
      ]
    },
    {
      "cell_type": "code",
      "metadata": {
        "id": "4z2x6QpinlBx",
        "colab_type": "code",
        "colab": {
          "base_uri": "https://localhost:8080/",
          "height": 349
        },
        "outputId": "24efffac-ad3f-4e29-db90-d6245bca6090"
      },
      "source": [
        "from sklearn import metrics\n",
        "import seaborn as sns\n",
        "import matplotlib.pyplot as plt     \n",
        "cm = metrics.confusion_matrix(y_test, y_pred)\n",
        "ax= plt.subplot()\n",
        "sns.heatmap(cm, annot=True, ax = ax); \n",
        "ax.set_xlabel('Predicted labels');ax.set_ylabel('True labels'); \n",
        "ax.set_title('Confusion Matrix'); \n",
        "ax.xaxis.set_ticklabels(labels); ax.yaxis.set_ticklabels(labels);"
      ],
      "execution_count": 25,
      "outputs": [
        {
          "output_type": "stream",
          "text": [
            "/usr/local/lib/python3.6/dist-packages/statsmodels/tools/_testing.py:19: FutureWarning: pandas.util.testing is deprecated. Use the functions in the public API at pandas.testing instead.\n",
            "  import pandas.util.testing as tm\n"
          ],
          "name": "stderr"
        },
        {
          "output_type": "display_data",
          "data": {
            "image/png": "[encoded data removed]",
            "text/plain": [
              "<Figure size 432x288 with 2 Axes>"
            ]
          },
          "metadata": {
            "tags": [],
            "needs_background": "light"
          }
        }
      ]
    },
    {
      "cell_type": "code",
      "metadata": {
        "id": "rfdcbxSV2HGJ",
        "colab_type": "code",
        "colab": {
          "base_uri": "https://localhost:8080/",
          "height": 68
        },
        "outputId": "87cf9b5c-d867-424c-ecc8-5043f1cd7113"
      },
      "source": [
        "print(\"Accuracy:\",metrics.accuracy_score(y_test, y_pred))\n",
        "print(\"Precision:\",metrics.precision_score(y_test, y_pred))\n",
        "print(\"Recall:\",metrics.recall_score(y_test, y_pred))"
      ],
      "execution_count": 26,
      "outputs": [
        {
          "output_type": "stream",
          "text": [
            "Accuracy: 0.6390977443609023\n",
            "Precision: 0.7757009345794392\n",
            "Recall: 0.535483870967742\n"
          ],
          "name": "stdout"
        }
      ]
    },
    {
      "cell_type": "markdown",
      "metadata": {
        "id": "hSNHWR11DMeL",
        "colab_type": "text"
      },
      "source": [
        "ROC Curve"
      ]
    },
    {
      "cell_type": "code",
      "metadata": {
        "id": "0Uij-vCC2NpO",
        "colab_type": "code",
        "colab": {
          "base_uri": "https://localhost:8080/",
          "height": 265
        },
        "outputId": "5f520a71-e541-47aa-d94b-c3affb0181c6"
      },
      "source": [
        "y_pred_proba = logreg.predict_proba(X_test)[::,1]\n",
        "fpr, tpr, _ = metrics.roc_curve(y_test,  y_pred_proba)\n",
        "auc = metrics.roc_auc_score(y_test, y_pred_proba)\n",
        "plt.plot(fpr,tpr,label=\"data 1, auc=\"+str(auc))\n",
        "plt.legend(loc=4)\n",
        "plt.show()"
      ],
      "execution_count": 27,
      "outputs": [
        {
          "output_type": "display_data",
          "data": {
            "image/png": "[encoded data removed]",
            "text/plain": [
              "<Figure size 432x288 with 1 Axes>"
            ]
          },
          "metadata": {
            "tags": [],
            "needs_background": "light"
          }
        }
      ]
    },
    {
      "cell_type": "code",
      "metadata": {
        "id": "Tw5QmoNlJUPi",
        "colab_type": "code",
        "colab": {}
      },
      "source": [
        ""
      ],
      "execution_count": 27,
      "outputs": []
    },
    {
      "cell_type": "markdown",
      "metadata": {
        "id": "_iPuVfYdpd8t",
        "colab_type": "text"
      },
      "source": [
        "#Decision Tree Classifier"
      ]
    },
    {
      "cell_type": "code",
      "metadata": {
        "id": "tLP2qTAWgO74",
        "colab_type": "code",
        "colab": {}
      },
      "source": [
        "data = pd.get_dummies(data_final[['no_of_employees', 'wresult']])\n",
        "data['send'] = data_final['send'].astype('category').cat.codes"
      ],
      "execution_count": 45,
      "outputs": []
    },
    {
      "cell_type": "code",
      "metadata": {
        "id": "Bx6JT0TxhgXP",
        "colab_type": "code",
        "colab": {
          "base_uri": "https://localhost:8080/",
          "height": 80
        },
        "outputId": "80e6c9c1-844a-49ff-c294-359ac38697f3"
      },
      "source": [
        "data.sample()"
      ],
      "execution_count": 50,
      "outputs": [
        {
          "output_type": "execute_result",
          "data": {
            "text/html": [
              "<div>\n",
              "<style scoped>\n",
              "    .dataframe tbody tr th:only-of-type {\n",
              "        vertical-align: middle;\n",
              "    }\n",
              "\n",
              "    .dataframe tbody tr th {\n",
              "        vertical-align: top;\n",
              "    }\n",
              "\n",
              "    .dataframe thead th {\n",
              "        text-align: right;\n",
              "    }\n",
              "</style>\n",
              "<table border=\"1\" class=\"dataframe\">\n",
              "  <thead>\n",
              "    <tr style=\"text-align: right;\">\n",
              "      <th></th>\n",
              "      <th>no_of_employees_0 a 5 personas</th>\n",
              "      <th>no_of_employees_6 a 10 personas</th>\n",
              "      <th>wresult_Bad</th>\n",
              "      <th>wresult_Good</th>\n",
              "      <th>wresult_Website Down</th>\n",
              "      <th>wresult_Website not available</th>\n",
              "      <th>send</th>\n",
              "    </tr>\n",
              "  </thead>\n",
              "  <tbody>\n",
              "    <tr>\n",
              "      <th>8175</th>\n",
              "      <td>1</td>\n",
              "      <td>0</td>\n",
              "      <td>0</td>\n",
              "      <td>0</td>\n",
              "      <td>0</td>\n",
              "      <td>1</td>\n",
              "      <td>0</td>\n",
              "    </tr>\n",
              "  </tbody>\n",
              "</table>\n",
              "</div>"
            ],
            "text/plain": [
              "      no_of_employees_0 a 5 personas  ...  send\n",
              "8175                               1  ...     0\n",
              "\n",
              "[1 rows x 7 columns]"
            ]
          },
          "metadata": {
            "tags": []
          },
          "execution_count": 50
        }
      ]
    },
    {
      "cell_type": "code",
      "metadata": {
        "colab_type": "code",
        "id": "A9TrzMxGfvuq",
        "colab": {}
      },
      "source": [
        "X = data.values[:, :-1].astype(float)\n",
        "y = data.values[:, -1].astype(float)"
      ],
      "execution_count": 51,
      "outputs": []
    },
    {
      "cell_type": "code",
      "metadata": {
        "colab_type": "code",
        "id": "Zm6xLtalfvuu",
        "colab": {}
      },
      "source": [
        "from sklearn.model_selection import train_test_split\n",
        "X_train, X_test, y_train, y_test = train_test_split(X, y, stratify=y, test_size=0.2)"
      ],
      "execution_count": 55,
      "outputs": []
    },
    {
      "cell_type": "code",
      "metadata": {
        "id": "ryu9oKzSpPvu",
        "colab_type": "code",
        "colab": {
          "base_uri": "https://localhost:8080/",
          "height": 34
        },
        "outputId": "e0fd6132-d059-4373-8751-121e5e8a743f"
      },
      "source": [
        "from sklearn.tree import DecisionTreeClassifier\n",
        "from sklearn import metrics\n",
        "clf = DecisionTreeClassifier()\n",
        "clf = clf.fit(X_train,y_train)\n",
        "y_pred = clf.predict(X_test)\n",
        "print(\"Accuracy:\",metrics.accuracy_score(y_test, y_pred))"
      ],
      "execution_count": 56,
      "outputs": [
        {
          "output_type": "stream",
          "text": [
            "Accuracy: 0.6235955056179775\n"
          ],
          "name": "stdout"
        }
      ]
    },
    {
      "cell_type": "code",
      "metadata": {
        "id": "4g3pQHEsp2ve",
        "colab_type": "code",
        "colab": {
          "base_uri": "https://localhost:8080/",
          "height": 753
        },
        "outputId": "309bf452-6ff1-4acf-fb39-b4c69d490415"
      },
      "source": [
        "from sklearn.tree import export_graphviz\n",
        "from sklearn.externals.six import StringIO  \n",
        "from IPython.display import Image  \n",
        "import pydotplus\n",
        "\n",
        "dot_data = StringIO()\n",
        "export_graphviz(clf, out_file=dot_data,  \n",
        "                filled=True, rounded=True,\n",
        "                special_characters=True,feature_names = data.columns[:-1],class_names=labels)\n",
        "graph = pydotplus.graph_from_dot_data(dot_data.getvalue())  \n",
        "graph.write_png('send_not_send.png')\n",
        "Image(graph.create_png())"
      ],
      "execution_count": 58,
      "outputs": [
        {
          "output_type": "execute_result",
          "data": {
            "image/png": "[encoded data removed]",
            "text/plain": [
              "<IPython.core.display.Image object>"
            ]
          },
          "metadata": {
            "tags": []
          },
          "execution_count": 58
        }
      ]
    },
    {
      "cell_type": "code",
      "metadata": {
        "id": "eVUwHVTQiMj9",
        "colab_type": "code",
        "colab": {}
      },
      "source": [
        ""
      ],
      "execution_count": null,
      "outputs": []
    }
  ]
}