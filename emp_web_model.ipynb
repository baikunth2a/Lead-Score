{
  "nbformat": 4,
  "nbformat_minor": 0,
  "metadata": {
    "colab": {
      "name": "emp_web_model.ipynb",
      "provenance": [],
      "collapsed_sections": [
        "Ij3JVt2NCtlx",
        "Dcp63u49CyXv",
        "biqNf9_rC6fb"
      ],
      "authorship_tag": "ABX9TyN/qw/+BryVoJkdkmnlsh20"
    },
    "kernelspec": {
      "name": "python3",
      "display_name": "Python 3"
    }
  },
  "cells": [
    {
      "cell_type": "markdown",
      "metadata": {
        "id": "n0zczrDWi_Y1",
        "colab_type": "text"
      },
      "source": [
        "#Setup Chromium Driver"
      ]
    },
    {
      "cell_type": "code",
      "metadata": {
        "id": "F9iTyLvHBDha",
        "colab_type": "code",
        "colab": {
          "base_uri": "https://localhost:8080/",
          "height": 1000
        },
        "outputId": "f04ae0e3-3500-4c4c-ad05-ecb811526ef2"
      },
      "source": [
        "!apt-get update\n",
        "!apt install chromium-chromedriver\n",
        "!pip install selenium\n",
        "!cp /usr/lib/chromium-browser/chromedriver /usr/bin"
      ],
      "execution_count": 2,
      "outputs": [
        {
          "output_type": "stream",
          "text": [
            "Get:1 http://security.ubuntu.com/ubuntu bionic-security InRelease [88.7 kB]\n",
            "Ign:2 https://developer.download.nvidia.com/compute/cuda/repos/ubuntu1804/x86_64  InRelease\n",
            "Get:3 https://cloud.r-project.org/bin/linux/ubuntu bionic-cran35/ InRelease [3,626 B]\n",
            "Hit:4 http://archive.ubuntu.com/ubuntu bionic InRelease\n",
            "Get:5 http://ppa.launchpad.net/graphics-drivers/ppa/ubuntu bionic InRelease [21.3 kB]\n",
            "Ign:6 https://developer.download.nvidia.com/compute/machine-learning/repos/ubuntu1804/x86_64  InRelease\n",
            "Hit:7 https://developer.download.nvidia.com/compute/cuda/repos/ubuntu1804/x86_64  Release\n",
            "Hit:8 https://developer.download.nvidia.com/compute/machine-learning/repos/ubuntu1804/x86_64  Release\n",
            "Get:9 http://archive.ubuntu.com/ubuntu bionic-updates InRelease [88.7 kB]\n",
            "Get:10 http://security.ubuntu.com/ubuntu bionic-security/universe amd64 Packages [890 kB]\n",
            "Get:11 http://ppa.launchpad.net/marutter/c2d4u3.5/ubuntu bionic InRelease [15.4 kB]\n",
            "Get:12 http://security.ubuntu.com/ubuntu bionic-security/main amd64 Packages [1,045 kB]\n",
            "Get:13 http://archive.ubuntu.com/ubuntu bionic-backports InRelease [74.6 kB]\n",
            "Get:14 https://cloud.r-project.org/bin/linux/ubuntu bionic-cran35/ Packages [95.7 kB]\n",
            "Get:17 http://ppa.launchpad.net/graphics-drivers/ppa/ubuntu bionic/main amd64 Packages [43.0 kB]\n",
            "Get:18 http://archive.ubuntu.com/ubuntu bionic-updates/main amd64 Packages [1,341 kB]\n",
            "Get:19 http://ppa.launchpad.net/marutter/c2d4u3.5/ubuntu bionic/main Sources [1,863 kB]\n",
            "Get:20 http://archive.ubuntu.com/ubuntu bionic-updates/universe amd64 Packages [1,418 kB]\n",
            "Get:21 http://ppa.launchpad.net/marutter/c2d4u3.5/ubuntu bionic/main amd64 Packages [899 kB]\n",
            "Fetched 7,888 kB in 3s (2,370 kB/s)\n",
            "Reading package lists... Done\n",
            "Reading package lists... Done\n",
            "Building dependency tree       \n",
            "Reading state information... Done\n",
            "The following package was automatically installed and is no longer required:\n",
            "  libnvidia-common-440\n",
            "Use 'apt autoremove' to remove it.\n",
            "The following additional packages will be installed:\n",
            "  chromium-browser chromium-browser-l10n chromium-codecs-ffmpeg-extra\n",
            "Suggested packages:\n",
            "  webaccounts-chromium-extension unity-chromium-extension adobe-flashplugin\n",
            "The following NEW packages will be installed:\n",
            "  chromium-browser chromium-browser-l10n chromium-chromedriver\n",
            "  chromium-codecs-ffmpeg-extra\n",
            "0 upgraded, 4 newly installed, 0 to remove and 60 not upgraded.\n",
            "Need to get 76.2 MB of archives.\n",
            "After this operation, 255 MB of additional disk space will be used.\n",
            "Get:1 http://archive.ubuntu.com/ubuntu bionic-updates/universe amd64 chromium-codecs-ffmpeg-extra amd64 84.0.4147.105-0ubuntu0.18.04.1 [1,118 kB]\n",
            "Get:2 http://archive.ubuntu.com/ubuntu bionic-updates/universe amd64 chromium-browser amd64 84.0.4147.105-0ubuntu0.18.04.1 [67.4 MB]\n",
            "Get:3 http://archive.ubuntu.com/ubuntu bionic-updates/universe amd64 chromium-browser-l10n all 84.0.4147.105-0ubuntu0.18.04.1 [3,379 kB]\n",
            "Get:4 http://archive.ubuntu.com/ubuntu bionic-updates/universe amd64 chromium-chromedriver amd64 84.0.4147.105-0ubuntu0.18.04.1 [4,354 kB]\n",
            "Fetched 76.2 MB in 3s (24.2 MB/s)\n",
            "Selecting previously unselected package chromium-codecs-ffmpeg-extra.\n",
            "(Reading database ... 144579 files and directories currently installed.)\n",
            "Preparing to unpack .../chromium-codecs-ffmpeg-extra_84.0.4147.105-0ubuntu0.18.04.1_amd64.deb ...\n",
            "Unpacking chromium-codecs-ffmpeg-extra (84.0.4147.105-0ubuntu0.18.04.1) ...\n",
            "Selecting previously unselected package chromium-browser.\n",
            "Preparing to unpack .../chromium-browser_84.0.4147.105-0ubuntu0.18.04.1_amd64.deb ...\n",
            "Unpacking chromium-browser (84.0.4147.105-0ubuntu0.18.04.1) ...\n",
            "Selecting previously unselected package chromium-browser-l10n.\n",
            "Preparing to unpack .../chromium-browser-l10n_84.0.4147.105-0ubuntu0.18.04.1_all.deb ...\n",
            "Unpacking chromium-browser-l10n (84.0.4147.105-0ubuntu0.18.04.1) ...\n",
            "Selecting previously unselected package chromium-chromedriver.\n",
            "Preparing to unpack .../chromium-chromedriver_84.0.4147.105-0ubuntu0.18.04.1_amd64.deb ...\n",
            "Unpacking chromium-chromedriver (84.0.4147.105-0ubuntu0.18.04.1) ...\n",
            "Setting up chromium-codecs-ffmpeg-extra (84.0.4147.105-0ubuntu0.18.04.1) ...\n",
            "Setting up chromium-browser (84.0.4147.105-0ubuntu0.18.04.1) ...\n",
            "update-alternatives: using /usr/bin/chromium-browser to provide /usr/bin/x-www-browser (x-www-browser) in auto mode\n",
            "update-alternatives: using /usr/bin/chromium-browser to provide /usr/bin/gnome-www-browser (gnome-www-browser) in auto mode\n",
            "Setting up chromium-chromedriver (84.0.4147.105-0ubuntu0.18.04.1) ...\n",
            "Setting up chromium-browser-l10n (84.0.4147.105-0ubuntu0.18.04.1) ...\n",
            "Processing triggers for hicolor-icon-theme (0.17-2) ...\n",
            "Processing triggers for mime-support (3.60ubuntu1) ...\n",
            "Processing triggers for man-db (2.8.3-2ubuntu0.1) ...\n",
            "Collecting selenium\n",
            "\u001b[?25l  Downloading https://files.pythonhosted.org/packages/80/d6/4294f0b4bce4de0abf13e17190289f9d0613b0a44e5dd6a7f5ca98459853/selenium-3.141.0-py2.py3-none-any.whl (904kB)\n",
            "\u001b[K     |████████████████████████████████| 911kB 2.9MB/s \n",
            "\u001b[?25hRequirement already satisfied: urllib3 in /usr/local/lib/python3.6/dist-packages (from selenium) (1.24.3)\n",
            "Installing collected packages: selenium\n",
            "Successfully installed selenium-3.141.0\n",
            "cp: '/usr/lib/chromium-browser/chromedriver' and '/usr/bin/chromedriver' are the same file\n"
          ],
          "name": "stdout"
        }
      ]
    },
    {
      "cell_type": "markdown",
      "metadata": {
        "id": "QIoaZk4ajZ4k",
        "colab_type": "text"
      },
      "source": [
        "#Setup Google Drive File System"
      ]
    },
    {
      "cell_type": "code",
      "metadata": {
        "id": "RzxZQR5oDBs9",
        "colab_type": "code",
        "colab": {
          "base_uri": "https://localhost:8080/",
          "height": 139
        },
        "outputId": "62fcb0d0-6650-44af-a908-6794dc9865a0"
      },
      "source": [
        "import pandas as pd\n",
        "import sys\n",
        "import os\n",
        "\n",
        "from google.colab import drive\n",
        "drive.mount('/content/gdrive/')\n",
        "sys.path.append('/content/gdrive/My Drive/lead_gen')\n",
        "%cd /content/gdrive/My\\ Drive/lead_gen"
      ],
      "execution_count": 1,
      "outputs": [
        {
          "output_type": "stream",
          "text": [
            "Go to this URL in a browser: https://accounts.google.com/o/oauth2/auth?client_id=947318989803-6bn6qk8qdgf4n4g3pfee6491hc0brc4i.apps.googleusercontent.com&redirect_uri=urn%3aietf%3awg%3aoauth%3a2.0%3aoob&scope=email%20https%3a%2f%2fwww.googleapis.com%2fauth%2fdocs.test%20https%3a%2f%2fwww.googleapis.com%2fauth%2fdrive%20https%3a%2f%2fwww.googleapis.com%2fauth%2fdrive.photos.readonly%20https%3a%2f%2fwww.googleapis.com%2fauth%2fpeopleapi.readonly&response_type=code\n",
            "\n",
            "Enter your authorization code:\n",
            "··········\n",
            "Mounted at /content/gdrive/\n",
            "/content/gdrive/My Drive/lead_gen\n"
          ],
          "name": "stdout"
        }
      ]
    },
    {
      "cell_type": "code",
      "metadata": {
        "id": "PStZIMjW0xjM",
        "colab_type": "code",
        "colab": {}
      },
      "source": [
        "excel_data = pd.read_excel('send_or_not.xlsx', sheet_name='13k')\n",
        "excel_data.rename(columns={'SEND/NOT SEND':'send'}, inplace=True)\n",
        "data_i = excel_data[excel_data['send'].apply(lambda x: x in ['SEND', 'NOT SEND'])]"
      ],
      "execution_count": 50,
      "outputs": []
    },
    {
      "cell_type": "code",
      "metadata": {
        "id": "q8Fi9KaBpuVt",
        "colab_type": "code",
        "colab": {
          "base_uri": "https://localhost:8080/",
          "height": 34
        },
        "outputId": "8af290bb-b621-498b-bd33-f53285482af6"
      },
      "source": [
        "data_i.shape"
      ],
      "execution_count": 51,
      "outputs": [
        {
          "output_type": "execute_result",
          "data": {
            "text/plain": [
              "(1743, 50)"
            ]
          },
          "metadata": {
            "tags": []
          },
          "execution_count": 51
        }
      ]
    },
    {
      "cell_type": "markdown",
      "metadata": {
        "id": "YS8Q3qZ04M6k",
        "colab_type": "text"
      },
      "source": [
        "#Website ranking"
      ]
    },
    {
      "cell_type": "markdown",
      "metadata": {
        "id": "LdHNddvh5cFV",
        "colab_type": "text"
      },
      "source": [
        "###Read only unique websites"
      ]
    },
    {
      "cell_type": "code",
      "metadata": {
        "id": "0jNFu4uM4OMe",
        "colab_type": "code",
        "colab": {
          "base_uri": "https://localhost:8080/",
          "height": 34
        },
        "outputId": "c140b9ef-a4eb-4ef1-dd1c-cd3fb5bba74b"
      },
      "source": [
        "data_i['website'].duplicated().sum()"
      ],
      "execution_count": 52,
      "outputs": [
        {
          "output_type": "execute_result",
          "data": {
            "text/plain": [
              "817"
            ]
          },
          "metadata": {
            "tags": []
          },
          "execution_count": 52
        }
      ]
    },
    {
      "cell_type": "code",
      "metadata": {
        "id": "s16vTx2gOpYW",
        "colab_type": "code",
        "colab": {}
      },
      "source": [
        "w_test = pd.DataFrame(data_i['website'].dropna().str.replace(\" \",\"\").str.lower().unique(), columns = ['web'])"
      ],
      "execution_count": 53,
      "outputs": []
    },
    {
      "cell_type": "code",
      "metadata": {
        "id": "F_iw_ZpxROXB",
        "colab_type": "code",
        "colab": {
          "base_uri": "https://localhost:8080/",
          "height": 204
        },
        "outputId": "16dc8e6f-e810-4ef4-ab1d-1f90b1f479d7"
      },
      "source": [
        "w_test.head()"
      ],
      "execution_count": 54,
      "outputs": [
        {
          "output_type": "execute_result",
          "data": {
            "text/html": [
              "<div>\n",
              "<style scoped>\n",
              "    .dataframe tbody tr th:only-of-type {\n",
              "        vertical-align: middle;\n",
              "    }\n",
              "\n",
              "    .dataframe tbody tr th {\n",
              "        vertical-align: top;\n",
              "    }\n",
              "\n",
              "    .dataframe thead th {\n",
              "        text-align: right;\n",
              "    }\n",
              "</style>\n",
              "<table border=\"1\" class=\"dataframe\">\n",
              "  <thead>\n",
              "    <tr style=\"text-align: right;\">\n",
              "      <th></th>\n",
              "      <th>web</th>\n",
              "    </tr>\n",
              "  </thead>\n",
              "  <tbody>\n",
              "    <tr>\n",
              "      <th>0</th>\n",
              "      <td>www.filtronicssystems.com.mx</td>\n",
              "    </tr>\n",
              "    <tr>\n",
              "      <th>1</th>\n",
              "      <td>www.clinicaarce.com.mx</td>\n",
              "    </tr>\n",
              "    <tr>\n",
              "      <th>2</th>\n",
              "      <td>http://cronosmonterrey.com/</td>\n",
              "    </tr>\n",
              "    <tr>\n",
              "      <th>3</th>\n",
              "      <td>www.avanceempresarial.com</td>\n",
              "    </tr>\n",
              "    <tr>\n",
              "      <th>4</th>\n",
              "      <td>www.viajesrangel.com.mx</td>\n",
              "    </tr>\n",
              "  </tbody>\n",
              "</table>\n",
              "</div>"
            ],
            "text/plain": [
              "                            web\n",
              "0  www.filtronicssystems.com.mx\n",
              "1        www.clinicaarce.com.mx\n",
              "2   http://cronosmonterrey.com/\n",
              "3     www.avanceempresarial.com\n",
              "4       www.viajesrangel.com.mx"
            ]
          },
          "metadata": {
            "tags": []
          },
          "execution_count": 54
        }
      ]
    },
    {
      "cell_type": "markdown",
      "metadata": {
        "id": "rOXjtrVt5ijx",
        "colab_type": "text"
      },
      "source": [
        "Check the size of unique websites"
      ]
    },
    {
      "cell_type": "code",
      "metadata": {
        "id": "_PtkjqBBRnva",
        "colab_type": "code",
        "colab": {
          "base_uri": "https://localhost:8080/",
          "height": 34
        },
        "outputId": "ca09d642-31b8-4409-cdc6-1b9d822902e4"
      },
      "source": [
        "w_test.shape"
      ],
      "execution_count": 8,
      "outputs": [
        {
          "output_type": "execute_result",
          "data": {
            "text/plain": [
              "(925, 1)"
            ]
          },
          "metadata": {
            "tags": []
          },
          "execution_count": 8
        }
      ]
    },
    {
      "cell_type": "markdown",
      "metadata": {
        "id": "KtM25uBr5rIz",
        "colab_type": "text"
      },
      "source": [
        "###Running the classification script"
      ]
    },
    {
      "cell_type": "markdown",
      "metadata": {
        "id": "Yx6cwW125ToT",
        "colab_type": "text"
      },
      "source": [
        "Importing Classification Script"
      ]
    },
    {
      "cell_type": "code",
      "metadata": {
        "id": "I2iWpoGGkLkL",
        "colab_type": "code",
        "colab": {}
      },
      "source": [
        "import wc\n",
        "wc.dict1={}"
      ],
      "execution_count": 9,
      "outputs": []
    },
    {
      "cell_type": "code",
      "metadata": {
        "id": "EVaWi_id4nKf",
        "colab_type": "code",
        "colab": {
          "base_uri": "https://localhost:8080/",
          "height": 1000
        },
        "outputId": "0817af68-8890-4d25-dc3b-30bfc3f938bd"
      },
      "source": [
        "#need to optimize\n",
        "i=0\n",
        "for websites in w_test['web']:\n",
        "  wc.driver = wc.webdriver.Chrome('chromedriver',options=wc.chrome_options)\n",
        "  wc.main_func(str(websites))\n",
        "  i=i+1\n",
        "  print(\"Current session is {} - {} - {} - {}\".format(wc.driver.session_id, i, str(websites), wc.dict1[str(websites)]))\n",
        "  wc.driver.close()"
      ],
      "execution_count": 10,
      "outputs": [
        {
          "output_type": "stream",
          "text": [
            "Current session is 46d4cf622788975b02086e3b7d71a701 - 1 - WWW.FILTRONICSSYSTEMS.COM.MX - Website Down\n",
            "Current session is 9955f6f02bacf5aa4467200bc3b9b36f - 2 - WWW.CLINICAARCE.COM.MX - Bad\n",
            "Current session is e6ca82d1cca452cb569e3d58556c7ca4 - 3 - http://cronosmonterrey.com/ - Website Down\n",
            "Current session is 14a114316e287331d82d3c87a697cc74 - 4 - WWW.AVANCEEMPRESARIAL.COM - Website Down\n",
            "Current session is dbf404e80d3018b6f0184dd519dc9076 - 5 - WWW.VIAJESRANGEL.COM.MX - Website Down\n",
            "Current session is 7fa075e53ff740bbe9029169b8d483ac - 6 - WWW.EENAV.COM - Good\n",
            "Current session is 41480b00ef4f96fb26a01175c8cd8107 - 7 - WWW.FYPEXHERRAMENTAL.COM - Good\n",
            "Current session is 338019501940c266d6a62732161099f7 - 8 - http://zona572.com/~agripro/ - Good\n",
            "Current session is 551325d425f68ec45c572b59f65c8658 - 9 - WWW.GLOBEI.COM.MX - Good\n",
            "Current session is 96895eacd87467474258e011bfe7cf1f - 10 - http://www.gdtrailers.com/ - Good\n",
            "Current session is 1aafc605aa143477fad59434854edcd6 - 11 - https://despachocrisostomo.com.mx/ - Good\n",
            "Current session is 7428666f2fa0e0ecef1086e76090db8d - 12 - caescontadores.com - Website Down\n",
            "Current session is ece73d492f0b4e31dccc876f043b3ed2 - 13 - https://getconsultoria.com/ - Good\n",
            "Current session is ab86cff248775857dc4f364bc875394c - 14 - WWW.STJ.GOB.MX - Bad\n",
            "Current session is 2f95ca4e19f7e4f0a44e0a165a252f46 - 15 - WWW.ARANZAYASOCIADOS.COM.MX - Website Down\n",
            "Current session is 6e6ab33b9266580c9962e1273ca6a503 - 16 - WWW.SOFFICABALLERO.COM - Website Down\n",
            "Current session is feff541cc59fc817d186165388a7abc1 - 17 - https://despachopenaldemandayembargo.com.mx/ - Good\n",
            "Current session is 9111c356cd99059b461c59735fa829a7 - 18 - WWW.BARDAHL.COM.MX - Good\n",
            "Current session is fda428ac1f6ac575db51deefad565885 - 19 - WWW.FESTO.COM.MX - Good\n",
            "Current session is 7d2948ccc973d9c151b9b0abcbaf47fb - 20 - http://festo.com/hq/en/cms/festo.htm - Bad\n",
            "Current session is 72b4c2f6a07dd8f59c43928ee282f862 - 21 - WWW.CASARECA.COM - Good\n",
            "Current session is 258b746b8e9cd0335020e497671a46bd - 22 - WWW.PINTACOMEX.COM.MX - Good\n",
            "Current session is f69a8920c5723dde21bc332ef4666d64 - 23 - http://aguasoluciones.com.mx/ - Good\n",
            "Current session is 87b7e2d12169d02d5f6b68a9b80bb5a0 - 24 - WWW.BACHEMIX.COM - Good\n",
            "Current session is 66fb2332d860c27f10f086298cbd4214 - 25 - WWW.CATSACONCRETOS.MX - Good\n",
            "Current session is d31eff79a3913cd8b900e3ad4c41e76d - 26 - https://www.grupopascal.com.mx/ - Bad\n",
            "Current session is c4635c9dcaacc9cbe49878a428a11f86 - 27 - garbersc.com - Website Down\n",
            "Current session is 82a2cb3f60093d49d6ac6b2ca9167659 - 28 - WWW.AXNET.COM.MX - Good\n",
            "Current session is 4d2c9e378e4403709ca5b5b6530170ff - 29 - WWW.EDIN.MX - Bad\n",
            "Current session is 6b96dd8da42c8bd8322cfb3033dfe2a0 - 30 - WWW.TUFESA.COM.MX - Good\n",
            "Current session is 1c1096a4efa86f4a41924540da277ff7 - 31 - http://www.juliandeobregon.com.mx/ - Good\n",
            "Current session is 16186e0a388f7d5636769e61854ad980 - 32 - http://servifront.com.mx/ - Bad\n",
            "Current session is 1b1abed265b1d88944f996b011027985 - 33 - WWW.CUADRITOS.MX - Bad\n",
            "Current session is b4c5963558e2b763831581f4773a32ca - 34 - WWW.FUGRO.COM - Good\n",
            "Current session is 10ff63b51923d68680769f0794d92474 - 35 - HTTP://WWW.FUGRO.COM - Website Down\n",
            "Current session is 2ce948e135c7ac264c0aa8c4e37bdefa - 36 - https://factor02.com/ - Website Down\n",
            "Current session is dedeff53de3b297a40b6a19090704e2e - 37 - http://eseeni.com/ - Website Down\n",
            "Current session is 8b04c8e68caa14340cf74f7a76273150 - 38 - WWW.ARANZAZU.COM.MX - Good\n",
            "Current session is 116e81a7c480ad60b5907467af4989f6 - 39 - https://blarneycastlecabo.com/ - Good\n",
            "Current session is f28fb57f30888db218076de772874d80 - 40 - WWW.MACTUARIAL.COM.MX - Good\n",
            "Current session is 67c688436bb11dea73d42e58fdaebed2 - 41 - https://proagroseguros.com.mx/ - Good\n",
            "Current session is 6b11c98f26fc293f2ac6b3695d697548 - 42 - WWW.SNTSG.SEGOB.GOB.MX - Website Down\n",
            "Current session is 5d2350b14d2353a401ba9a642bc93687 - 43 - http://www.orozcoyasociados.com.mx/ - Good\n",
            "Current session is 8b841c3329c41ed1eafe075dffc02446 - 44 - WWW.MAQUINADOSALBA.COM.MX - Bad\n",
            "Current session is f188ee26b8c14ae6eb114e4c86af9634 - 45 - https://feherandfeher.com/ - Good\n",
            "Current session is 7605fdc9ec10d4db6fc62c27b9f1588e - 46 - http://estructurasjasan.com/ - Good\n",
            "Current session is e9f62e45dbbf8e8a315c71948ae20900 - 47 - WWW.ASPATEC.COM.MX - Good\n",
            "Current session is 42c205cae21427e00e56e889345533e7 - 48 - WWW.ENERGISOL.COM.MX - Website Down\n",
            "Current session is 8cdcf641ef6216844f6c1c7effb89b9a - 49 - WWW.INDUSTRIASANZUREZ.COM - Website Down\n",
            "Current session is e9d59c3a35165a5ff2a46d0f4d73f24f - 50 - https://www.consupago.com/ - Good\n",
            "Current session is 9bba47a66f62c4c2708beabff576f0bd - 51 - WWW.ITSMEX.COM.MX - Bad\n",
            "Current session is 3d6c214eef2c5ae292263e2b303d4161 - 52 - WWW.EDAE.COM.MX - Good\n",
            "Current session is fa9571646adc0231741f12b7a5cb0fba - 53 - WWW.GEOCEANICA.COM.MX - Good\n",
            "Current session is 983501eb10a7614ee4ea8ea44c4281fd - 54 - WWW.ACERTEC.COM.MX - Bad\n",
            "Current session is b723d7e04f3a872d805ba83d6c973c64 - 55 - WWW.LANFEGESTORIAYAVALUOS.COM - Good\n",
            "Current session is 71946c465f028895691fa307071abe2d - 56 - https://mascotinos.com/ - Good\n",
            "Current session is 220296d04093381c8e422216d127080f - 57 - WWW.FARMACIASDESIMILARES.COM - Bad\n",
            "Current session is dc7b22631c09509436d72b4211faecec - 58 - WWW.FINAGAM.COM.MX - Bad\n",
            "Current session is ed209a88abba2bdc8d1264432b4ad651 - 59 - WWW.MINERIA.ORG.MX - Good\n",
            "Current session is e2f9ab5d20947b7bca6f296dd88aa8d4 - 60 - WWW.CITYMEDICA.COM - Bad\n",
            "Current session is 77c9398b056fd65fe54e0b98bab06e92 - 61 - WWW.RESLAB.COM.MX - Website Down\n",
            "Current session is e3f6543373e7e59739925e6470f1ece4 - 62 - WWW.BOXITO.COM.MX - Good\n",
            "Current session is ebebbce75852349a1809f0ce2253086d - 63 - WWW.SEGOB.GOB.MX - Good\n",
            "Current session is 7621c150e1df51348c218753a855e3e2 - 64 - WWW.BANOBRAS.GOB.MX - Good\n",
            "Current session is eb723141f56f8a73cb8aa03b055afca1 - 65 - WWW.IEEHIDALGO.ORG.MX - Good\n",
            "Current session is 5838fb34854cacc88dac71337f0fb7d8 - 66 - WWW.BOLTMEDIA.COM.MX - Good\n",
            "Current session is 059b05f46db06bee5c2275d27527e330 - 67 - https://www.cicese.edu.mx/ - Good\n",
            "Current session is fa2652e597652dade4058fe52220e7fa - 68 - WWW.LOGISTIKPAK.COM.MX - Website Down\n",
            "Current session is e5cc23989fdc1a2f3339219bacfaebda - 69 - https://es-la.facebook.com/admobiliaapi/ - Good\n",
            "Current session is ef0f8c9e47d2a156680670aeef3b8cd3 - 70 - http://condensa.mx/ - Good\n",
            "Current session is 0f0590fc0d3195a64d94bf9f80e33a94 - 71 - http://centraldebombas.mx/ - Good\n",
            "Current session is 3e973d2d998c15228c8cbd07681c064a - 72 - WWW.ALTEQ.COM - Bad\n",
            "Current session is 15e2cec65e98160177b4a241856a9991 - 73 - https://www.altatelefonia.com.mx/ - Website Down\n",
            "Current session is 14807f90b1f317cdbdf3bf4ec60d3cab - 74 - restaurantcocodrilosbarandgrill.com - Good\n",
            "Current session is 0ec54fcb9b1d1df40ff1d3c37169f0bd - 75 - https://www.dumexique.com/ - Good\n",
            "Current session is 975be5ecd2905da788028bbd359e026d - 76 - https://www.facebook.com/Leosburguer1/ - Good\n",
            "Current session is b4ac7bc3824f9fc9efa6f71324344cf0 - 77 - WWW.HAMBURGUESASHM.COM - Bad\n",
            "Current session is 8d53561edac63047b5169973f9b76207 - 78 - https://gianninos.com.mx/ - Good\n",
            "Current session is 71a45407af483a3dc58bfc79c53a6db2 - 79 - WWW.ELBURROFELIZ.COM.MX - Website Down\n",
            "Current session is 1b2ce85e6ec7753ade31055f160fb0dd - 80 - gpoibarra.com - Good\n",
            "Current session is b1ef3dd20ba0a516bdc94b42f2da080f - 81 - WWW.VEANA.COM.MX - Website Down\n",
            "Current session is 3d0926dcdd0bece0fa112edb1854cadb - 82 - WWW.SERVIFACIL.COM.MX - Good\n",
            "Current session is d7797429f4fbe0c6e59691eca00f344f - 83 - http://laistmena.com/ - Website Down\n",
            "Current session is d7c66747940cd36732382f32b69fccd7 - 84 - WWW.ACTUALSTUDIO.COM - Good\n",
            "Current session is b83bb0de13c6e59298cc651883c8ba4d - 85 - enerkom.com.mx - Good\n",
            "Current session is 8249bf355366056886521f0fd2e1fbc1 - 86 - WWW.VERSION.COM.MX - Bad\n",
            "Current session is 499ee1ea9e74f73823562f01a51946ae - 87 - WWW.LLANTAMAYA.COM - Good\n",
            "Current session is 36f4b38f6eb18936650f720047f104f2 - 88 - WWW.VITALLANTAS.COM.MX - Good\n",
            "Current session is 8171c7af6486588470743b62d08d5cbe - 89 - https://www.gpoibarra.com/ - Good\n",
            "Current session is e92f6238a7680d6c9be9f4945c215819 - 90 - https://us.coopertire.com/ - Good\n",
            "Current session is 3c7ae51067705245344dc7338bd4c4e3 - 91 - GASEXPRESSNIETO.COM - Good\n",
            "Current session is 9aab16918720f70a51466eb420389fae - 92 - http://solventesymezclas.com/ - Website Down\n",
            "Current session is d236fe5a0f8083ce6a4bad208f406ebe - 93 - WWW.FERRE20.COM - Good\n",
            "Current session is 93af9e23032f71b37ffce3d6e3521c8a - 94 - WWW.CABOCIGARS.NET - Good\n",
            "Current session is 0336effcdcc8abb04a641c5981f5a0bd - 95 - WWW.ESSD.MX - Good\n",
            "Current session is 721abf60d76565b1732894db4144b936 - 96 - WWW.CADTONER.COM.MX - Good\n",
            "Current session is d3c903f30ca9335aae89723ea963c097 - 97 - impuls.com.mx - Website Down\n",
            "Current session is 6d822547c1ee9a23944cd922e285629e - 98 - http://www.veana.com/index.html - Good\n",
            "Current session is 6528bca65c432d4f6c10bccf91b22fd8 - 99 - http://www.torinomotors.mx/ - Good\n",
            "Current session is 1b32ae1f35e36d8f988ef5f67e0dac1f - 100 - WWW.CENTRO8W.COM.MX - Good\n",
            "Current session is fbf4b5789e6542b41a2ee18acd1d4e8e - 101 - http://eladn.com.mx/ - Good\n",
            "Current session is 86249e0bfe664512ad4e91604fb0a368 - 102 - WWW.CAFEDELAFLOR.COM - Good\n",
            "Current session is 7e62dd660f141ef442a03c08ac22a5ea - 103 - https://www.facebook.com/BoschCarServiceCamelinas/ - Good\n",
            "Current session is 9d314257e5aaabe6834a9342178df858 - 104 - http://costabanderas.com.mx/ - Website Down\n",
            "Current session is 5ddca778299cdc477e3914d21188c9d6 - 105 - https://www.cjaduanero.com/ - Bad\n",
            "Current session is ca0f7206c99128c6fbd627426ec4eff0 - 106 - http://boldoconsultoressc.miadn.mx/? - Website Down\n",
            "Current session is 6e81e54353035709fed6e0bc40f04945 - 107 - WWW.UVNOM.COM - Website Down\n",
            "Current session is 684cb22a6eca796864dc8b4118aa63cb - 108 - WWW.FLORDECAPOMO.COM - Good\n",
            "Current session is 650dbd25ac7a15cc3128a9dbab3d55b9 - 109 - http://www.marveg.com/ - Good\n",
            "Current session is 1b00939930529974526f6eed8d1094ef - 110 - https://www.construrama.com/acerimat - Good\n",
            "Current session is 6cd22856b9976a4b9a5274dc5765c0ea - 111 - WWW.BRADFORD.COM.MX - Good\n",
            "Current session is c596ed5fa81f7400e17a315db2530a93 - 112 - WWW.KOBREX.COM - Bad\n",
            "Current session is 86c0e2ca85db8f4b6677814079918420 - 113 - WWW.TRABYESA.COM - Good\n",
            "Current session is 75b417aaf80c8a1b88f1b8a9f4c6e3f5 - 114 - WWW.BLG.COM.MX - Bad\n",
            "Current session is 6769314fcc14f57e0a1e99a859360d99 - 115 - http://bio-vin.com.mx/ - Bad\n",
            "Current session is 0610b881d4188ecfb4b1a1bbaf827a34 - 116 - http://escalasdelbajio.com/ - Bad\n",
            "Current session is 85dc74efe5fc6ce74bfcc2de2902eb49 - 117 - WWW.PRINCO.COM - Website Down\n",
            "Current session is d406874e7cd47de74121ff5d6c8b7b61 - 118 - DEMIM.COM.MX - Website Down\n",
            "Current session is d4144d76807cafb910d074c2d11bee87 - 119 - http://ferrusa.com/ - Bad\n",
            "Current session is fdff005d139ddf2659a4ec87564a306b - 120 - http://jarochito.com.mx/mapa/ - Website Down\n",
            "Current session is 6572756f26d3102b19aff6c22b7ce61e - 121 - WWW.DURAINTAL.COM.MX - Good\n",
            "Current session is 38e73975d3fc1aef2cbb488d356d7201 - 122 - WWW.DEMSA.MX - Good\n",
            "Current session is beb32c96378df45c6a4b8c8ba401bb92 - 123 - https://lapotranca.com.mx/ - Good\n",
            "Current session is d87c26293246ff2cec66b6334962f634 - 124 - WWW.CENTURYLINK.COM - Good\n",
            "Current session is 71f32f3cb161502becff17ea162fdf29 - 125 - http://www.cocreadores.com.mx/ - Bad\n",
            "Current session is ac8ac24700ce8d69fdd971e824b1c39e - 126 - WWW.GRUPOPOL.COM - Good\n",
            "Current session is 40ad6de023c738b76aea0d4491bbb0b2 - 127 - WWW.VESTA.COM.MX - Bad\n",
            "Current session is d8d11134dd49bb68dc79243f9d0ec3cf - 128 - https://www.anadim.com.mx/ - Website Down\n",
            "Current session is 41ec99d4045cf0f76dcf49c70c717f2d - 129 - http://www.canainpesca.com/ - Good\n",
            "Current session is f034e013650df9a0982d2489245ce2d0 - 130 - WWW.BOEING.COM - Good\n",
            "Current session is d4f3832507e014b0f6ef3f9bd4ff43fb - 131 - WWW.ASTRACORPORATIVO.COM.MX - Bad\n",
            "Current session is 6600981d7ef9419b3d1899d5585efa70 - 132 - WWW.ASIMEXINFORMES.COM.MX - Good\n",
            "Current session is b9a9814ded4256b87079d223364265ed - 133 - https://estrellablanca.com.mx/ - Good\n",
            "Current session is 501f346911d0ea81ababe6b7cc10f543 - 134 - http://caminosa.com/ - Good\n",
            "Current session is dfa07c13df8bda0fe2bf3dc8cfecc736 - 135 - WWW.LARENAYASO.COM.MX - Website Down\n",
            "Current session is fd7d8449d753d4d9bc180d515cd26933 - 136 - http://zetinayabogados.com/ - Bad\n",
            "Current session is 70188b92f6867397630524aaf16adc61 - 137 - http://anmaq.com.mx/ - Good\n",
            "Current session is 3f4ef71a1ff57c3312f223e07e414b56 - 138 - https://www.fresenius-kabi.com/ - Good\n",
            "Current session is ba4e70cd79b26b2ae0da847932cc1946 - 139 - WWW.ARRVEPORMAS.COM.MX - Bad\n",
            "Current session is 7a3abd93a05f4d136c69b3f73a91c2f8 - 140 - WWW.EATON.COM.MX - Good\n",
            "Current session is 10afa40617767bbb13831d95d1724f77 - 141 - WWW.U-STORAGE.COM.MX - Good\n",
            "Current session is b65bf44e03d9624e1785b84ecc39336e - 142 - https://cospherecg.com/ - Good\n",
            "Current session is ddd5855a6725e35a6459bbe3b90e788c - 143 - WWW.INDUSTRIASTROFOS.COM - Good\n",
            "Current session is 55d7577a0505e23d3c6b07543bb9e35b - 144 - WWW.GUSTINOS.COM - Good\n",
            "Current session is 72265a004708822dd5c841c581ba58d0 - 145 - http://digramex.com/ - Good\n",
            "Current session is 3f75714491290c6affd3680efb058829 - 146 - WWW.DRMOISESGONZALEZ.COM - Bad\n",
            "Current session is 904c7efd27880fa0b33dedbe6e44a080 - 147 - WWW.CLINEST.COM - Good\n",
            "Current session is abb8e5e59bcc586a9a7aa3546f8da529 - 148 - SALAMANCA.GOB.MX - Good\n",
            "Current session is ab8fcba2fadf47b6ab42dba55e96abdc - 149 - WWW.GRUPOLASAGUILAS.COM.MX - Good\n",
            "Current session is 29b30399ca3069017e178b1378df8dc8 - 150 - WWW.AKBASCULAS.COM - Good\n",
            "Current session is bd82642dd392d16d5b1678acc5c872c9 - 151 - WWW.GASOSUR.MX - Website Down\n",
            "Current session is cde30f4e81a2ab173c51a4c38a1a983f - 152 - https://www.gascom.mx/ - Good\n",
            "Current session is 4c3d82204739ebba56aa1a938610cc06 - 153 - WWW.NISSANTEZIUTLAN.COM.MX - Good\n",
            "Current session is d2425f655300390b9089517d5f7b1a68 - 154 - https://citycell.mx/#/ - Good\n",
            "Current session is e0fe80f2c604f4bbbbe157d1aca02438 - 155 - https://www.carmaster.mx/ - Good\n",
            "Current session is 313d3565a51629021a63ee3044230502 - 156 - WWW.MARTHASOPHIA.COM - Good\n",
            "Current session is 4073ecc797efdc4ca7aefac341facb67 - 157 - http://www.cofli.com/intro.html - Good\n",
            "Current session is 4dee06cef5334a42d0ff28d5a633ae0a - 158 - https://dmt.com.mx/ - Website Down\n",
            "Current session is f7620a06ff8424c8e258d5b959f2a314 - 159 - http://corticentro.com.mx/ - Good\n",
            "Current session is 0c337ee5dd56635c192cbe43567217a6 - 160 - https://www.cabocigars.net/ - Good\n",
            "Current session is ff1304a08059fcc1f1ea17af197a88a5 - 161 - WWW.TIENDASOPTIMA.COM.MX - Good\n",
            "Current session is f692b9c250ff3e25a0f0bea2496fc725 - 162 - WWW.SOLUCIONA.COM.MX - Good\n",
            "Current session is 6f15617dfc5f613f25a026d07692b7ef - 163 - WWW.MGMICROS.COM.MX - Good\n",
            "Current session is 579f200bdb656b6e789a860a5a0025ac - 164 - https://consertec.com.mx/ - Good\n",
            "Current session is 5ffca2f995ec51cca2d06d3767e52f34 - 165 - WWW.DISSAWEB.COM.MX - Good\n",
            "Current session is 286a280a97c673eb714670061eaac905 - 166 - WWW.ASA.GOB.MX - Website Down\n",
            "Current session is bd196f53198d7d36ddd115b029106b5b - 167 - educativademorelos.com.mx - Good\n",
            "Current session is 138232be1c321d3ae75a2e612d11009e - 168 - WWW.BABYMINK.COM - Good\n",
            "Current session is 3c87fba7897f0de858e5901c58018b9e - 169 - http://www.entuhogar.com.mx/ - Bad\n",
            "Current session is 5627914075780eee9325cc2b413d554a - 170 - SADASIYUCATAN.COM.MX - Good\n",
            "Current session is dd7931bdf34c4d16f3b96bab42bb442a - 171 - WWW.ARARESIDENCIAL.COM - Website Down\n",
            "Current session is d9f3c805c5d2e47fb28af80dd4516594 - 172 - WWW.FAST.COM.MX - Bad\n",
            "Current session is dcb26a3fab0c6aa98c3d1f50fdcfe9a0 - 173 - WWW.AGRIACCION.COM - Website Down\n",
            "Current session is ce71fce19d235f948cb66400804ef5f3 - 174 - http://www.grupocadena.com/dassa/ - Bad\n",
            "Current session is 918e99143bf74d54d410b78bc1a7b611 - 175 - https://construpac.mx/ - Bad\n",
            "Current session is 9cb4c31d2c7090411ef6f8aaac646c3d - 176 - WWW.SERVICOMP.COM.MX - Good\n",
            "Current session is 15ef3e7824ddcf3a47c3e319521bc6f0 - 177 - WWW.CORPSLAM.COM - Good\n",
            "Current session is dc31efada754022bd39ad74e3feaf61e - 178 - WWW.TRIDENTE.COM.MX - Good\n",
            "Current session is cb72fbdaa5b2f3e5d12f7902bfb2309d - 179 - WWW.FERROX.COM.MX - Good\n",
            "Current session is 2e2c728ce0d1fe7f4e3dd107478c8be7 - 180 - http://dannytex.com/ - Good\n",
            "Current session is 22c1712f1c9b654da694332b82133c86 - 181 - WWW.AGRIZAR.COM - Good\n",
            "Current session is 02bbe31ed8a181e148076faa762d1435 - 182 - WWW.PEPINOSOCVCAPO.COM - Website Down\n",
            "Current session is 32d69627397907cac798517449dee8e5 - 183 - WWW.GRINSOL.COM.MX - Bad\n",
            "Current session is 6996d225ef0dbe315cabeff7b814b6aa - 184 - http://dehisa.com.mx/ - Good\n",
            "Current session is 26909d1d47c2bec9f5f1f3b3cd7194c0 - 185 - http://www.princo.mx/ - Good\n",
            "Current session is 5c84ff6284526d91f2afa41abfd4d116 - 186 - WWW.GDINGENIERIA.COM.MX - Good\n",
            "Current session is 3291e5bbf4d815e16c4b812dcbc3763a - 187 - WWW.GALVASID.COM - Good\n",
            "Current session is 07ae95ddc8c4a35c265b252a7549e5f1 - 188 - WWW.GALCOR.COM - Good\n",
            "Current session is 3b77a1a2376bfd2d8ba3cde93eff68ac - 189 - WWW.DBSMX.COM - Good\n",
            "Current session is 4c0fd856f97afdf26e357e830c8fd323 - 190 - https://cedsarobotica.com/en/__trashed-2/ - Good\n",
            "Current session is 5066e0adb28745f8809eae2fe0749dd1 - 191 - WWW.AVANTE.NET.MX - Website Down\n",
            "Current session is 3c2211b1e010c593bc95e1e69d2c8672 - 192 - WWW.MEXHER.COM.MX - Website Down\n",
            "Current session is 2a1b278e824bfd4edaf49ec0de2c542f - 193 - WWW.CAPCMAS.COM.MX - Good\n",
            "Current session is d712275f8aad02c464bd4c6c8ae7638d - 194 - WWW.GENERALDEMETALES.COM.MX - Good\n",
            "Current session is a70c51a014cd03336f27978362029645 - 195 - WWW.LAPOTRANCA.COM.MX - Good\n",
            "Current session is 3db799669e7491ed47078cc18f253310 - 196 - https://constructoralama.tv/ - Good\n",
            "Current session is fa8e2f6e446d6ceda48fed45a105e7d8 - 197 - CERTUS.MX - Good\n",
            "Current session is 9c6b82e0deb6992e5e3fdf15edf47e53 - 198 - WWW.BEIRANACONSULTORES.COM - Good\n",
            "Current session is 4d439c8fd5207719df95a4194bc97f1a - 199 - WWW.CACSI.MX - Bad\n",
            "Current session is 12967cedc44fd83d06427047778bebef - 200 - WWW.CINEASTAS.MX - Good\n",
            "Current session is b852391be4459e38f2f01154effb33f4 - 201 - WWW.CENTRALDEESPACIOS.COM - Bad\n",
            "Current session is 7d6134c2b01721ab21fddfc2f59542c6 - 202 - WWW.ALERO.COM.MX - Good\n",
            "Current session is ffb8aed2574d20e7a27992e0338cecc4 - 203 - WWW.FUNDECOAC.ORG.MX - Good\n",
            "Current session is 781f8d53c4f39bbc4dcc52ba6ae4412f - 204 - WWW.FORONACIONALDETURISMO.ORG - Bad\n",
            "Current session is c9b571733c00a4343dd59f962849933c - 205 - WWW.ALLSCHOOL.MX - Good\n",
            "Current session is c524884d024d2f4b011352a12927bbf5 - 206 - WWW.GISTECNOLOGIAS.COM - Good\n",
            "Current session is 5391eb1cdfc2d2195eb5b1f624383d3d - 207 - 4040APPS.COM - Website Down\n",
            "Current session is beebe4cd724b84759b0cb58fb534c8dd - 208 - WWW.CLINICAMEDICAINTERNACIONAL.COM - Good\n",
            "Current session is 05467d2e2328393400342457e0c13b51 - 209 - WWW.ESCALANTE.COM - Bad\n",
            "Current session is ab63916e0d43e13cd144c6f9b4301a56 - 210 - WWW.AANOGUEIRA.COM - Good\n",
            "Current session is 23b76e8089a30340af7d8d6f0c966a7e - 211 - WWW.OPASE.COM.MX - Bad\n",
            "Current session is d39e82f1d1910e9e477b0016883a829a - 212 - WWW.TAX.COM.MX - Website Down\n",
            "Current session is 9f084493d3e9717545aaeab4e766486a - 213 - BODASYTRADICION.COM - Good\n",
            "Current session is 098a94c39cd848b71d60b34d45b977ba - 214 - WWW.CIENSC.MX - Good\n",
            "Current session is 2b8bd36c675dbd1d99d4d4a1f8f92db8 - 215 - WWW.ABTECMEXICO.COM - Website Down\n",
            "Current session is 386a76720170ae32e574e85416ac886d - 216 - WWW.GAOMEGA.COM.MX - Good\n",
            "Current session is 28cb637be73307b6499e23ec4bd73dc6 - 217 - WWW.ALBIOMAR.COM - Bad\n",
            "Current session is c55f1403c267028b381a8842e058816b - 218 - WWW.FER-CARR.COM - Website Down\n",
            "Current session is 632a4c65c2703191a3c535300b91f4b6 - 219 - WWW.DISENOCONSULTORES.COM - Bad\n",
            "Current session is cee875a427cb7820d944734e2361861b - 220 - WWW.CASATSAYA.COM - Website Down\n",
            "Current session is 92f350dcfcbd8ec58dc3cbe5fa3cf6c0 - 221 - WWW.ANDRESYCIA.COM - Good\n",
            "Current session is 3d5b45a6dd27b4636f5337cd8120b839 - 222 - SEGUROGRINGO.COM - Website Down\n",
            "Current session is 3a7a165445481595603d9dd19b9c03e4 - 223 - WWW.PROAGROSEGUROS.COM.MX - Good\n",
            "Current session is 02a77cfcdc6c6e1db9386c243c19420a - 224 - WWW.ZLMABOGADOS.COM - Good\n",
            "Current session is bd1c423bf2cd30ab7fc48046510b439c - 225 - WWW.BANUET.NET - Good\n",
            "Current session is 28a7131a7c0c36d0507fa16d485466af - 226 - WWW.GALAZ.MX - Bad\n",
            "Current session is 6cfacfe9128538c0df56cfbd588d036f - 227 - WWW.COLUNGAABOGADOS.COM - Good\n",
            "Current session is 0f1b9c9dbe4bb63ca0482dd8313d29c8 - 228 - http://www.brodermann.com.mx/ - Good\n",
            "Current session is c89e053b2c87cbcf5868a3b0a39e7846 - 229 - WWW.CINASA.COM.MX - Good\n",
            "Current session is 874ffaf2a6aa0a32aadf7911c3494252 - 230 - WWW.BMCMM.COM - Bad\n",
            "Current session is 4a015b12cea9da4dd2d6675a8ccbfa79 - 231 - WWW.FACTORYM.MX - Bad\n",
            "Current session is f352648c53afe895c733dc1d25611f79 - 232 - WWW.FCMETALES.COM - Good\n",
            "Current session is b7c736c95b310a011aa882297ade8c59 - 233 - WWW.ZELLET.COM.MX - Good\n",
            "Current session is 90530f5621a70d87a43fafd249e38eae - 234 - HYSEI.COM.MX - Website Down\n",
            "Current session is c08b567c8c769193337d30beee015362 - 235 - WWW.FORIAUTO.COM - Good\n",
            "Current session is eee1472df0b9dca80c3df9ccffc12b03 - 236 - WWW.WCY.MX - Bad\n",
            "Current session is 8c735c91b2245e2288d5aaa49653211e - 237 - WWW.CENTRONAAM.ORG - Good\n",
            "Current session is e627e8803274ba4ac9b02039f44c5e11 - 238 - WWW.ETI-TRANSFER.COM - Bad\n",
            "Current session is 4237e8e6282ae053b7c71f71c88a36e3 - 239 - WWW.GALLARDOHURTADOYCIA.COM - Good\n",
            "Current session is 535acc3992995a57aece77393b60d76c - 240 - WWW.ENERTRONICS.COM.MX - Good\n",
            "Current session is e97e0cc22be646bf5f8724a919fa9cd9 - 241 - https://farmaciasbazar.com/ - Good\n",
            "Current session is b8699b0c1344227a7bb02fc95d0cc90a - 242 - WWW.CARNEVALI.COM.MX - Good\n",
            "Current session is 32881a7d1b60f75554cd48ba435777fb - 243 - WWW.CMPNL.EDU.MX - Bad\n",
            "Current session is aaa95806f9fdc5cef1c7317b0cab0afa - 244 - MIBEBEGENIO.COM - Good\n",
            "Current session is 2b328ce336e61cdeb107ac745fec5fb4 - 245 - WWW.KINDERBEGINNERS.MX - Good\n",
            "Current session is e3525f3b554c24649a008572c7677977 - 246 - WWW.COMTEC.TV - Good\n",
            "Current session is a074ac4ff947e8bbabb414e02eed24f4 - 247 - WWW.AGVM.MX - Good\n",
            "Current session is a1903c12a94a795158fbbdb8768795c8 - 248 - WWW.NOGALESSONORA.GOB.MX - Good\n",
            "Current session is 207e5df84752c24e87b6263ded774826 - 249 - WWW.CETRA.COM.MX - Bad\n",
            "Current session is 0f91ab4708a296eebf0e7c91d0de6bc8 - 250 - WWW.XTORNET.COM - Good\n",
            "Current session is 730d0812eed6252e9fb92345e01399a8 - 251 - WWW.MANZANARES.COM.MX - Bad\n",
            "Current session is 11fbe78b41a0e8ee182fd10433e7b4fb - 252 - WWW.OAPMAZATLAN.GOB.MX - Good\n",
            "Current session is 5680626d26823f256e3a91ddad533432 - 253 - WWW.OMEGAMEDSURESTE.COM.MX - Good\n",
            "Current session is 3c56e5d3fddd059ccf10fe4b9b5fa21c - 254 - WWW.ANCAF.COM - Bad\n",
            "Current session is a39f9e66de0f60a4d87bf4635b4dcde7 - 255 - WWW.ELGRAN-SALON.COM - Bad\n",
            "Current session is 9e860c42257e3ced7b878caa37778385 - 256 - WWW.QUINTALASBUGAMBILIAS.COM - Website Down\n",
            "Current session is 6a2856377a9aef27e6465293aaa04527 - 257 - WWW.EPCMEXICO.COM - Good\n",
            "Current session is 543a011a13b9b0a60e847a29a13605f8 - 258 - WWW.CWIMM.MX - Bad\n",
            "Current session is 00997d278b2b03e56726aa03094e52e2 - 259 - WWW.FABREJAL.COM - Website Down\n",
            "Current session is d415b59fb81f90d70c543d82f5f5f9a6 - 260 - WWW.SIMSAINC.COM - Bad\n",
            "Current session is 306a4ee1e2016eb8ee1a964dbaa95370 - 261 - WWW.SERVICEPRO.COM.MX - Bad\n",
            "Current session is 390ac17257815fb27920e6192d5696fd - 262 - WWW.GRUPODASI.COM.MX - Good\n",
            "Current session is 094e2d475f88b952ed24572d5bf6e39f - 263 - WWW.BLUELINEMEXICO.COM - Website Down\n",
            "Current session is 9879bd2770cd969e21047d8c25b3d903 - 264 - WWW.PUNTOGAS.MX - Good\n",
            "Current session is f37aab28e6c0f2b43dfe5338bdfc062a - 265 - WWW.AUTOTIANGUIS.COM.MX - Bad\n",
            "Current session is 6be584fe5c7987e33c760a7ab58ae1bf - 266 - WWW.EPALMA.COM.MX - Website Down\n",
            "Current session is 97ad5bd430aa6e40a613955bd80eba0f - 267 - WWW.GRUPOAZULEJERO.COM.MX - Good\n",
            "Current session is ea2d8e2c5996de8432793c844eb6d622 - 268 - WWW.COMPUACCESORIOS.COM.MX - Good\n",
            "Current session is d9f60a948b9cda45c447292c8794704c - 269 - WWW.MAYCOM.MX - Good\n",
            "Current session is adf29e71059281c255a57fd68fdf1e50 - 270 - WWW.DELIPLAYA.MX - Bad\n",
            "Current session is 972a422403fe2f37bb197c2e0355cb95 - 271 - WWW.EREZ.COM.MX - Good\n",
            "Current session is 481c27771f676f8de6d719f75ab97018 - 272 - WWW.SISTEMASAMBIENTALES.COM - Good\n",
            "Current session is bd4454f41ddce772993e3f908812f9c1 - 273 - WWW.ARGOVI.COM - Good\n",
            "Current session is a86a08b844ac2f83916f1d45ebaf8e45 - 274 - WWW.ANNARUIZ.COM.MX - Good\n",
            "Current session is 346a15c1aaa935e664993b88b7287c5a - 275 - ADASCAPITAL - Website Down\n",
            "Current session is d74e666d12f3a0ac3058f6851ae02a3a - 276 - WWW.CERTIS.MX - Good\n",
            "Current session is 3a989583daa31925f5acb489d0ca5cd9 - 277 - WWW.VIAJESLINCOLN.COM.MX - Good\n",
            "Current session is 57543c99ce5779c41754ebbeb341291c - 278 - WWW.COIISA.COM - Good\n",
            "Current session is b076a592fdc2971fe5b8b21c5297ecbc - 279 - WWW.EGAINDUSTRIAL.COM - Good\n",
            "Current session is 082c9278526ddeba658fedd2c24d74b4 - 280 - WWW.DITEK.COM.MX - Good\n",
            "Current session is add8aea956a00c1011e26aad8357c70a - 281 - WWW.TBSDENTMEX.COM.MX - Good\n",
            "Current session is 83f20ae632517ad73308e679eb1632ea - 282 - WWW.DIMINOX.COM - Good\n",
            "Current session is a879b5d46bbd716c0edbde66ee11024d - 283 - AMACEROS.COM - Good\n",
            "Current session is 73d8f5d2c8b197f383c6eb58bf08163c - 284 - WWW.COMPRISAQRO.MX - Bad\n",
            "Current session is 2b2d7b089a1d544f580e241c0483f000 - 285 - WWW.COMPRESORESALEMANES.COM - Website Down\n",
            "Current session is 8143d085f452d6cae9034049fe48d577 - 286 - CAEMPA.MX - Good\n",
            "Current session is 0c549c35f24c3b14534332e04f7fb841 - 287 - WWW.PAPPROGRESO.COM - Good\n",
            "Current session is ee97719d4bfdbd818ef27d03005014b7 - 288 - WWW.DELTAGENERIC.COM - Good\n",
            "Current session is c3cf56e53a6ce890e53a1b3dee3ebf13 - 289 - WWW.AVANCESOLUCIONES.COM.MX - Good\n",
            "Current session is 7eea959097ddf6344de2e8b774794cbf - 290 - BEIRANACONSULTORES.COM - Good\n",
            "Current session is ac7ea3bc7334428950e7964113b83bde - 291 - WWW.GARCESISLAS.COM - Good\n",
            "Current session is 0eca7efb94abfd95979d0f19b8df7b8b - 292 - WWW.CATOM.MX - Good\n",
            "Current session is 9f57ae2ad79b981d816827611f8cd3be - 293 - WWW.EKILATERO.MX - Bad\n",
            "Current session is f0ee0c5b958dac4cdbc3a464e8ce4c55 - 294 - WWW.BANCORP.COM.MX - Good\n",
            "Current session is 769bd761023ef513cc49b751caa96c4d - 295 - WWW.FAYPUBLICIDAD.COM - Good\n",
            "Current session is e4b996372c98d5d1ff5138909c96fc2c - 296 - WWW.CONCEPTOS.ORG - Website Down\n",
            "Current session is b5a74807beffefece56a2c97de22fbab - 297 - WWW.FORMATALLER.COM - Good\n",
            "Current session is 912b60172136e8cbe64697024034454f - 298 - WWW.CANADEVISONORA.ORG.MX - Bad\n",
            "Current session is 1a4c9821d623bfe4413ccbb71ba4f285 - 299 - WWW.CPC.COM.MX - Website Down\n",
            "Current session is 4903b96f00da09194a0805a6b2b34b6b - 300 - WWW.ALUSA.COM.MX - Bad\n",
            "Current session is dbe689a58ba497044fe55725b25f7171 - 301 - WWW.BUNITED.MX - Bad\n",
            "Current session is 94af2deb15b1b50a462f476f3f2f3b58 - 302 - WWW.CLARISOFT.COM.MX - Website Down\n",
            "Current session is 68b8b7e203db8d925f8de1e45a4e0f59 - 303 - EITCONSULTORES.COM - Good\n",
            "Current session is 3a7a90135cf7a852894a407ea511debb - 304 - WWW.ELECTRO.MX - Good\n",
            "Current session is 9e52929cfdd44b941c64423e12887be5 - 305 - https://www.ghcranes.com/en/ - Good\n",
            "Current session is 64627ed87768a60905e9315e4ce73603 - 306 - WWW.ESCALANTE.COM.MX - Good\n",
            "Current session is 9f7609900b6a01761e1069fa6aa67c96 - 307 - WWW.EQUIREPSA.COM - Good\n",
            "Current session is 7b93864e88207d5a76b189e693418526 - 308 - WWW.NOVALANFABRICS.COM.MX - Website Down\n",
            "Current session is be01aefcc5c921975621835a1ac53ca7 - 309 - WWW.EQUIS.COM.MX - Bad\n",
            "Current session is c08dd2db5868a976149ee1906477a942 - 310 - WWW.AZULDISENO.COM.MX - Website Down\n",
            "Current session is 17f8c72a7185d830b1c6967b98ec741c - 311 - WWW.CONER.COM.MX - Good\n",
            "Current session is 738b3ba9f02acc65a1167cc1fb966a37 - 312 - WWW.DLA.COM.MX - Bad\n",
            "Current session is 7652c7fdc525a3d80b76128c02f5e4a3 - 313 - WWW.GRUPOSEOANE.COM - Bad\n",
            "Current session is f001c6364d9769787485e4d85144be69 - 314 - WWW.2TORRES.COM - Good\n",
            "Current session is f0a0306f8207ff26473a8574f2a6308a - 315 - http://eperalta.com.mx/ - Good\n",
            "Current session is f6c7b691c3a85d4c69e0188b315601be - 316 - WWW.PMFABOGADOS.COM - Good\n",
            "Current session is 1c288a355a75e6f4dd1532d3308f6cb2 - 317 - https://aymdesarrolloempresarial.com/ - Good\n",
            "Current session is a5b981aca8cce963d827b6572d86ff02 - 318 - WWW.METALESTORIZ.COM - Website Down\n",
            "Current session is e4ef67a10a5996b2c8ffc269618a8506 - 319 - WWW.CARDBOARD.COM.MX - Good\n",
            "Current session is 06903d11ad2c3fa17cf823c50c79fa43 - 320 - WWW.ALUMQUERETARO.COM - Good\n",
            "Current session is c6502dad30d73ebac67790d622c4e812 - 321 - WWW.CABORCA-MEXICO.COM.MX - Website Down\n",
            "Current session is 2e0034f58784cedfbfbe7ae8f51c4289 - 322 - WWW.AIRTEMP.COM.MX - Good\n",
            "Current session is d45f4572d03ae32fcbdc495b90f22cb2 - 323 - WWW.GALVANCASAS.COM - Good\n",
            "Current session is 0cea337c86cbf766b4b79b924525c74a - 324 - WWW.BRADAHIPOTECARIA.COM.MX - Good\n",
            "Current session is c13cc3750331a71fa8b54818e405404c - 325 - https://autotransporteshose.com.mx/ - Bad\n",
            "Current session is 9c643d642b67ef592d79087851e1a834 - 326 - WWW.ANTONRIOJA.COM - Website Down\n",
            "Current session is 01919f4420eaa91cc4c6331690ff5564 - 327 - WWW.ARBOLEDASDEZAVALETA.COM - Good\n",
            "Current session is d6b9182b8238740ef9484e912886f807 - 328 - WWW.FARMACIADEAPOYO.MX - Good\n",
            "Current session is b8ff9de685b31be17102628957dd1787 - 329 - WWW.FOTOARTETAURINA.COM - Good\n",
            "Current session is 1a74eec6cef3a9d71243b90f03262d74 - 330 - WWW.ROMAMILLS.COM - Website Down\n",
            "Current session is 5fd6b3c0b6b49c4f0d09349afd1f3e09 - 331 - https://www.elcharrotequila.com/ - Website Down\n",
            "Current session is 626f61e2d899871ae7e80d8bb503af06 - 332 - WWW.DIGITALCOUNTRY.COM.MX - Bad\n",
            "Current session is 45c2bc0cd9d60c7e5cfc4960e55f12da - 333 - WWW.CABOSOFTDENTALCARE.COM - Good\n",
            "Current session is 05cf84327a60ac9e6a6d09e694ffbdf5 - 334 - WWW.CENET.MX - Bad\n",
            "Current session is 622dd66eb268a68791f8fa9f889b7c26 - 335 - WWW.QUALITY.MX/KANG - Website Down\n",
            "Current session is 3f20765bfc04783275b4e8052a528bb5 - 336 - WWW.CASAGO.COM - Good\n",
            "Current session is d1b0bbddfb8858ae65e33d98277f8163 - 337 - WWW.COUTURERENTALS.COM.MX - Good\n",
            "Current session is dbaeb4222da40461f47592900a1bbafd - 338 - WWW.ISISREYNOSA.COM.MX - Good\n",
            "Current session is 2b416d49e6b3181e01c46ce66525c341 - 339 - WWW.BEATRIZCASTANEDA.COM - Good\n",
            "Current session is 21ee94c10bfad11626fa0976e12c77af - 340 - WWW.PISO18.COM.MX - Website Down\n",
            "Current session is fe6b9c323b6176abceb51051011fa0a2 - 341 - WWW.RIVERAGAS.COM - Good\n",
            "Current session is 5cf8015443aefd1d166cb0b703e16d3a - 342 - WWW.MORENODIESEL.COM - Good\n",
            "Current session is 90c413f9d50d0b27493827085f181798 - 343 - WWW.ALPLEN.COM - Good\n",
            "Current session is 37ca0fe417331ac3b9c42611887aec53 - 344 - WWW.ELMARROFERRETERIAS.COM - Good\n",
            "Current session is 5e53d67c87f283f82721a0c7587ba107 - 345 - WWW.SEMPLAST.COM.MX - Bad\n",
            "Current session is 3383263fd9945a762f5eafdad342586d - 346 - COMSER.COM.MX - Bad\n",
            "Current session is d8b7c3238a548bbb6e33aa70400c387b - 347 - CINELOVESTUDIO.COM - Good\n",
            "Current session is ed6430fa46c63e2351ef521ba9a47c2b - 348 - WWW.CEDEM.INFO - Bad\n",
            "Current session is 975fcb33c826cf4fe2240a1b4832e023 - 349 - WWW.ESTACIONESFLORES.COM - Good\n",
            "Current session is 9d75e3c3c83e22b51b318ab977e06ece - 350 - WWW.FLORLOPOLI.COM - Good\n",
            "Current session is fbe5af497dc0849fff2328e24b44eeb8 - 351 - WWW.FOODSHOP.COM.MX - Website Down\n",
            "Current session is 8806f0058f92d841ae85207a3723a429 - 352 - WWW.ELAGOSTADERO.COM - Bad\n",
            "Current session is 460357ae954e58afc62820a9a4eb4b7a - 353 - WWW.EFECTUS.COM.MX - Good\n",
            "Current session is da12fd269d9aa09b95e5ee8bfcfdb422 - 354 - WWW.NOSECAE.COM.MX - Good\n",
            "Current session is 41a4939e25e47dbc951ad1022c02f6e2 - 355 - WWW.LAQUIMIA.COM - Website Down\n",
            "Current session is 40fb51eb0066b2bbd09d14cbebc7d39e - 356 - WWW.CONGRESSANDTOURS.COM - Good\n",
            "Current session is cbcd4a669499a8518c6a02c67b4d3dd8 - 357 - AGENCIADEVIAJESQRO.COM - Good\n",
            "Current session is f01f51060bc28ee020d1f32862b082a6 - 358 - WWW.GENERANDOIDEAS.COM - Good\n",
            "Current session is 0477f00760bef44d09fc0cb337c192d8 - 359 - WWW.CINDIFLEX.COM - Good\n",
            "Current session is f826d6f27b8c2ae2edceedf7c6f589d7 - 360 - WWW.ESPACIOSCONSTRUCTIVOS.COM.MX - Good\n",
            "Current session is 7680f5670c420b767cc1e7caae233800 - 361 - WWW.QUIMICOSAZTECA.COM - Website Down\n",
            "Current session is be460c6bd382f8988086172e19934d17 - 362 - WWW.DELECTRIC.COM - Website Down\n",
            "Current session is 2a4bc599ab04576b1c179666a478ddc9 - 363 - WWW.AUTELIN.MX - Website Down\n",
            "Current session is 180b8464ff6f0fc67d64072c83cf3b09 - 364 - WWW.CEYCOMONLINE.COM - Bad\n",
            "Current session is 36df680870654c0a2844ec2ca8ae6334 - 365 - WWW.DIELECSA.COM - Good\n",
            "Current session is 8133f85c98778cb6621c84fe56db9af2 - 366 - WWW.COOPLAGUNA.MX - Good\n",
            "Current session is 7f10060d9df2d1e3a6daf3c0e9744660 - 367 - WWW.DELPHY.COM.MX - Good\n",
            "Current session is c1b24ffac9ad235b0d8fee7e93ad602e - 368 - WWW.LLOGSA.COM - Good\n",
            "Current session is 72832f3b70e2f1a3ce8437d446f46f79 - 369 - WWW.EQUICENTER.COM.MX - Good\n",
            "Current session is 29596b9f5d15622c5b88d81de3fec1ef - 370 - WWW.DDM.COM.MX - Good\n",
            "Current session is 3e4e9e8730c654a3849ea5dc29056afa - 371 - WWW.FGL.COM.MX - Good\n",
            "Current session is 47873f01fa9c4165410973aecb832696 - 372 - WWW.COMRISA.COM - Good\n",
            "Current session is 1e96e23a357c88d5e2d4b2a4806fe49e - 373 - WWW.ARTEFACTOSINDUSTRIALES.COM - Good\n",
            "Current session is bf5cb2d5cad2a8a989f2fc10363a9e81 - 374 - COVETPHARMA.COM.MX - Good\n",
            "Current session is 16a1d59fe027ad5cbe561b2f4b613101 - 375 - WWW.ENERPROD.COM.MX - Good\n",
            "Current session is bf4dcf8d81a09d4c6132f05647b1089c - 376 - WWW.CYMSC.COM - Bad\n",
            "Current session is 981fff5637b94bab0c167c8bec0f6a9c - 377 - WWW.ALRSERVICIOS.COM.MX - Website Down\n",
            "Current session is bcf6b01c13f096c71a0a6569eca61c36 - 378 - WWW.CORPORACION-ZENITRAM.COM - Good\n",
            "Current session is 3ce2dc106d3d3cbc065b8cffb6eca2e7 - 379 - WWW.ISRSOLUCIONES.COM.MX - Good\n",
            "Current session is 012b5d711668114c27049d2ab26c27cd - 380 - WWW.CAPISACONSULTORES.COM - Website Down\n",
            "Current session is f099a7959c475982ddaeeb2d671d4e57 - 381 - WWW.CONTADORESRP.COM - Good\n",
            "Current session is dbacf254ece4f0c6d9832425d9edb97f - 382 - WWW.EWMX.COM.MX - Good\n",
            "Current session is d0f335bfe8f9d58772e4c496caab200b - 383 - WWW.DOERTAX.COM - Good\n",
            "Current session is b8349179ca1d153b6d0822874db7d971 - 384 - WWW.PIDASA.COM.MX - Website Down\n",
            "Current session is 0808d46aee3d3beaa98418a07e925a44 - 385 - WWW.CORPORATIVOKAYCER.COM - Website Down\n",
            "Current session is 82bc798fb90d57d7e9b44f60511dba8b - 386 - WWW.DESPACHOLAVALLE.COM - Good\n",
            "Current session is e29ffdc584e69040fae132dcefa6f2b4 - 387 - WWW.DURANSILVA.COM.MX - Good\n",
            "Current session is 33e9d7831bf6709ec0a0257b5369fa95 - 388 - WWW.DQASESORES.COM.MX - Good\n",
            "Current session is 7a3be04d09cf8155b808996d32b513f8 - 389 - WWW.DOCTUM.COM.MX - Good\n",
            "Current session is ba79e4c3723b9a1321cd9fba6378af25 - 390 - WWW.CARRANZA-MVC.COM - Website Down\n",
            "Current session is 2102cafbc1d3624cb5f89705f040ca33 - 391 - WWW.APEXSOLUCIONES.COM - Bad\n",
            "Current session is bdfe01eb54df9f15869d3ecb1a7b4d85 - 392 - WWW.CINDEMEX.COM - Good\n",
            "Current session is e3c124986f91e21453b427efadab95ef - 393 - WWW.PGJEBC.GOB.MX - Good\n",
            "Current session is becfc3a40289d209d52ac35e38a77a14 - 394 - PJEVERACRUZ.GOB.MX - Website Down\n",
            "Current session is f895ffc4b79559731f300360edbade82 - 395 - WWW.PORTALPGJ.CAMPECHE.GOB.MX - Website Down\n",
            "Current session is b3bf17cecf47b45b09ef16371d05f5c3 - 396 - WWW.PJEVERACRUZ.GOB.MX - Website Down\n",
            "Current session is 7d65e98f632e0d0de210993e80afa67c - 397 - WWW.ALDF.GOB.MX - Good\n",
            "Current session is c0742ee6655c48ad7f4e539d412d5dee - 398 - WWW.GOB.MX/SALUD/CIJ - Good\n",
            "Current session is d5d9b8eb732fc932524d10923db53b5b - 399 - WWW.SEP.GOB.MX - Good\n",
            "Current session is 82ae5ce7e79f90d8505d4dca39279daf - 400 - WWW.ISSSTEZAC.GOB.MX - Website Down\n",
            "Current session is 5f2a34e8d052c5d14f28d76b0e21a548 - 401 - WWW.DIFVER.GOB.MX - Good\n",
            "Current session is 5f07ddc31c787dce83a43b8bf328f801 - 402 - BENEFICENCIA.NAYARIT.GOB.MX - Good\n",
            "Current session is 784a6f5ef486d1cf376017b0dbca18fd - 403 - WWW.ADCITY.COM.MX - Good\n",
            "Current session is fbdf0f0197fe27c61f9b9f2554ec0219 - 404 - WWW.BOXER.MX - Good\n",
            "Current session is 8a9ee2233dd4088855611461edb2f181 - 405 - WWW.GMN.MX - Good\n",
            "Current session is d3c52b386d9dd2b95d15e27d751589a9 - 406 - WWW.ADMMCREATIVA.COM.MX - Good\n",
            "Current session is abcf142925508f8e209ea47b5720d99d - 407 - WWW.DOBLECLIC.MX - Good\n",
            "Current session is 10f6f9488b66f68dc31f089bcae31431 - 408 - WWW.ATOMGRAPHIC.COM.MX - Good\n",
            "Current session is c5b9169cc3583a2dd2c92939e788239a - 409 - WWW.BYDELAMORA.COM - Bad\n",
            "Current session is c838c6d1e90da7ffab114cf1c629f32f - 410 - WWW.VALDERREY.MX - Website Down\n",
            "Current session is d62d339a7b7c8bf32b735d2cac92f75e - 411 - WWW.DIEFERPR.COM - Good\n",
            "Current session is 70808e862907f9228501d76bb8d96c5c - 412 - WWW.CONTRASTE.COM.MX - Good\n",
            "Current session is 7a6f943496034cfd7877ca89bb9ad25e - 413 - WWW.DANASSPA.COM - Good\n",
            "Current session is 792e975f498a0c5a61f790a9a7f7d235 - 414 - WWW.SOULFLOWER.COM.MX - Good\n",
            "Current session is a7ecd72444a1135dda7fa07239d1c31e - 415 - WWW.A-ZMAKEUP.COM - Good\n",
            "Current session is 1acebc44e3caa7370ee95703cbdea982 - 416 - https://www.facebook.com/BeyonceEsteticaUnisex/ - Good\n",
            "Current session is 9c72935dfd1a2663aee294d731a844b6 - 417 - WWW.BIOCORPOSPA.COM - Good\n",
            "Current session is 58b29f13b730abab94b8f5bc719e5c1f - 418 - BROWTIFUL.MX - Good\n",
            "Current session is eee072b1f8c4559872a2c02123f43359 - 419 - WWW.SUGARANDCO.COM.MX - Good\n",
            "Current session is da63353d688c1c8081dab174d1ba8482 - 420 - WWW.FEMMESPA.COM - Good\n",
            "Current session is c6fcf55b215836574cb172c8db469ce9 - 421 - WWW.CAFFENIO.COM - Good\n",
            "Current session is b73cdd524e4e23b601507b258a9bf3bc - 422 - 1000SHAKESANDWAFFLES.COM - Good\n",
            "Current session is d4cdd75adb5b07272c9d00bd63d82c4c - 423 - WWW.CAPELTIC.ORG - Good\n",
            "Current session is 72c74745c12ef3498c92ffbebe8f7155 - 424 - WWW.CASAMEXICOBOUTIQUE.COM - Good\n",
            "Current session is 0eff69363ed3019d6b48870329083d08 - 425 - WWW.BLENDSTATION.COM.MX - Good\n",
            "Current session is e0ebaa68587b7068222636a4359dd74a - 426 - CAFELUNADENAYARIT.COM - Good\n",
            "Current session is fefc885d512001d8db9b489a516c838c - 427 - WWW.CIELITOQUERIDO.COM.MX - Good\n",
            "Current session is 15e7ef5058294ed12146a27ec52aa05f - 428 - WWW.DOTCOMCAFE.COM.MX - Bad\n",
            "Current session is 03c4f06ebff095b9302876249dcf236f - 429 - WWW.CHURRERIAELMORO.COM.MX - Website Down\n",
            "Current session is e92f4bdc7b229730cc1b84b2f4e93e17 - 430 - WWW.HERTZMEXICO.COM - Website Down\n",
            "Current session is bc99293c935a9bbf7c4f0cc79a293a1f - 431 - WWW.GAR-VEL.COM.MX - Bad\n",
            "Current session is 45cd3088dd671473c116841719e070e2 - 432 - WWW.EBS.COM.MX - Good\n",
            "Current session is 1c389da1ec0121fd92098e0ff482e933 - 433 - XAMBRE.COM - Bad\n",
            "Current session is 815c8ebb0239a61d6d0ab9b834c84e32 - 434 - WWW.ABDP.COM.MX - Good\n",
            "Current session is b223b5bc4ea5aae05d5e7464fb97c5f1 - 435 - WWW.IDSOFT.COM.MX - Website Down\n",
            "Current session is 02c47550532c8769c2cff644163ab421 - 436 - WWW.GGTSISTEMAS.COM - Website Down\n",
            "Current session is f2ad80650e5dcf908f442d074c8839b7 - 437 - WWW.GGAMMA.COM - Good\n",
            "Current session is 79e6a85be6a5680551bb6ff1519137a5 - 438 - WWW.GLOBALT.COM.MX - Website Down\n",
            "Current session is d574faa43b626712b0b071daa38a63ca - 439 - WWW.PLATAFORMAI.COM - Good\n",
            "Current session is 7f7b3ee1d88e5ee6506e184d6239d772 - 440 - WWW.SACTI.COM.MX - Good\n",
            "Current session is d85cc06c85ccbaa65872ac90a45ead39 - 441 - COREONEIT.COM - Website Down\n",
            "Current session is aca799e0ba5883ae21d5a7eaaf62ca0a - 442 - WWW.SOCOADA.COM.MX - Bad\n",
            "Current session is 2bc280a8b1d3a92c9547f9616c2b3294 - 443 - WWW.ASESORESDIGITALES.COM.MX - Good\n",
            "Current session is 6f61b5c7ab1985ce67cfa3f3ffe25872 - 444 - WWW.ESLABON.COM.MX - Good\n",
            "Current session is 637ccc6ee33ebcedd85dcfad077923b8 - 445 - WWW.CONSULTORESAMERICA.COM - Good\n",
            "Current session is 4ddb3fb311facb7d3092db376a0a8153 - 446 - WWW.ADVACEDELMAYAB.COM.MX - Website Down\n",
            "Current session is f1cb2770c605b2a5a6ef22f353dee416 - 447 - WWW.ABUGABER.COM - Good\n",
            "Current session is 88c3e01c72db905ab82ea41f50c38f71 - 448 - WWW.ALSEAM.COM - Good\n",
            "Current session is 69747117d1eae369ae7f47a0f7e7fa7c - 449 - WWW.ECARESOFT.COM.MX - Website Down\n",
            "Current session is c7ae2930d9129a5c1bbf6023c69be727 - 450 - WWW.ARKU.MX - Good\n",
            "Current session is b4b0fe90db36105a059aabbedd387fc3 - 451 - WWW.AVSYS.MX - Good\n",
            "Current session is 4ff464c63a03f758621c159ef2fe7efa - 452 - CITYCOM.COM.MX - Good\n",
            "Current session is 9ae1960a627eb903ecb8996739a581a7 - 453 - WWW.ENNOVATIVE.COM.MX - Good\n",
            "Current session is 292e159a8e48aa0f8678a29597704ae7 - 454 - WWW.MAYANDEVELOPERS.COM - Bad\n",
            "Current session is 76230c9209ea7757ec10b825770de70f - 455 - WWW.COMPUARTE.COM.MX - Good\n",
            "Current session is ea4660badea243a1d43f875f61692cde - 456 - WWW.PEWPEW.MX - Website Down\n",
            "Current session is e166c334ad6096bde1077456ed6cc7f9 - 457 - WWW.CODIGOGEEK.COM.MX - Good\n",
            "Current session is b39bb0c72a9fd30ae4b010a5a042e681 - 458 - WWW.ASOCIADOSWEB.NET - Bad\n",
            "Current session is bcb8f6dec5eb14f2f0cd9f3ad9a8a04c - 459 - WWW.DUMAGO.COM.MX - Website Down\n",
            "Current session is 3c8f2a0e83bd47928a188b3b4bec1c33 - 460 - WWW.BILLPOCKET.COM - Good\n",
            "Current session is f7537154389450722a3d7340c8af24cb - 461 - WWW.AGUASOLICUIONES.COM.MX - Website Down\n",
            "Current session is 6bcdadb8e7153cf32f6c1f605bcb37f2 - 462 - WWW.AXLEAUTOMOTRIZ.COM - Website Down\n",
            "Current session is 02b67c12cd48b33829cce15957e7918a - 463 - WWW.GNVEXPRESS.COM - Good\n",
            "Current session is 96fe574daa40007caeba86516c727b4e - 464 - WWW.BULGARIA.MX - Good\n",
            "Current session is 1fb652906e4b3d769418b8e400c9bf30 - 465 - WWW.SUECIACARMETEPEC.COM - Good\n",
            "Current session is e39ff0a443aee874b0deadaddd900b18 - 466 - WWW.ONESTOPGARAGE.MX - Website Down\n",
            "Current session is f33a4447e902caed908a11665ec55c4a - 467 - WWW.GENERADORESTUDIO.COM - Good\n",
            "Current session is 6219946dee6479bd5cabe389f63995eb - 468 - WWW.BEEDIGITAL.COM.MX - Good\n",
            "Current session is f881f6a7ab9338a84375507436462eb5 - 469 - GCPROMOCIONAL.COM.MX - Bad\n",
            "Current session is 96265915d1547ce4d6c39dfc88c52c1c - 470 - WWW.CONCEPTOTOTAL.COM.MX - Good\n",
            "Current session is b99a0b388698b9e4a2aaf36ce5672841 - 471 - WWW.BIGELEPHANT.MX - Good\n",
            "Current session is 70c3aa431a96aaba395f00c5496785a9 - 472 - WWW.EVOLUCIONGRAF.COM - Good\n",
            "Current session is 5110bb71187ab8d83accdb84e1d58686 - 473 - WWW.CONFEMEX.COM.MX - Good\n",
            "Current session is c56c0ce41fd70049c2321d7729757cd8 - 474 - WWW.CIJ.GOB.MX - Website Down\n",
            "Current session is b1cd4f36a13eadce69589c9683e03539 - 475 - WWW.CHAPAMALDONADO.COM - Good\n",
            "Current session is dc1c9e68ff0b98a4fb530035a6528938 - 476 - WWW.ASOCIADOSSM.BLOGSPOT.COM - Good\n",
            "Current session is fd6f734deb629c0924843931cce49092 - 477 - WWW.CGMPS.MX - Good\n",
            "Current session is ffae4e80585a9d7561e3f4cbeff91f5d - 478 - WWW.DHA.COM.MX - Good\n",
            "Current session is 29a26476be4989eab8336890719f623c - 479 - VILLALOBOSHERNANDEZ.COM - Good\n",
            "Current session is 18f62a52fa87495d157e1534b8a28380 - 480 - GCYM.COM.MX - Bad\n",
            "Current session is 6f906688f7fe7bc74fd98e86228f8fee - 481 - WWW.GLWASESORES.COM.MX - Good\n",
            "Current session is e46a0e4ee1fa474fcc05cd4048e800d2 - 482 - WWW.DAVARA.COM.MX - Good\n",
            "Current session is 0e7cc655d4155ce459e71c8600f11b3d - 483 - WWW.CAFI.COM.MX - Bad\n",
            "Current session is abe365c0a99ed51c5a5acdb2dcb566a4 - 484 - WWW.CJAMILLA.COM.MX - Good\n",
            "Current session is 7882703d47b37f0770136a351b9f79e2 - 485 - WWW.ARRAMBIDE.MX - Good\n",
            "Current session is 031b6fbc0692fe1cb35757941680ea71 - 486 - WWW.ARVIZUYBENITEZ.COM - Bad\n",
            "Current session is b600b62484d56eea251e6f24a643f8ff - 487 - WWW.BUFETELOPEZTHOMAS.COM - Good\n",
            "Current session is 509799aace4f56e22dadb42f16b4f023 - 488 - WWW.BASTARCAMELO.COM - Good\n",
            "Current session is 4e3e76f045f10c1648e1744648883876 - 489 - WWW.FCVABOGADOS.COM - Bad\n",
            "Current session is 0990a7bae143e0b7f86cd716e82375f6 - 490 - WWW.ASD.COM.MX - Good\n",
            "Current session is 8ab19bc7142aa711621116c8d4892f8c - 491 - ACYM.COM.MX - Website Down\n",
            "Current session is fc492c0b459e2852a28b0d1fd86aa990 - 492 - WWW.BALE.COM.MX - Bad\n",
            "Current session is f66235e8b33ef659bb4ffecfe5bd8d58 - 493 - WWW.INESTRA.COM.MX - Bad\n",
            "Current session is 763edb8419e7f50f20e152d58968b059 - 494 - WWW.ABOGADOSGYG.COM - Good\n",
            "Current session is c74fa1ba9b29f9414403ecbdd801cfa7 - 495 - WWW.FEVARUMA.COM - Bad\n",
            "Current session is e588547e14e4a1645472452e5c24db6d - 496 - WWW.ALIANZAJURIDICA.COM.MX - Good\n",
            "Current session is 93d320327dc6a436f96f74f7d50150fc - 497 - WWW.CORREDURIA10.COM - Good\n",
            "Current session is 55247ccc530688ee82f3f9090d7df9da - 498 - WWW.OCHOALEGAL.COM - Good\n",
            "Current session is e5ec43704f3fcdcad1a126faaaea1eb0 - 499 - WWW.BOCLAIMS.COM - Good\n",
            "Current session is ba7caa06d005271c79e1d691214a9e24 - 500 - WWW.COMSUN.COM - Bad\n",
            "Current session is eb22b3548e124597767c710d97ee56f0 - 501 - WWW.BRITCHAMEXICO.COM - Good\n",
            "Current session is 93ce93ca3550225af9d70447b0799cfc - 502 - WWW.TANTUM.COM - Bad\n",
            "Current session is 3ed8b98990abeb9141bbcd3e67406e7b - 503 - WWW.CENTRALDEPROYECCIONYRENDIMIENTO.COM - Website Down\n",
            "Current session is 9166a854c17bab8ca89e6abfd7d4636a - 504 - WWW.ASICSC.COM.MX - Bad\n",
            "Current session is 12388ebdbffd7930830bca3f1c2fa01b - 505 - WWW.GDEMOS.COM.MX - Bad\n",
            "Current session is 97fbefbf024749b09abfd6739c54de3a - 506 - WWW.DCN.MX - Good\n",
            "Current session is cfa64f043c65c5b04aab02a5a8d6dc1e - 507 - WWW.GII360.COM.MX - Good\n",
            "Current session is b0ab90c7afe62daab85d2b964c44b512 - 508 - WWW.BAILMEX.COM.MX - Good\n",
            "Current session is 62cd960d9fc29bab96c661677314479f - 509 - WWW.VALCAP.COM.MX - Good\n",
            "Current session is 408813d66d5722d488ed61381150d627 - 510 - WWW.CORPORACIONRADEL.MX - Good\n",
            "Current session is 8ea6acba808d85ffb04790e4ad5923a0 - 511 - WWW.ELEVATEK.COM.MX - Good\n",
            "Current session is e78f1bc7c4567130a1e77d28cce8306f - 512 - WWW.EYSA.COM - Good\n",
            "Current session is ddc080a8975aac81d82bf3e87490cb8c - 513 - WWW.ALGODONERAMADERO.COM - Good\n",
            "Current session is e796118eb287cba2e5135dcd33b60612 - 514 - WWW.UNAFERIA.MX - Website Down\n",
            "Current session is 5886b253c46581082f6508bba519af5b - 515 - WWW.SAMACONSULTORES.COM.MX - Bad\n",
            "Current session is a6c1254975ba7eca73ce8149cfadbea6 - 516 - WWW.DIKECONSULTORIA.COM - Good\n",
            "Current session is b39b640b20619485c75e210b134747cd - 517 - WWW.FILTEX.COM.MX - Good\n",
            "Current session is de37fef9bd033e1f04362628406fcfc8 - 518 - CERAMICAAVALOS.COM - Good\n",
            "Current session is 87009f20ab6e1c0f0ecec272c988d995 - 519 - WWW.MULTIVENTANAS.COM - Good\n",
            "Current session is ac56ba91f70b5f599291f1282f6c5300 - 520 - WWW.CRISTARQ.COM.MX - Website Down\n",
            "Current session is fafdf59315103a0bcd1576735ab82d99 - 521 - WWW.BANCOMER.COM - Good\n",
            "Current session is 1c53e1c36bf16d08f20a1e30571ead4b - 522 - WWW.BANORTE.COM - Good\n",
            "Current session is f57119300a5db16a7b50c70c1561b01d - 523 - WWW.BBVABANCOMER.COM - Good\n",
            "Current session is e474bace2e8c9e1ae5916a10565addae - 524 - WWW.BANREGIO.COM - Good\n",
            "Current session is a711bbe24759c475f1aa2070013e0256 - 525 - WWW.BANAMEX.COM - Website Down\n",
            "Current session is 75f1cd04bbca14b76d5f9a0db9078023 - 526 - WWW.BANAMEX.COM.MX - Website Down\n",
            "Current session is 342743839957ba611185b182ae8bf3c0 - 527 - WWW.BANCOMER.COM.MX - Good\n",
            "Current session is ea3bb386f26131b1aaded3e70dcc1257 - 528 - WWW.BBVA.COM - Good\n",
            "Current session is 5e43cf88aad9673d1daf69306ff91742 - 529 - WWW.CRYO-CELL.COM.MX - Good\n",
            "Current session is efb459af4f937c297a0fb8edd61d2e08 - 530 - WWW.FARMATODO.COM.MX - Good\n",
            "Current session is 5f1da9c5afab6f98483bf735179f476e - 531 - WWW.FARMACIASSANTACLARA.COM - Good\n",
            "Current session is 2fc2f9a7cf95c2d77a4181d0bcaee0af - 532 - WWW.CPM.ORG.MX - Website Down\n",
            "Current session is 39d3b5aaffda56ddd82b1d142a41b1c7 - 533 - WWW.UNAGRA.COM.MX - Good\n",
            "Current session is 8b4e6500d5a307ffd4ae9ce7a896e1ef - 534 - WWW.CAJAHUASTECAS.COM.MX - Website Down\n",
            "Current session is a37712cedfe334a262da2e48e2e703df - 535 - WWW.CICUALPILLI.COM - Website Down\n",
            "Current session is 8cbec96b0cbb60afd306e92a3e5c7135 - 536 - WWW.CAME.ORG.MX - Good\n",
            "Current session is 865995a44bf61da6b0fd3fcf2166ad9a - 537 - WWW.CAJAGONZALOVEGA.COM - Website Down\n",
            "Current session is d20e3367018ff51c6093f0110fb8fbc4 - 538 - WWW.SOLUCIONASEA.COM.MX - Website Down\n",
            "Current session is e755d41c9ab0318e1fab8738628986e5 - 539 - WWW.CPM.COOP.MX - Website Down\n",
            "Current session is 2b5308ee12e7e0c1696bc1ee42476f44 - 540 - WWW.CAJAMORELIA.COM.MX - Good\n",
            "Current session is aad7d0ef9c9fa82dc2c9a62babd77906 - 541 - WWW.CAJACGV.COM.MX - Good\n",
            "Current session is 77fc549e52bdd9f5e78f0c702dd135ef - 542 - WWW.CAJAREALDELPOTOSI.COM - Good\n",
            "Current session is 5dcb1010493a863b0917554ce95a2e3d - 543 - WWW.FEDERACION.ORG.MX - Website Down\n",
            "Current session is 3fc847ccb117e1392f9fba57a991956b - 544 - WWW.AHORROSBIENESTAR.COM - Good\n",
            "Current session is 37426979ae8f3534db936f2c2a12709e - 545 - WWW.PASOSEGURO.COM.MX - Good\n",
            "Current session is 8625358165bbe7d26399756573783ab6 - 546 - WWW.CAJAMITRAS.COM.MX - Good\n",
            "Current session is 3004d15712a268496d1873a6cc85ca3a - 547 - WWW.CCOLON.ORG.MX - Good\n",
            "Current session is 39b5b98d92a65e6e8bd748ddf1276e70 - 548 - WWW.COOPERATIVAPEMEX.COM.MX - Bad\n",
            "Current session is afe965d665fcdf9f9c595abcbc42f186 - 549 - WWW.CPM.COOP - Good\n",
            "Current session is 01a7918875745105bd68ee82c1cd79ab - 550 - WWW.BRISKETHOUSEGDL.COM - Website Down\n",
            "Current session is fc2901d878c2e95c62d9734f7593b408 - 551 - WWW.BAMBOO.COM.MX - Website Down\n",
            "Current session is 553b3a602dbac54814edb3f0c876651b - 552 - WWW.BOQUIACHES.COM.MX - Good\n",
            "Current session is 27aa83ab9822a90e47f044e791c2968a - 553 - WWW.LUCKYDINAHS.COM - Good\n",
            "Current session is 3f43b39a88b8a6dc219bc978d080f4cd - 554 - WWW.LAMANDARINA.COM - Website Down\n",
            "Current session is 94375ba14d00f26143647277dad01562 - 555 - WWW.BAIRESGDL.COM - Good\n",
            "Current session is 022968629af9a584ec82999c17340a48 - 556 - WWW.BANGCOOK.COM - Good\n",
            "Current session is 9b566f2aad3066e0ef9bba4227276c08 - 557 - WWW.BARNABEU.COM - Good\n",
            "Current session is 5ac7befd88356c0f9e1676f3df0357c8 - 558 - WWW.BARRAGALERIADEARTE.COM - Good\n",
            "Current session is 38ab4ca323b06dfa8756c903af4117fb - 559 - WWW.BENDITODIATUX.COM - Good\n",
            "Current session is 19a9e0d79fb415f11fd8a2d092b57acf - 560 - WWW.BENEDETTISPIZZA.COM.MX - Website Down\n",
            "Current session is 1242c5819938f0a0bdbd398ce5ec51ad - 561 - WWW.BRICKBISTROBAR.COM - Good\n",
            "Current session is 27ab5589f55593454edcce0ca83b353d - 562 - WWW.BUFFALUCAS.COM - Good\n",
            "Current session is 395ca4071223586b11e41158da8c9a40 - 563 - LACAPITANIA.COM - Good\n",
            "Current session is c36b869d7a24a05949507bb008da313c - 564 - WWW.LOSLOOSERS.MX - Website Down\n",
            "Current session is 6045b3fc8f068b3c08e635d5b5cbcf9e - 565 - WWW.BAHIAFISHCO.COM - Bad\n",
            "Current session is 0cda6032b78a61d993787d0b57a01ba4 - 566 - WWW.GIANNINOS.COM.MX - Good\n",
            "Current session is 6fb08023789bf1499b11e40aa11362e7 - 567 - LUMBRERO.COM - Bad\n",
            "Current session is 1fb49504819bd82836c9ccba5eaeb6ea - 568 - WWW.DONPOLLO.COM - Good\n",
            "Current session is a51b67be30e9acd44687adaa6e96ecb7 - 569 - WWW.PIZZETA.COM.MX - Bad\n",
            "Current session is 7c92aae5296b1c478fafe14e77c223d8 - 570 - WWW.FRANCACHELA.COM.MX - Good\n",
            "Current session is 064eef2d769d6dfb94b476601efedbad - 571 - WWW.ELGUEROALTENO.COM - Good\n",
            "Current session is 21be0509767ce63ae7a8b38037727003 - 572 - WWW.BLPLAPALMA.COM - Good\n",
            "Current session is 5bce4e657ddd547391d82d0f7fe61e9d - 573 - WWW.ANTIGUATAQUERIALAORIENTAL.COM - Good\n",
            "Current session is d065ce544db0ba3e8bfc952433160fbc - 574 - WWW.AMOVIL.COM - Website Down\n",
            "Current session is c2da081c735d3216219b8dcf471fbe27 - 575 - WWW.CELULARMILENIUM.COM - Good\n",
            "Current session is 2b9096b864e5376aa8f711d9c13a490a - 576 - WWW.STEREN.COM.MX - Good\n",
            "Current session is 6c4ea036c52781059958b1f5a943822d - 577 - WWW.LLANTASDELAGO.COM - Good\n",
            "Current session is 3a067e028dc8fd4082e30458b51b9f41 - 578 - WWW.AVANTE.COM.MX - Good\n",
            "Current session is 7cddd00d42b2e78216ae20242f9cb826 - 579 - WWW.ASTROLLANTAS.COM.MX - Good\n",
            "Current session is 8c2e2709a0b94627888c377f159bca8e - 580 - WWW.SELLAESA.COM.MX - Bad\n",
            "Current session is 8fa1fd5bf9664d74452207ada45239fc - 581 - WWW.AVANTELLANTAS.COM - Good\n",
            "Current session is 5dacb32b8cba6c22891b963e0c9dbcac - 582 - WWW.LLAISA.COM - Good\n",
            "Current session is bf786c938a9314b7480d19b20ce03fc0 - 583 - WWW.GRUPOTERSA.COM.MX - Good\n",
            "Current session is 6b022dcb271e20c19416d4ac6e1b414f - 584 - WWW.GRUPOLLANTEROALFA.COM.MX - Website Down\n",
            "Current session is 46436d627ce4803495776b7384ad12de - 585 - WWW.GRUPOMULTILANTAS.COM - Website Down\n",
            "Current session is 2fc0f2bed51673fe56daaa2a71a7f2e1 - 586 - WWW.AUTOMALL.MX - Website Down\n",
            "Current session is 1874d24e4ad9eb09010e407046482ae9 - 587 - WWW.EGDAUTOMOVILES.COM - Good\n",
            "Current session is bb9d650d2ec7570b63b0fe50a85333c5 - 588 - WWW.AUTOEJECUTIVO.MX - Good\n",
            "Current session is fbd698f04745c427a7ea883d73f5f704 - 589 - WWW.CAMSAPUEBLA.COM - Good\n",
            "Current session is a57841ebb7af11eab39982c7cecb0fe7 - 590 - WWW.FBKMEXICO.COM - Bad\n",
            "Current session is d7d35ddb97fb95c00324185266b95ab2 - 591 - WWW.AMBIENTESSIL.COM - Good\n",
            "Current session is f305d254f5802183a5a6ea6eb7f5a068 - 592 - WWW.PAPELORO.COM - Good\n",
            "Current session is f516336478b6c0f6f517ad7615914f36 - 593 - WWW.ENTRENAFUNCIONALSHOP.COM - Good\n",
            "Current session is 4b6431b387f88733be8b172f7997441b - 594 - WWW.AVENTURANDO.COM.MX - Good\n",
            "Current session is 6287a3b4f6339962e302569f86406d2f - 595 - WWW.VANS.COM.MX - Good\n",
            "Current session is 3f19efdd169d7ae0945764253a58a2c4 - 596 - WWW.CALZZAPATO.COM - Website Down\n",
            "Current session is 075f32d12af49f712e3d9a1587d9737d - 597 - WWW.LUXSUN.COM.MX - Good\n",
            "Current session is d5e1250748072e72eb6e0fd8e6cb5176 - 598 - WWW.CEPRONSA.COM - Good\n",
            "Current session is eac8215b9da163d607e2491eca601161 - 599 - WWW.ARTESANIAS.YUCATAN.GOB.MX - Good\n",
            "Current session is a680b52019f57058136bdc1e0e870c22 - 600 - WWW.COOPERATIVA.COM.MX - Good\n",
            "Current session is 909741fdaccc7097796a32ea3965eb62 - 601 - WWW.ABARROTESLUPITA.COM.MX - Good\n",
            "Current session is 593a1613f701faca11ca5fe62f97b1d3 - 602 - WWW.AGUALUZ.COM.MX - Good\n",
            "Current session is 9abeffec3206615ed162d36342d5dc54 - 603 - WWW.GOCRA.COM.MX - Good\n",
            "Current session is c3fc12a8b2baa944e60b053d29aedf2c - 604 - WWW.FLUXOMETRO.COM - Good\n",
            "Current session is 0988086d4a2cc4b355d42037746ff6ce - 605 - WWW.GFCNAY.COM.MX - Good\n",
            "Current session is c06c45da20a562166efb4e4ed3f431b8 - 606 - WWW.PAOL.COM.MX - Bad\n",
            "Current session is 7277aa6560c06e1dacc7f4475e2ff80c - 607 - WWW.ALDOCONTI.COM - Good\n",
            "Current session is 270995886f6ce6acedd13e3b27d0d9a2 - 608 - WWW.BENETTON.COM - Good\n",
            "Current session is 9a466f31a1ac6d639b49de0c8cadb6de - 609 - WWW.BENETTONMEX.COM - Good\n",
            "Current session is bb4a1a7d6d1b9fbb1a93884a6afcb8de - 610 - WWW.PANARTESANAALMONTERREY.COM - Website Down\n",
            "Current session is 716549eb23685137a05234675423c8db - 611 - WWW.KRISPYKREME.COM - Good\n",
            "Current session is 15d41c377d3959e14e037f48cbaca71c - 612 - WWW.ALTAFIBRA.COM - Good\n",
            "Current session is 0ebc96979a8d03d89df229592b7a8e67 - 613 - ALTAFIBRAPAN.COM - Website Down\n",
            "Current session is dafacd74c782176be90a4692957b90f5 - 614 - WWW.BISCUI.COM.MX - Website Down\n",
            "Current session is 54c106e13a47fdb50e6b72154944bec3 - 615 - WWW.CALIFORNIAPASTELERIA.COM - Website Down\n",
            "Current session is 1f3dd7c039c0a1cc52f599eaf4af2b18 - 616 - WWW.BUBARU.COM - Bad\n",
            "Current session is 5061f309dd0b5da3e4ef7a48f3b17004 - 617 - WWW.ESPERANZA.MX - Good\n",
            "Current session is 24cc1ff05a7ad407e68009fb32c3b2ef - 618 - HTTP://WWW.DIMASUR.MX - Website Down\n",
            "Current session is d8e54810c90fc85a71a06116a1370d0c - 619 - WWW.EACO.COM.MX - Bad\n",
            "Current session is 4bff5607b70d8d482fac4165be946eeb - 620 - WWW.DIMASUR.COM.MX - Good\n",
            "Current session is 59cf3f257a4d1e9b4f009904457a1246 - 621 - WWW.BOMBASMINERAS.COM - Bad\n",
            "Current session is 4b454ff74834983ddd6b74f705a118bd - 622 - WWW.FRI.COM.MX - Good\n",
            "Current session is b5627293373431eec794694e389f5631 - 623 - WWW.CLIMASCONFORT.COM - Good\n",
            "Current session is 90c3a6e0f911b4370de0552e0fa2d99b - 624 - WWW.ARTEXA.COM - Good\n",
            "Current session is 09b2a0e79840aa899d608cfac08dcef0 - 625 - WWW.AMERKA.COM.MX - Website Down\n",
            "Current session is 78223ac36510b3e787cb0aef4656b2f9 - 626 - WWW.CODISAMEXT.COM - Website Down\n",
            "Current session is 460d9982624b5fd95e7dd0974440fe9c - 627 - WWW.ABSEBASCULAS.COM - Website Down\n",
            "Current session is d32e6936c03710f6463916ea07f8ba39 - 628 - WWW.KIT-SUPPLIES.COM - Website Down\n",
            "Current session is 2ffcf845e4c08d2a0b1ddf542bbc1ddb - 629 - WWW.COSMODEMEXICO.COM - Website Down\n",
            "Current session is e149155d6be285f1181a6506d2bffe06 - 630 - WWW.MAQUINORTEDEPUEBLA.COM - Website Down\n",
            "Current session is a291648bfbf94fdc398e3411c3cf83dd - 631 - WWW.EUROTEX.COM.MX - Bad\n",
            "Current session is 54e1f13ab984deca127071866d33d307 - 632 - WWW.CODEMET.COM.MX - Good\n",
            "Current session is a44288fb40f4430daeb661e10d800389 - 633 - WWW.CASADIAZ.COM.MX - Good\n",
            "Current session is 13693b1baac5da1744469001887ee389 - 634 - WWW.BARMEX.COM.MX - Bad\n",
            "Current session is 428c2a9cf08a618224f7707fae8b1060 - 635 - WWW.DIENSA.COM.MX - Good\n",
            "Current session is 85dfdd854b4c5f6be40c655911a2b663 - 636 - WWW.INTERBELT.COM - Website Down\n",
            "Current session is 081c8a8f9a0c71ff3509260d5a9abc01 - 637 - WWW.BIOQUIMICOS.MX - Good\n",
            "Current session is e8d9aa8c64df4e62afacc8f75f781ddb - 638 - WWW.CEVEHERRAMIENTAS.COM - Website Down\n",
            "Current session is 67751bc4760e3cd10056a79335d7b0ff - 639 - WWW.DANAMEX.COM - Bad\n"
          ],
          "name": "stdout"
        },
        {
          "output_type": "error",
          "ename": "KeyError",
          "evalue": "ignored",
          "traceback": [
            "\u001b[0;31m---------------------------------------------------------------------------\u001b[0m",
            "\u001b[0;31mKeyError\u001b[0m                                  Traceback (most recent call last)",
            "\u001b[0;32m<ipython-input-10-4b64bb7cd0c6>\u001b[0m in \u001b[0;36m<module>\u001b[0;34m()\u001b[0m\n\u001b[1;32m      5\u001b[0m   \u001b[0mwc\u001b[0m\u001b[0;34m.\u001b[0m\u001b[0mmain_func\u001b[0m\u001b[0;34m(\u001b[0m\u001b[0mstr\u001b[0m\u001b[0;34m(\u001b[0m\u001b[0mwebsites\u001b[0m\u001b[0;34m)\u001b[0m\u001b[0;34m)\u001b[0m\u001b[0;34m\u001b[0m\u001b[0;34m\u001b[0m\u001b[0m\n\u001b[1;32m      6\u001b[0m   \u001b[0mi\u001b[0m\u001b[0;34m=\u001b[0m\u001b[0mi\u001b[0m\u001b[0;34m+\u001b[0m\u001b[0;36m1\u001b[0m\u001b[0;34m\u001b[0m\u001b[0;34m\u001b[0m\u001b[0m\n\u001b[0;32m----> 7\u001b[0;31m   \u001b[0mprint\u001b[0m\u001b[0;34m(\u001b[0m\u001b[0;34m\"Current session is {} - {} - {} - {}\"\u001b[0m\u001b[0;34m.\u001b[0m\u001b[0mformat\u001b[0m\u001b[0;34m(\u001b[0m\u001b[0mwc\u001b[0m\u001b[0;34m.\u001b[0m\u001b[0mdriver\u001b[0m\u001b[0;34m.\u001b[0m\u001b[0msession_id\u001b[0m\u001b[0;34m,\u001b[0m \u001b[0mi\u001b[0m\u001b[0;34m,\u001b[0m \u001b[0mstr\u001b[0m\u001b[0;34m(\u001b[0m\u001b[0mwebsites\u001b[0m\u001b[0;34m)\u001b[0m\u001b[0;34m,\u001b[0m \u001b[0mwc\u001b[0m\u001b[0;34m.\u001b[0m\u001b[0mdict1\u001b[0m\u001b[0;34m[\u001b[0m\u001b[0mstr\u001b[0m\u001b[0;34m(\u001b[0m\u001b[0mwebsites\u001b[0m\u001b[0;34m)\u001b[0m\u001b[0;34m]\u001b[0m\u001b[0;34m)\u001b[0m\u001b[0;34m)\u001b[0m\u001b[0;34m\u001b[0m\u001b[0;34m\u001b[0m\u001b[0m\n\u001b[0m\u001b[1;32m      8\u001b[0m   \u001b[0mwc\u001b[0m\u001b[0;34m.\u001b[0m\u001b[0mdriver\u001b[0m\u001b[0;34m.\u001b[0m\u001b[0mclose\u001b[0m\u001b[0;34m(\u001b[0m\u001b[0;34m)\u001b[0m\u001b[0;34m\u001b[0m\u001b[0;34m\u001b[0m\u001b[0m\n",
            "\u001b[0;31mKeyError\u001b[0m: 'WWW.EQUIPOSDE ABRASION.COM.MX'"
          ]
        }
      ]
    },
    {
      "cell_type": "code",
      "metadata": {
        "id": "qW2ARvP1AKCw",
        "colab_type": "code",
        "colab": {}
      },
      "source": [
        "wc.driver.quit()"
      ],
      "execution_count": null,
      "outputs": []
    },
    {
      "cell_type": "code",
      "metadata": {
        "id": "2KRQlE10Uv3_",
        "colab_type": "code",
        "colab": {}
      },
      "source": [
        "backup = wc.dict1"
      ],
      "execution_count": 11,
      "outputs": []
    },
    {
      "cell_type": "markdown",
      "metadata": {
        "id": "OIq0NDFf6U_y",
        "colab_type": "text"
      },
      "source": [
        "#Preprocessing"
      ]
    },
    {
      "cell_type": "markdown",
      "metadata": {
        "id": "mlIETfeG6axF",
        "colab_type": "text"
      },
      "source": [
        "###Label null website as \"No Website\" and create a column for ranking"
      ]
    },
    {
      "cell_type": "code",
      "metadata": {
        "id": "9JvXZPzop6M7",
        "colab_type": "code",
        "colab": {
          "base_uri": "https://localhost:8080/",
          "height": 204
        },
        "outputId": "989b8f32-f31b-4809-dcc3-a8434fcc68fd"
      },
      "source": [
        "import numpy as np\n",
        "data_i['website'].fillna(\"No Website\", inplace = True)\n",
        "data_i['wresult'] = np.nan\n",
        "data_f = data_i.copy()"
      ],
      "execution_count": 12,
      "outputs": [
        {
          "output_type": "stream",
          "text": [
            "/usr/local/lib/python3.6/dist-packages/pandas/core/generic.py:6245: SettingWithCopyWarning: \n",
            "A value is trying to be set on a copy of a slice from a DataFrame\n",
            "\n",
            "See the caveats in the documentation: https://pandas.pydata.org/pandas-docs/stable/user_guide/indexing.html#returning-a-view-versus-a-copy\n",
            "  self._update_inplace(new_data)\n",
            "/usr/local/lib/python3.6/dist-packages/ipykernel_launcher.py:3: SettingWithCopyWarning: \n",
            "A value is trying to be set on a copy of a slice from a DataFrame.\n",
            "Try using .loc[row_indexer,col_indexer] = value instead\n",
            "\n",
            "See the caveats in the documentation: https://pandas.pydata.org/pandas-docs/stable/user_guide/indexing.html#returning-a-view-versus-a-copy\n",
            "  This is separate from the ipykernel package so we can avoid doing imports until\n"
          ],
          "name": "stderr"
        }
      ]
    },
    {
      "cell_type": "markdown",
      "metadata": {
        "id": "YiBMtbOI8VVl",
        "colab_type": "text"
      },
      "source": [
        "Assign ranking value from classifiction result dictionary"
      ]
    },
    {
      "cell_type": "code",
      "metadata": {
        "id": "aZRGwH3uwEuc",
        "colab_type": "code",
        "colab": {
          "base_uri": "https://localhost:8080/",
          "height": 102
        },
        "outputId": "1956e877-2a04-4171-ff3c-aa9c48164e62"
      },
      "source": [
        "#need to optimize\n",
        "for key, value in wc.dict1.items():\n",
        "  for website in data_f['website']:\n",
        "    if website == \"No Website\":\n",
        "      data_f['wresult'].loc[data_f['website']==website] = \"Website not available\"\n",
        "    elif website == key:\n",
        "      data_f['wresult'].loc[data_f['website']==website] = wc.dict1[website]\n",
        "      \n",
        "# status = pd.DataFrame(list(wc.dict1.items()),columns = ['website','status'])\n",
        "# status.head(10)"
      ],
      "execution_count": 13,
      "outputs": [
        {
          "output_type": "stream",
          "text": [
            "/usr/local/lib/python3.6/dist-packages/pandas/core/indexing.py:671: SettingWithCopyWarning: \n",
            "A value is trying to be set on a copy of a slice from a DataFrame\n",
            "\n",
            "See the caveats in the documentation: https://pandas.pydata.org/pandas-docs/stable/user_guide/indexing.html#returning-a-view-versus-a-copy\n",
            "  self._setitem_with_indexer(indexer, value)\n"
          ],
          "name": "stderr"
        }
      ]
    },
    {
      "cell_type": "markdown",
      "metadata": {
        "id": "oQDb3Zb_AYbI",
        "colab_type": "text"
      },
      "source": [
        "Drop all rows having unlabled website"
      ]
    },
    {
      "cell_type": "code",
      "metadata": {
        "id": "dFOKCNdB0ckT",
        "colab_type": "code",
        "colab": {}
      },
      "source": [
        "data_final = data_f[['no_of_employees','wresult', 'send']].dropna()"
      ],
      "execution_count": 14,
      "outputs": []
    },
    {
      "cell_type": "markdown",
      "metadata": {
        "id": "PjLbS86zA2lQ",
        "colab_type": "text"
      },
      "source": [
        "Final unincoded data"
      ]
    },
    {
      "cell_type": "code",
      "metadata": {
        "id": "u8RzUZb03YAh",
        "colab_type": "code",
        "colab": {
          "base_uri": "https://localhost:8080/",
          "height": 34
        },
        "outputId": "4f801c12-d872-48a4-ad8d-6251aca782b1"
      },
      "source": [
        "data_final.shape"
      ],
      "execution_count": 15,
      "outputs": [
        {
          "output_type": "execute_result",
          "data": {
            "text/plain": [
              "(1440, 3)"
            ]
          },
          "metadata": {
            "tags": []
          },
          "execution_count": 15
        }
      ]
    },
    {
      "cell_type": "code",
      "metadata": {
        "id": "bZGSx7tpA8RL",
        "colab_type": "code",
        "colab": {
          "base_uri": "https://localhost:8080/",
          "height": 359
        },
        "outputId": "b4f3b766-c138-48ec-b5e7-afbaef3ef199"
      },
      "source": [
        "data_final.sample(10)"
      ],
      "execution_count": 16,
      "outputs": [
        {
          "output_type": "execute_result",
          "data": {
            "text/html": [
              "<div>\n",
              "<style scoped>\n",
              "    .dataframe tbody tr th:only-of-type {\n",
              "        vertical-align: middle;\n",
              "    }\n",
              "\n",
              "    .dataframe tbody tr th {\n",
              "        vertical-align: top;\n",
              "    }\n",
              "\n",
              "    .dataframe thead th {\n",
              "        text-align: right;\n",
              "    }\n",
              "</style>\n",
              "<table border=\"1\" class=\"dataframe\">\n",
              "  <thead>\n",
              "    <tr style=\"text-align: right;\">\n",
              "      <th></th>\n",
              "      <th>no_of_employees</th>\n",
              "      <th>wresult</th>\n",
              "      <th>send</th>\n",
              "    </tr>\n",
              "  </thead>\n",
              "  <tbody>\n",
              "    <tr>\n",
              "      <th>8675</th>\n",
              "      <td>0 a 5 personas</td>\n",
              "      <td>Website not available</td>\n",
              "      <td>NOT SEND</td>\n",
              "    </tr>\n",
              "    <tr>\n",
              "      <th>40</th>\n",
              "      <td>6 a 10 personas</td>\n",
              "      <td>Good</td>\n",
              "      <td>SEND</td>\n",
              "    </tr>\n",
              "    <tr>\n",
              "      <th>2579</th>\n",
              "      <td>6 a 10 personas</td>\n",
              "      <td>Good</td>\n",
              "      <td>NOT SEND</td>\n",
              "    </tr>\n",
              "    <tr>\n",
              "      <th>405</th>\n",
              "      <td>6 a 10 personas</td>\n",
              "      <td>Website Down</td>\n",
              "      <td>SEND</td>\n",
              "    </tr>\n",
              "    <tr>\n",
              "      <th>44</th>\n",
              "      <td>6 a 10 personas</td>\n",
              "      <td>Website not available</td>\n",
              "      <td>SEND</td>\n",
              "    </tr>\n",
              "    <tr>\n",
              "      <th>39</th>\n",
              "      <td>6 a 10 personas</td>\n",
              "      <td>Good</td>\n",
              "      <td>SEND</td>\n",
              "    </tr>\n",
              "    <tr>\n",
              "      <th>321</th>\n",
              "      <td>0 a 5 personas</td>\n",
              "      <td>Bad</td>\n",
              "      <td>NOT SEND</td>\n",
              "    </tr>\n",
              "    <tr>\n",
              "      <th>9627</th>\n",
              "      <td>0 a 5 personas</td>\n",
              "      <td>Website not available</td>\n",
              "      <td>NOT SEND</td>\n",
              "    </tr>\n",
              "    <tr>\n",
              "      <th>441</th>\n",
              "      <td>6 a 10 personas</td>\n",
              "      <td>Bad</td>\n",
              "      <td>SEND</td>\n",
              "    </tr>\n",
              "    <tr>\n",
              "      <th>1458</th>\n",
              "      <td>6 a 10 personas</td>\n",
              "      <td>Website Down</td>\n",
              "      <td>NOT SEND</td>\n",
              "    </tr>\n",
              "  </tbody>\n",
              "</table>\n",
              "</div>"
            ],
            "text/plain": [
              "      no_of_employees                wresult      send\n",
              "8675   0 a 5 personas  Website not available  NOT SEND\n",
              "40    6 a 10 personas                   Good      SEND\n",
              "2579  6 a 10 personas                   Good  NOT SEND\n",
              "405   6 a 10 personas           Website Down      SEND\n",
              "44    6 a 10 personas  Website not available      SEND\n",
              "39    6 a 10 personas                   Good      SEND\n",
              "321    0 a 5 personas                    Bad  NOT SEND\n",
              "9627   0 a 5 personas  Website not available  NOT SEND\n",
              "441   6 a 10 personas                    Bad      SEND\n",
              "1458  6 a 10 personas           Website Down  NOT SEND"
            ]
          },
          "metadata": {
            "tags": []
          },
          "execution_count": 16
        }
      ]
    },
    {
      "cell_type": "markdown",
      "metadata": {
        "id": "aQCYpNsc4Uo2",
        "colab_type": "text"
      },
      "source": [
        "###Encoding features"
      ]
    },
    {
      "cell_type": "code",
      "metadata": {
        "colab_type": "code",
        "id": "MCy-JSJUGZ-J",
        "colab": {
          "base_uri": "https://localhost:8080/",
          "height": 142
        },
        "outputId": "b4a8da4d-c55c-4465-bef5-142f70cc52b8"
      },
      "source": [
        "#Website available or not (label encoding)\n",
        "#data['wresult'] = (data_final['wresult'] != \"Website not available\").astype('category').cat.codes4\n",
        "\n",
        "#Label\n",
        "# data = pd.DataFrame([data_final[x].astype('category').cat.codes for x in ['no_of_employees', 'wresult', 'send']])\n",
        "# data = data.T\n",
        "# data.columns = ['emp size', 'wresult', 'send']\n",
        "\n",
        "#one hot\n",
        "# data = pd.get_dummies(data_final[['no_of_employees', 'wresult']])\n",
        "# data['send'] = data_final['send'].astype('category').cat.codes\n",
        "\n",
        "#replace\n",
        "data = data_final.copy()\n",
        "rep = {\"no_of_employees\": {\"6 a 10 personas\": 8, \"0 a 5 personas\": 3},\n",
        "                 \"send\": {\"SEND\": 1, \"NOT SEND\": 0},\n",
        "                 \"wresult\": {\"Good\": 3, \"Bad\": 2, \"Website Down\": 1, \"Website not available\": 0}\n",
        "                 }\n",
        "data.replace(rep, inplace=True)\n",
        "\n",
        "data.sample(3)"
      ],
      "execution_count": 17,
      "outputs": [
        {
          "output_type": "execute_result",
          "data": {
            "text/html": [
              "<div>\n",
              "<style scoped>\n",
              "    .dataframe tbody tr th:only-of-type {\n",
              "        vertical-align: middle;\n",
              "    }\n",
              "\n",
              "    .dataframe tbody tr th {\n",
              "        vertical-align: top;\n",
              "    }\n",
              "\n",
              "    .dataframe thead th {\n",
              "        text-align: right;\n",
              "    }\n",
              "</style>\n",
              "<table border=\"1\" class=\"dataframe\">\n",
              "  <thead>\n",
              "    <tr style=\"text-align: right;\">\n",
              "      <th></th>\n",
              "      <th>no_of_employees</th>\n",
              "      <th>wresult</th>\n",
              "      <th>send</th>\n",
              "    </tr>\n",
              "  </thead>\n",
              "  <tbody>\n",
              "    <tr>\n",
              "      <th>636</th>\n",
              "      <td>3</td>\n",
              "      <td>0</td>\n",
              "      <td>1</td>\n",
              "    </tr>\n",
              "    <tr>\n",
              "      <th>1655</th>\n",
              "      <td>8</td>\n",
              "      <td>1</td>\n",
              "      <td>1</td>\n",
              "    </tr>\n",
              "    <tr>\n",
              "      <th>315</th>\n",
              "      <td>3</td>\n",
              "      <td>0</td>\n",
              "      <td>1</td>\n",
              "    </tr>\n",
              "  </tbody>\n",
              "</table>\n",
              "</div>"
            ],
            "text/plain": [
              "      no_of_employees  wresult  send\n",
              "636                 3        0     1\n",
              "1655                8        1     1\n",
              "315                 3        0     1"
            ]
          },
          "metadata": {
            "tags": []
          },
          "execution_count": 17
        }
      ]
    },
    {
      "cell_type": "markdown",
      "metadata": {
        "id": "TdsY-AtLCAty",
        "colab_type": "text"
      },
      "source": [
        "Split feature and label set"
      ]
    },
    {
      "cell_type": "code",
      "metadata": {
        "id": "fQKt6sC4x6vF",
        "colab_type": "code",
        "colab": {}
      },
      "source": [
        "X = data.values[:, :-1].astype(float)\n",
        "y = data.values[:, -1].astype(float)"
      ],
      "execution_count": 18,
      "outputs": []
    },
    {
      "cell_type": "markdown",
      "metadata": {
        "id": "OqlPujEZCHfJ",
        "colab_type": "text"
      },
      "source": [
        "Train test split"
      ]
    },
    {
      "cell_type": "code",
      "metadata": {
        "id": "hlLYZOlUz0nd",
        "colab_type": "code",
        "colab": {}
      },
      "source": [
        "from sklearn.model_selection import train_test_split\n",
        "X_train, X_test, y_train, y_test = train_test_split(X, y, stratify=y, test_size=0.3)"
      ],
      "execution_count": 19,
      "outputs": []
    },
    {
      "cell_type": "markdown",
      "metadata": {
        "id": "oucghdLoCX-X",
        "colab_type": "text"
      },
      "source": [
        "Check the size of train test"
      ]
    },
    {
      "cell_type": "code",
      "metadata": {
        "id": "vavjvs9HixkL",
        "colab_type": "code",
        "colab": {
          "base_uri": "https://localhost:8080/",
          "height": 34
        },
        "outputId": "d9276013-9ad6-4d4a-a60f-09d266969994"
      },
      "source": [
        "(X_train.shape, X_test.shape)"
      ],
      "execution_count": 20,
      "outputs": [
        {
          "output_type": "execute_result",
          "data": {
            "text/plain": [
              "((1008, 2), (432, 2))"
            ]
          },
          "metadata": {
            "tags": []
          },
          "execution_count": 20
        }
      ]
    },
    {
      "cell_type": "markdown",
      "metadata": {
        "id": "Ij3JVt2NCtlx",
        "colab_type": "text"
      },
      "source": [
        "###Train the model"
      ]
    },
    {
      "cell_type": "code",
      "metadata": {
        "id": "bbDplqSlz_fx",
        "colab_type": "code",
        "colab": {
          "base_uri": "https://localhost:8080/",
          "height": 102
        },
        "outputId": "ecd71ecd-e7f9-4672-ce41-f3640d5d3ee7"
      },
      "source": [
        "from sklearn.linear_model import LogisticRegression\n",
        "logreg = LogisticRegression(max_iter=1000)\n",
        "logreg.fit(X_train,y_train)"
      ],
      "execution_count": 21,
      "outputs": [
        {
          "output_type": "execute_result",
          "data": {
            "text/plain": [
              "LogisticRegression(C=1.0, class_weight=None, dual=False, fit_intercept=True,\n",
              "                   intercept_scaling=1, l1_ratio=None, max_iter=1000,\n",
              "                   multi_class='auto', n_jobs=None, penalty='l2',\n",
              "                   random_state=None, solver='lbfgs', tol=0.0001, verbose=0,\n",
              "                   warm_start=False)"
            ]
          },
          "metadata": {
            "tags": []
          },
          "execution_count": 21
        }
      ]
    },
    {
      "cell_type": "markdown",
      "metadata": {
        "id": "Dcp63u49CyXv",
        "colab_type": "text"
      },
      "source": [
        "###Predict from test set"
      ]
    },
    {
      "cell_type": "code",
      "metadata": {
        "id": "QMoJ54G70KZr",
        "colab_type": "code",
        "colab": {}
      },
      "source": [
        "y_pred=logreg.predict(X_test)"
      ],
      "execution_count": 22,
      "outputs": []
    },
    {
      "cell_type": "markdown",
      "metadata": {
        "id": "7iZtGUwzPoWp",
        "colab_type": "text"
      },
      "source": [
        "Inverse Encoding"
      ]
    },
    {
      "cell_type": "code",
      "metadata": {
        "id": "AlZYsamCOlNi",
        "colab_type": "code",
        "colab": {}
      },
      "source": [
        "class0 = data_final['send'].astype('category').cat.categories[0]\n",
        "class1 = data_final['send'].astype('category').cat.categories[1]\n",
        "labels = [class0, class1]"
      ],
      "execution_count": 23,
      "outputs": []
    },
    {
      "cell_type": "markdown",
      "metadata": {
        "id": "biqNf9_rC6fb",
        "colab_type": "text"
      },
      "source": [
        "###Metrices"
      ]
    },
    {
      "cell_type": "code",
      "metadata": {
        "id": "4z2x6QpinlBx",
        "colab_type": "code",
        "colab": {
          "base_uri": "https://localhost:8080/",
          "height": 349
        },
        "outputId": "434a07d4-bccf-462a-a529-cd33f43bbeb6"
      },
      "source": [
        "from sklearn import metrics\n",
        "import seaborn as sns\n",
        "import matplotlib.pyplot as plt     \n",
        "cm = metrics.confusion_matrix(y_test, y_pred)\n",
        "ax= plt.subplot()\n",
        "sns.heatmap(cm, annot=True, ax = ax); \n",
        "ax.set_xlabel('Predicted labels');ax.set_ylabel('True labels'); \n",
        "ax.set_title('Confusion Matrix'); \n",
        "ax.xaxis.set_ticklabels(labels); ax.yaxis.set_ticklabels(labels);"
      ],
      "execution_count": 24,
      "outputs": [
        {
          "output_type": "stream",
          "text": [
            "/usr/local/lib/python3.6/dist-packages/statsmodels/tools/_testing.py:19: FutureWarning: pandas.util.testing is deprecated. Use the functions in the public API at pandas.testing instead.\n",
            "  import pandas.util.testing as tm\n"
          ],
          "name": "stderr"
        },
        {
          "output_type": "display_data",
          "data": {
            "image/png": "[encoded data removed]",
            "text/plain": [
              "<Figure size 432x288 with 2 Axes>"
            ]
          },
          "metadata": {
            "tags": [],
            "needs_background": "light"
          }
        }
      ]
    },
    {
      "cell_type": "code",
      "metadata": {
        "id": "rfdcbxSV2HGJ",
        "colab_type": "code",
        "colab": {
          "base_uri": "https://localhost:8080/",
          "height": 68
        },
        "outputId": "31698b63-5b5d-47de-993b-7b5ede64a0d6"
      },
      "source": [
        "print(\"Accuracy:\",metrics.accuracy_score(y_test, y_pred))\n",
        "print(\"Precision:\",metrics.precision_score(y_test, y_pred))\n",
        "print(\"Recall:\",metrics.recall_score(y_test, y_pred))"
      ],
      "execution_count": 25,
      "outputs": [
        {
          "output_type": "stream",
          "text": [
            "Accuracy: 0.5625\n",
            "Precision: 0.5955678670360111\n",
            "Recall: 0.8333333333333334\n"
          ],
          "name": "stdout"
        }
      ]
    },
    {
      "cell_type": "markdown",
      "metadata": {
        "id": "hSNHWR11DMeL",
        "colab_type": "text"
      },
      "source": [
        "ROC Curve"
      ]
    },
    {
      "cell_type": "code",
      "metadata": {
        "id": "0Uij-vCC2NpO",
        "colab_type": "code",
        "colab": {
          "base_uri": "https://localhost:8080/",
          "height": 265
        },
        "outputId": "428b40a6-2b7d-4a45-b17d-6bdb74c513d6"
      },
      "source": [
        "y_pred_proba = logreg.predict_proba(X_test)[::,1]\n",
        "fpr, tpr, _ = metrics.roc_curve(y_test,  y_pred_proba)\n",
        "auc = metrics.roc_auc_score(y_test, y_pred_proba)\n",
        "plt.plot(fpr,tpr,label=\"data 1, auc=\"+str(auc))\n",
        "plt.legend(loc=4)\n",
        "plt.show()"
      ],
      "execution_count": 26,
      "outputs": [
        {
          "output_type": "display_data",
          "data": {
            "image/png": "[encoded data removed]",
            "text/plain": [
              "<Figure size 432x288 with 1 Axes>"
            ]
          },
          "metadata": {
            "tags": [],
            "needs_background": "light"
          }
        }
      ]
    },
    {
      "cell_type": "code",
      "metadata": {
        "id": "Tw5QmoNlJUPi",
        "colab_type": "code",
        "colab": {}
      },
      "source": [
        ""
      ],
      "execution_count": 26,
      "outputs": []
    },
    {
      "cell_type": "markdown",
      "metadata": {
        "id": "_iPuVfYdpd8t",
        "colab_type": "text"
      },
      "source": [
        "#Decision Tree Classifier"
      ]
    },
    {
      "cell_type": "code",
      "metadata": {
        "id": "tLP2qTAWgO74",
        "colab_type": "code",
        "colab": {}
      },
      "source": [
        "data = pd.get_dummies(data_final[['no_of_employees', 'wresult']])\n",
        "data['send'] = data_final['send'].astype('category').cat.codes"
      ],
      "execution_count": 27,
      "outputs": []
    },
    {
      "cell_type": "code",
      "metadata": {
        "id": "Bx6JT0TxhgXP",
        "colab_type": "code",
        "colab": {
          "base_uri": "https://localhost:8080/",
          "height": 80
        },
        "outputId": "e02cf91e-4425-4deb-ebf6-59a2ddfe4423"
      },
      "source": [
        "data.sample()"
      ],
      "execution_count": 28,
      "outputs": [
        {
          "output_type": "execute_result",
          "data": {
            "text/html": [
              "<div>\n",
              "<style scoped>\n",
              "    .dataframe tbody tr th:only-of-type {\n",
              "        vertical-align: middle;\n",
              "    }\n",
              "\n",
              "    .dataframe tbody tr th {\n",
              "        vertical-align: top;\n",
              "    }\n",
              "\n",
              "    .dataframe thead th {\n",
              "        text-align: right;\n",
              "    }\n",
              "</style>\n",
              "<table border=\"1\" class=\"dataframe\">\n",
              "  <thead>\n",
              "    <tr style=\"text-align: right;\">\n",
              "      <th></th>\n",
              "      <th>no_of_employees_0 a 5 personas</th>\n",
              "      <th>no_of_employees_6 a 10 personas</th>\n",
              "      <th>wresult_Bad</th>\n",
              "      <th>wresult_Good</th>\n",
              "      <th>wresult_Website Down</th>\n",
              "      <th>wresult_Website not available</th>\n",
              "      <th>send</th>\n",
              "    </tr>\n",
              "  </thead>\n",
              "  <tbody>\n",
              "    <tr>\n",
              "      <th>299</th>\n",
              "      <td>1</td>\n",
              "      <td>0</td>\n",
              "      <td>0</td>\n",
              "      <td>1</td>\n",
              "      <td>0</td>\n",
              "      <td>0</td>\n",
              "      <td>1</td>\n",
              "    </tr>\n",
              "  </tbody>\n",
              "</table>\n",
              "</div>"
            ],
            "text/plain": [
              "     no_of_employees_0 a 5 personas  ...  send\n",
              "299                               1  ...     1\n",
              "\n",
              "[1 rows x 7 columns]"
            ]
          },
          "metadata": {
            "tags": []
          },
          "execution_count": 28
        }
      ]
    },
    {
      "cell_type": "code",
      "metadata": {
        "colab_type": "code",
        "id": "A9TrzMxGfvuq",
        "colab": {}
      },
      "source": [
        "X = data.values[:, :-1].astype(float)\n",
        "y = data.values[:, -1].astype(float)"
      ],
      "execution_count": 29,
      "outputs": []
    },
    {
      "cell_type": "code",
      "metadata": {
        "colab_type": "code",
        "id": "Zm6xLtalfvuu",
        "colab": {}
      },
      "source": [
        "from sklearn.model_selection import train_test_split\n",
        "X_train, X_test, y_train, y_test = train_test_split(X, y, stratify=y, test_size=0.2)"
      ],
      "execution_count": 30,
      "outputs": []
    },
    {
      "cell_type": "code",
      "metadata": {
        "id": "ryu9oKzSpPvu",
        "colab_type": "code",
        "colab": {
          "base_uri": "https://localhost:8080/",
          "height": 34
        },
        "outputId": "571b23b3-41df-4bb9-887d-46e09e0930be"
      },
      "source": [
        "from sklearn.tree import DecisionTreeClassifier\n",
        "from sklearn import metrics\n",
        "clf = DecisionTreeClassifier()\n",
        "clf = clf.fit(X_train,y_train)\n",
        "y_pred = clf.predict(X_test)\n",
        "print(\"Accuracy:\",metrics.accuracy_score(y_test, y_pred))"
      ],
      "execution_count": 31,
      "outputs": [
        {
          "output_type": "stream",
          "text": [
            "Accuracy: 0.6493055555555556\n"
          ],
          "name": "stdout"
        }
      ]
    },
    {
      "cell_type": "code",
      "metadata": {
        "id": "4g3pQHEsp2ve",
        "colab_type": "code",
        "colab": {
          "base_uri": "https://localhost:8080/",
          "height": 807
        },
        "outputId": "75fa8976-92d1-4946-d4e7-bc90b82c7e25"
      },
      "source": [
        "from sklearn.tree import export_graphviz\n",
        "from sklearn.externals.six import StringIO  \n",
        "from IPython.display import Image  \n",
        "import pydotplus\n",
        "\n",
        "dot_data = StringIO()\n",
        "export_graphviz(clf, out_file=dot_data,  \n",
        "                filled=True, rounded=True,\n",
        "                special_characters=True,feature_names = data.columns[:-1],class_names=labels)\n",
        "graph = pydotplus.graph_from_dot_data(dot_data.getvalue())  \n",
        "graph.write_png('send_not_send.png')\n",
        "Image(graph.create_png())"
      ],
      "execution_count": 32,
      "outputs": [
        {
          "output_type": "stream",
          "text": [
            "/usr/local/lib/python3.6/dist-packages/sklearn/externals/six.py:31: FutureWarning: The module is deprecated in version 0.21 and will be removed in version 0.23 since we've dropped support for Python 2.7. Please rely on the official version of six (https://pypi.org/project/six/).\n",
            "  \"(https://pypi.org/project/six/).\", FutureWarning)\n"
          ],
          "name": "stderr"
        },
        {
          "output_type": "execute_result",
          "data": {
            "image/png": "[encoded data removed]",
            "text/plain": [
              "<IPython.core.display.Image object>"
            ]
          },
          "metadata": {
            "tags": []
          },
          "execution_count": 32
        }
      ]
    },
    {
      "cell_type": "code",
      "metadata": {
        "id": "eVUwHVTQiMj9",
        "colab_type": "code",
        "colab": {}
      },
      "source": [
        ""
      ],
      "execution_count": 32,
      "outputs": []
    }
  ]
}